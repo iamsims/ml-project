{
 "cells": [
  {
   "metadata": {
    "ExecuteTime": {
     "end_time": "2024-12-03T22:26:17.603186Z",
     "start_time": "2024-12-03T22:26:17.383143Z"
    }
   },
   "cell_type": "code",
   "source": [
    "# All imports\n",
    "import urllib.request\n",
    "import zipfile\n",
    "import pandas as pd\n",
    "from sklearn.preprocessing import StandardScaler\n",
    "import seaborn as sns\n",
    "from sklearn.model_selection import RandomizedSearchCV, StratifiedKFold\n",
    "from sklearn.linear_model import LogisticRegression\n",
    "from sklearn.svm import SVC\n",
    "from sklearn.ensemble import RandomForestClassifier\n",
    "from sklearn.model_selection import train_test_split\n",
    "from sklearn.metrics import classification_report, accuracy_score, confusion_matrix\n",
    "from sklearn.decomposition import PCA\n",
    "import matplotlib.pyplot as plt\n",
    "import numpy as np\n",
    "from imblearn.over_sampling import SMOTE\n",
    "from sklearn.model_selection import cross_validate\n",
    "from sklearn.metrics import make_scorer, precision_score, recall_score, f1_score\n"
   ],
   "id": "49d4ba08f9837164",
   "outputs": [],
   "execution_count": 1
  },
  {
   "metadata": {},
   "cell_type": "markdown",
   "source": "# Downloading and loading the dataset",
   "id": "194a3b0bbca33912"
  },
  {
   "metadata": {
    "ExecuteTime": {
     "end_time": "2024-12-03T22:26:20.972514Z",
     "start_time": "2024-12-03T22:26:18.948028Z"
    }
   },
   "cell_type": "code",
   "source": [
    "\n",
    "# Download the dataset : Commented out as the dataset is already downloaded\n",
    "url = \"https://archive.ics.uci.edu/ml/machine-learning-databases/00222/bank-additional.zip\"\n",
    "filename = \"data/bank-additional.zip\"\n",
    "urllib.request.urlretrieve(url, filename)\n"
   ],
   "id": "fbc121e30a2defb3",
   "outputs": [
    {
     "data": {
      "text/plain": [
       "('data/bank-additional.zip', <http.client.HTTPMessage at 0x1235874a0>)"
      ]
     },
     "execution_count": 2,
     "metadata": {},
     "output_type": "execute_result"
    }
   ],
   "execution_count": 2
  },
  {
   "metadata": {
    "ExecuteTime": {
     "end_time": "2024-12-03T22:26:21.825275Z",
     "start_time": "2024-12-03T22:26:21.812711Z"
    }
   },
   "cell_type": "code",
   "source": [
    "# Unzip the file: Commented out as the dataset is already downloaded\n",
    "with zipfile.ZipFile(filename,'r') as zip_ref:\n",
    "    zip_ref.extractall(\"./data/\")\n"
   ],
   "id": "c37ac599738182c5",
   "outputs": [],
   "execution_count": 3
  },
  {
   "metadata": {
    "ExecuteTime": {
     "end_time": "2024-12-03T22:26:23.090279Z",
     "start_time": "2024-12-03T22:26:23.019251Z"
    }
   },
   "cell_type": "code",
   "source": [
    "# Load the dataset\n",
    "data = pd.read_csv(\"data/bank-additional/bank-additional-full.csv\", sep=\";\")\n",
    "# Print a sample of the dataset\n",
    "print(\"First few rows of the dataset:\")\n",
    "print(data.head())\n",
    "# Print feature names\n",
    "print(\"\\nFeatures in the dataset:\")\n",
    "print(data.columns.tolist())\n",
    "# Display basic information about the dataset\n",
    "print(\"\\nDataset info:\")\n",
    "print(data.info())"
   ],
   "id": "2d8337b5b40e3a4d",
   "outputs": [
    {
     "name": "stdout",
     "output_type": "stream",
     "text": [
      "First few rows of the dataset:\n",
      "   age        job  marital    education  default housing loan    contact  \\\n",
      "0   56  housemaid  married     basic.4y       no      no   no  telephone   \n",
      "1   57   services  married  high.school  unknown      no   no  telephone   \n",
      "2   37   services  married  high.school       no     yes   no  telephone   \n",
      "3   40     admin.  married     basic.6y       no      no   no  telephone   \n",
      "4   56   services  married  high.school       no      no  yes  telephone   \n",
      "\n",
      "  month day_of_week  ...  campaign  pdays  previous     poutcome emp.var.rate  \\\n",
      "0   may         mon  ...         1    999         0  nonexistent          1.1   \n",
      "1   may         mon  ...         1    999         0  nonexistent          1.1   \n",
      "2   may         mon  ...         1    999         0  nonexistent          1.1   \n",
      "3   may         mon  ...         1    999         0  nonexistent          1.1   \n",
      "4   may         mon  ...         1    999         0  nonexistent          1.1   \n",
      "\n",
      "   cons.price.idx  cons.conf.idx  euribor3m  nr.employed   y  \n",
      "0          93.994          -36.4      4.857       5191.0  no  \n",
      "1          93.994          -36.4      4.857       5191.0  no  \n",
      "2          93.994          -36.4      4.857       5191.0  no  \n",
      "3          93.994          -36.4      4.857       5191.0  no  \n",
      "4          93.994          -36.4      4.857       5191.0  no  \n",
      "\n",
      "[5 rows x 21 columns]\n",
      "\n",
      "Features in the dataset:\n",
      "['age', 'job', 'marital', 'education', 'default', 'housing', 'loan', 'contact', 'month', 'day_of_week', 'duration', 'campaign', 'pdays', 'previous', 'poutcome', 'emp.var.rate', 'cons.price.idx', 'cons.conf.idx', 'euribor3m', 'nr.employed', 'y']\n",
      "\n",
      "Dataset info:\n",
      "<class 'pandas.core.frame.DataFrame'>\n",
      "RangeIndex: 41188 entries, 0 to 41187\n",
      "Data columns (total 21 columns):\n",
      " #   Column          Non-Null Count  Dtype  \n",
      "---  ------          --------------  -----  \n",
      " 0   age             41188 non-null  int64  \n",
      " 1   job             41188 non-null  object \n",
      " 2   marital         41188 non-null  object \n",
      " 3   education       41188 non-null  object \n",
      " 4   default         41188 non-null  object \n",
      " 5   housing         41188 non-null  object \n",
      " 6   loan            41188 non-null  object \n",
      " 7   contact         41188 non-null  object \n",
      " 8   month           41188 non-null  object \n",
      " 9   day_of_week     41188 non-null  object \n",
      " 10  duration        41188 non-null  int64  \n",
      " 11  campaign        41188 non-null  int64  \n",
      " 12  pdays           41188 non-null  int64  \n",
      " 13  previous        41188 non-null  int64  \n",
      " 14  poutcome        41188 non-null  object \n",
      " 15  emp.var.rate    41188 non-null  float64\n",
      " 16  cons.price.idx  41188 non-null  float64\n",
      " 17  cons.conf.idx   41188 non-null  float64\n",
      " 18  euribor3m       41188 non-null  float64\n",
      " 19  nr.employed     41188 non-null  float64\n",
      " 20  y               41188 non-null  object \n",
      "dtypes: float64(5), int64(5), object(11)\n",
      "memory usage: 6.6+ MB\n",
      "None\n"
     ]
    }
   ],
   "execution_count": 4
  },
  {
   "metadata": {
    "ExecuteTime": {
     "end_time": "2024-12-03T22:26:24.080519Z",
     "start_time": "2024-12-03T22:26:24.071821Z"
    }
   },
   "cell_type": "code",
   "source": "data.head()",
   "id": "afe95adf40f482fd",
   "outputs": [
    {
     "data": {
      "text/plain": [
       "   age        job  marital    education  default housing loan    contact  \\\n",
       "0   56  housemaid  married     basic.4y       no      no   no  telephone   \n",
       "1   57   services  married  high.school  unknown      no   no  telephone   \n",
       "2   37   services  married  high.school       no     yes   no  telephone   \n",
       "3   40     admin.  married     basic.6y       no      no   no  telephone   \n",
       "4   56   services  married  high.school       no      no  yes  telephone   \n",
       "\n",
       "  month day_of_week  ...  campaign  pdays  previous     poutcome emp.var.rate  \\\n",
       "0   may         mon  ...         1    999         0  nonexistent          1.1   \n",
       "1   may         mon  ...         1    999         0  nonexistent          1.1   \n",
       "2   may         mon  ...         1    999         0  nonexistent          1.1   \n",
       "3   may         mon  ...         1    999         0  nonexistent          1.1   \n",
       "4   may         mon  ...         1    999         0  nonexistent          1.1   \n",
       "\n",
       "   cons.price.idx  cons.conf.idx  euribor3m  nr.employed   y  \n",
       "0          93.994          -36.4      4.857       5191.0  no  \n",
       "1          93.994          -36.4      4.857       5191.0  no  \n",
       "2          93.994          -36.4      4.857       5191.0  no  \n",
       "3          93.994          -36.4      4.857       5191.0  no  \n",
       "4          93.994          -36.4      4.857       5191.0  no  \n",
       "\n",
       "[5 rows x 21 columns]"
      ],
      "text/html": [
       "<div>\n",
       "<style scoped>\n",
       "    .dataframe tbody tr th:only-of-type {\n",
       "        vertical-align: middle;\n",
       "    }\n",
       "\n",
       "    .dataframe tbody tr th {\n",
       "        vertical-align: top;\n",
       "    }\n",
       "\n",
       "    .dataframe thead th {\n",
       "        text-align: right;\n",
       "    }\n",
       "</style>\n",
       "<table border=\"1\" class=\"dataframe\">\n",
       "  <thead>\n",
       "    <tr style=\"text-align: right;\">\n",
       "      <th></th>\n",
       "      <th>age</th>\n",
       "      <th>job</th>\n",
       "      <th>marital</th>\n",
       "      <th>education</th>\n",
       "      <th>default</th>\n",
       "      <th>housing</th>\n",
       "      <th>loan</th>\n",
       "      <th>contact</th>\n",
       "      <th>month</th>\n",
       "      <th>day_of_week</th>\n",
       "      <th>...</th>\n",
       "      <th>campaign</th>\n",
       "      <th>pdays</th>\n",
       "      <th>previous</th>\n",
       "      <th>poutcome</th>\n",
       "      <th>emp.var.rate</th>\n",
       "      <th>cons.price.idx</th>\n",
       "      <th>cons.conf.idx</th>\n",
       "      <th>euribor3m</th>\n",
       "      <th>nr.employed</th>\n",
       "      <th>y</th>\n",
       "    </tr>\n",
       "  </thead>\n",
       "  <tbody>\n",
       "    <tr>\n",
       "      <th>0</th>\n",
       "      <td>56</td>\n",
       "      <td>housemaid</td>\n",
       "      <td>married</td>\n",
       "      <td>basic.4y</td>\n",
       "      <td>no</td>\n",
       "      <td>no</td>\n",
       "      <td>no</td>\n",
       "      <td>telephone</td>\n",
       "      <td>may</td>\n",
       "      <td>mon</td>\n",
       "      <td>...</td>\n",
       "      <td>1</td>\n",
       "      <td>999</td>\n",
       "      <td>0</td>\n",
       "      <td>nonexistent</td>\n",
       "      <td>1.1</td>\n",
       "      <td>93.994</td>\n",
       "      <td>-36.4</td>\n",
       "      <td>4.857</td>\n",
       "      <td>5191.0</td>\n",
       "      <td>no</td>\n",
       "    </tr>\n",
       "    <tr>\n",
       "      <th>1</th>\n",
       "      <td>57</td>\n",
       "      <td>services</td>\n",
       "      <td>married</td>\n",
       "      <td>high.school</td>\n",
       "      <td>unknown</td>\n",
       "      <td>no</td>\n",
       "      <td>no</td>\n",
       "      <td>telephone</td>\n",
       "      <td>may</td>\n",
       "      <td>mon</td>\n",
       "      <td>...</td>\n",
       "      <td>1</td>\n",
       "      <td>999</td>\n",
       "      <td>0</td>\n",
       "      <td>nonexistent</td>\n",
       "      <td>1.1</td>\n",
       "      <td>93.994</td>\n",
       "      <td>-36.4</td>\n",
       "      <td>4.857</td>\n",
       "      <td>5191.0</td>\n",
       "      <td>no</td>\n",
       "    </tr>\n",
       "    <tr>\n",
       "      <th>2</th>\n",
       "      <td>37</td>\n",
       "      <td>services</td>\n",
       "      <td>married</td>\n",
       "      <td>high.school</td>\n",
       "      <td>no</td>\n",
       "      <td>yes</td>\n",
       "      <td>no</td>\n",
       "      <td>telephone</td>\n",
       "      <td>may</td>\n",
       "      <td>mon</td>\n",
       "      <td>...</td>\n",
       "      <td>1</td>\n",
       "      <td>999</td>\n",
       "      <td>0</td>\n",
       "      <td>nonexistent</td>\n",
       "      <td>1.1</td>\n",
       "      <td>93.994</td>\n",
       "      <td>-36.4</td>\n",
       "      <td>4.857</td>\n",
       "      <td>5191.0</td>\n",
       "      <td>no</td>\n",
       "    </tr>\n",
       "    <tr>\n",
       "      <th>3</th>\n",
       "      <td>40</td>\n",
       "      <td>admin.</td>\n",
       "      <td>married</td>\n",
       "      <td>basic.6y</td>\n",
       "      <td>no</td>\n",
       "      <td>no</td>\n",
       "      <td>no</td>\n",
       "      <td>telephone</td>\n",
       "      <td>may</td>\n",
       "      <td>mon</td>\n",
       "      <td>...</td>\n",
       "      <td>1</td>\n",
       "      <td>999</td>\n",
       "      <td>0</td>\n",
       "      <td>nonexistent</td>\n",
       "      <td>1.1</td>\n",
       "      <td>93.994</td>\n",
       "      <td>-36.4</td>\n",
       "      <td>4.857</td>\n",
       "      <td>5191.0</td>\n",
       "      <td>no</td>\n",
       "    </tr>\n",
       "    <tr>\n",
       "      <th>4</th>\n",
       "      <td>56</td>\n",
       "      <td>services</td>\n",
       "      <td>married</td>\n",
       "      <td>high.school</td>\n",
       "      <td>no</td>\n",
       "      <td>no</td>\n",
       "      <td>yes</td>\n",
       "      <td>telephone</td>\n",
       "      <td>may</td>\n",
       "      <td>mon</td>\n",
       "      <td>...</td>\n",
       "      <td>1</td>\n",
       "      <td>999</td>\n",
       "      <td>0</td>\n",
       "      <td>nonexistent</td>\n",
       "      <td>1.1</td>\n",
       "      <td>93.994</td>\n",
       "      <td>-36.4</td>\n",
       "      <td>4.857</td>\n",
       "      <td>5191.0</td>\n",
       "      <td>no</td>\n",
       "    </tr>\n",
       "  </tbody>\n",
       "</table>\n",
       "<p>5 rows × 21 columns</p>\n",
       "</div>"
      ]
     },
     "execution_count": 5,
     "metadata": {},
     "output_type": "execute_result"
    }
   ],
   "execution_count": 5
  },
  {
   "metadata": {},
   "cell_type": "markdown",
   "source": "# Data Preprocessing",
   "id": "a30daf5edd69b57c"
  },
  {
   "metadata": {
    "ExecuteTime": {
     "end_time": "2024-12-03T22:26:26.205649Z",
     "start_time": "2024-12-03T22:26:26.197035Z"
    }
   },
   "cell_type": "code",
   "source": "data.head()",
   "id": "46f47e10e1c8618",
   "outputs": [
    {
     "data": {
      "text/plain": [
       "   age        job  marital    education  default housing loan    contact  \\\n",
       "0   56  housemaid  married     basic.4y       no      no   no  telephone   \n",
       "1   57   services  married  high.school  unknown      no   no  telephone   \n",
       "2   37   services  married  high.school       no     yes   no  telephone   \n",
       "3   40     admin.  married     basic.6y       no      no   no  telephone   \n",
       "4   56   services  married  high.school       no      no  yes  telephone   \n",
       "\n",
       "  month day_of_week  ...  campaign  pdays  previous     poutcome emp.var.rate  \\\n",
       "0   may         mon  ...         1    999         0  nonexistent          1.1   \n",
       "1   may         mon  ...         1    999         0  nonexistent          1.1   \n",
       "2   may         mon  ...         1    999         0  nonexistent          1.1   \n",
       "3   may         mon  ...         1    999         0  nonexistent          1.1   \n",
       "4   may         mon  ...         1    999         0  nonexistent          1.1   \n",
       "\n",
       "   cons.price.idx  cons.conf.idx  euribor3m  nr.employed   y  \n",
       "0          93.994          -36.4      4.857       5191.0  no  \n",
       "1          93.994          -36.4      4.857       5191.0  no  \n",
       "2          93.994          -36.4      4.857       5191.0  no  \n",
       "3          93.994          -36.4      4.857       5191.0  no  \n",
       "4          93.994          -36.4      4.857       5191.0  no  \n",
       "\n",
       "[5 rows x 21 columns]"
      ],
      "text/html": [
       "<div>\n",
       "<style scoped>\n",
       "    .dataframe tbody tr th:only-of-type {\n",
       "        vertical-align: middle;\n",
       "    }\n",
       "\n",
       "    .dataframe tbody tr th {\n",
       "        vertical-align: top;\n",
       "    }\n",
       "\n",
       "    .dataframe thead th {\n",
       "        text-align: right;\n",
       "    }\n",
       "</style>\n",
       "<table border=\"1\" class=\"dataframe\">\n",
       "  <thead>\n",
       "    <tr style=\"text-align: right;\">\n",
       "      <th></th>\n",
       "      <th>age</th>\n",
       "      <th>job</th>\n",
       "      <th>marital</th>\n",
       "      <th>education</th>\n",
       "      <th>default</th>\n",
       "      <th>housing</th>\n",
       "      <th>loan</th>\n",
       "      <th>contact</th>\n",
       "      <th>month</th>\n",
       "      <th>day_of_week</th>\n",
       "      <th>...</th>\n",
       "      <th>campaign</th>\n",
       "      <th>pdays</th>\n",
       "      <th>previous</th>\n",
       "      <th>poutcome</th>\n",
       "      <th>emp.var.rate</th>\n",
       "      <th>cons.price.idx</th>\n",
       "      <th>cons.conf.idx</th>\n",
       "      <th>euribor3m</th>\n",
       "      <th>nr.employed</th>\n",
       "      <th>y</th>\n",
       "    </tr>\n",
       "  </thead>\n",
       "  <tbody>\n",
       "    <tr>\n",
       "      <th>0</th>\n",
       "      <td>56</td>\n",
       "      <td>housemaid</td>\n",
       "      <td>married</td>\n",
       "      <td>basic.4y</td>\n",
       "      <td>no</td>\n",
       "      <td>no</td>\n",
       "      <td>no</td>\n",
       "      <td>telephone</td>\n",
       "      <td>may</td>\n",
       "      <td>mon</td>\n",
       "      <td>...</td>\n",
       "      <td>1</td>\n",
       "      <td>999</td>\n",
       "      <td>0</td>\n",
       "      <td>nonexistent</td>\n",
       "      <td>1.1</td>\n",
       "      <td>93.994</td>\n",
       "      <td>-36.4</td>\n",
       "      <td>4.857</td>\n",
       "      <td>5191.0</td>\n",
       "      <td>no</td>\n",
       "    </tr>\n",
       "    <tr>\n",
       "      <th>1</th>\n",
       "      <td>57</td>\n",
       "      <td>services</td>\n",
       "      <td>married</td>\n",
       "      <td>high.school</td>\n",
       "      <td>unknown</td>\n",
       "      <td>no</td>\n",
       "      <td>no</td>\n",
       "      <td>telephone</td>\n",
       "      <td>may</td>\n",
       "      <td>mon</td>\n",
       "      <td>...</td>\n",
       "      <td>1</td>\n",
       "      <td>999</td>\n",
       "      <td>0</td>\n",
       "      <td>nonexistent</td>\n",
       "      <td>1.1</td>\n",
       "      <td>93.994</td>\n",
       "      <td>-36.4</td>\n",
       "      <td>4.857</td>\n",
       "      <td>5191.0</td>\n",
       "      <td>no</td>\n",
       "    </tr>\n",
       "    <tr>\n",
       "      <th>2</th>\n",
       "      <td>37</td>\n",
       "      <td>services</td>\n",
       "      <td>married</td>\n",
       "      <td>high.school</td>\n",
       "      <td>no</td>\n",
       "      <td>yes</td>\n",
       "      <td>no</td>\n",
       "      <td>telephone</td>\n",
       "      <td>may</td>\n",
       "      <td>mon</td>\n",
       "      <td>...</td>\n",
       "      <td>1</td>\n",
       "      <td>999</td>\n",
       "      <td>0</td>\n",
       "      <td>nonexistent</td>\n",
       "      <td>1.1</td>\n",
       "      <td>93.994</td>\n",
       "      <td>-36.4</td>\n",
       "      <td>4.857</td>\n",
       "      <td>5191.0</td>\n",
       "      <td>no</td>\n",
       "    </tr>\n",
       "    <tr>\n",
       "      <th>3</th>\n",
       "      <td>40</td>\n",
       "      <td>admin.</td>\n",
       "      <td>married</td>\n",
       "      <td>basic.6y</td>\n",
       "      <td>no</td>\n",
       "      <td>no</td>\n",
       "      <td>no</td>\n",
       "      <td>telephone</td>\n",
       "      <td>may</td>\n",
       "      <td>mon</td>\n",
       "      <td>...</td>\n",
       "      <td>1</td>\n",
       "      <td>999</td>\n",
       "      <td>0</td>\n",
       "      <td>nonexistent</td>\n",
       "      <td>1.1</td>\n",
       "      <td>93.994</td>\n",
       "      <td>-36.4</td>\n",
       "      <td>4.857</td>\n",
       "      <td>5191.0</td>\n",
       "      <td>no</td>\n",
       "    </tr>\n",
       "    <tr>\n",
       "      <th>4</th>\n",
       "      <td>56</td>\n",
       "      <td>services</td>\n",
       "      <td>married</td>\n",
       "      <td>high.school</td>\n",
       "      <td>no</td>\n",
       "      <td>no</td>\n",
       "      <td>yes</td>\n",
       "      <td>telephone</td>\n",
       "      <td>may</td>\n",
       "      <td>mon</td>\n",
       "      <td>...</td>\n",
       "      <td>1</td>\n",
       "      <td>999</td>\n",
       "      <td>0</td>\n",
       "      <td>nonexistent</td>\n",
       "      <td>1.1</td>\n",
       "      <td>93.994</td>\n",
       "      <td>-36.4</td>\n",
       "      <td>4.857</td>\n",
       "      <td>5191.0</td>\n",
       "      <td>no</td>\n",
       "    </tr>\n",
       "  </tbody>\n",
       "</table>\n",
       "<p>5 rows × 21 columns</p>\n",
       "</div>"
      ]
     },
     "execution_count": 6,
     "metadata": {},
     "output_type": "execute_result"
    }
   ],
   "execution_count": 6
  },
  {
   "metadata": {
    "ExecuteTime": {
     "end_time": "2024-12-03T22:26:26.904467Z",
     "start_time": "2024-12-03T22:26:26.900343Z"
    }
   },
   "cell_type": "code",
   "source": "data['y'].value_counts()",
   "id": "cddabd29261471a9",
   "outputs": [
    {
     "data": {
      "text/plain": [
       "y\n",
       "no     36548\n",
       "yes     4640\n",
       "Name: count, dtype: int64"
      ]
     },
     "execution_count": 7,
     "metadata": {},
     "output_type": "execute_result"
    }
   ],
   "execution_count": 7
  },
  {
   "metadata": {
    "ExecuteTime": {
     "end_time": "2024-12-03T22:26:27.366828Z",
     "start_time": "2024-12-03T22:26:27.334390Z"
    }
   },
   "cell_type": "code",
   "source": [
    "# categorical columns: job, marital, education, default, housing, loan, contact, month, day_of_week, poutcome\n",
    "\n",
    "# encode the categorical columns using one-hot encoding\n",
    "\n",
    "df = pd.get_dummies(data, columns=['job', 'marital', 'education', 'default', 'housing', 'loan', 'contact', 'month', 'day_of_week', 'poutcome', 'y'], drop_first=True)\n",
    "df.head()"
   ],
   "id": "1259aaf83f283c2b",
   "outputs": [
    {
     "data": {
      "text/plain": [
       "   age  duration  campaign  pdays  previous  emp.var.rate  cons.price.idx  \\\n",
       "0   56       261         1    999         0           1.1          93.994   \n",
       "1   57       149         1    999         0           1.1          93.994   \n",
       "2   37       226         1    999         0           1.1          93.994   \n",
       "3   40       151         1    999         0           1.1          93.994   \n",
       "4   56       307         1    999         0           1.1          93.994   \n",
       "\n",
       "   cons.conf.idx  euribor3m  nr.employed  ...  month_nov  month_oct  \\\n",
       "0          -36.4      4.857       5191.0  ...      False      False   \n",
       "1          -36.4      4.857       5191.0  ...      False      False   \n",
       "2          -36.4      4.857       5191.0  ...      False      False   \n",
       "3          -36.4      4.857       5191.0  ...      False      False   \n",
       "4          -36.4      4.857       5191.0  ...      False      False   \n",
       "\n",
       "   month_sep  day_of_week_mon  day_of_week_thu  day_of_week_tue  \\\n",
       "0      False             True            False            False   \n",
       "1      False             True            False            False   \n",
       "2      False             True            False            False   \n",
       "3      False             True            False            False   \n",
       "4      False             True            False            False   \n",
       "\n",
       "   day_of_week_wed  poutcome_nonexistent  poutcome_success  y_yes  \n",
       "0            False                  True             False  False  \n",
       "1            False                  True             False  False  \n",
       "2            False                  True             False  False  \n",
       "3            False                  True             False  False  \n",
       "4            False                  True             False  False  \n",
       "\n",
       "[5 rows x 54 columns]"
      ],
      "text/html": [
       "<div>\n",
       "<style scoped>\n",
       "    .dataframe tbody tr th:only-of-type {\n",
       "        vertical-align: middle;\n",
       "    }\n",
       "\n",
       "    .dataframe tbody tr th {\n",
       "        vertical-align: top;\n",
       "    }\n",
       "\n",
       "    .dataframe thead th {\n",
       "        text-align: right;\n",
       "    }\n",
       "</style>\n",
       "<table border=\"1\" class=\"dataframe\">\n",
       "  <thead>\n",
       "    <tr style=\"text-align: right;\">\n",
       "      <th></th>\n",
       "      <th>age</th>\n",
       "      <th>duration</th>\n",
       "      <th>campaign</th>\n",
       "      <th>pdays</th>\n",
       "      <th>previous</th>\n",
       "      <th>emp.var.rate</th>\n",
       "      <th>cons.price.idx</th>\n",
       "      <th>cons.conf.idx</th>\n",
       "      <th>euribor3m</th>\n",
       "      <th>nr.employed</th>\n",
       "      <th>...</th>\n",
       "      <th>month_nov</th>\n",
       "      <th>month_oct</th>\n",
       "      <th>month_sep</th>\n",
       "      <th>day_of_week_mon</th>\n",
       "      <th>day_of_week_thu</th>\n",
       "      <th>day_of_week_tue</th>\n",
       "      <th>day_of_week_wed</th>\n",
       "      <th>poutcome_nonexistent</th>\n",
       "      <th>poutcome_success</th>\n",
       "      <th>y_yes</th>\n",
       "    </tr>\n",
       "  </thead>\n",
       "  <tbody>\n",
       "    <tr>\n",
       "      <th>0</th>\n",
       "      <td>56</td>\n",
       "      <td>261</td>\n",
       "      <td>1</td>\n",
       "      <td>999</td>\n",
       "      <td>0</td>\n",
       "      <td>1.1</td>\n",
       "      <td>93.994</td>\n",
       "      <td>-36.4</td>\n",
       "      <td>4.857</td>\n",
       "      <td>5191.0</td>\n",
       "      <td>...</td>\n",
       "      <td>False</td>\n",
       "      <td>False</td>\n",
       "      <td>False</td>\n",
       "      <td>True</td>\n",
       "      <td>False</td>\n",
       "      <td>False</td>\n",
       "      <td>False</td>\n",
       "      <td>True</td>\n",
       "      <td>False</td>\n",
       "      <td>False</td>\n",
       "    </tr>\n",
       "    <tr>\n",
       "      <th>1</th>\n",
       "      <td>57</td>\n",
       "      <td>149</td>\n",
       "      <td>1</td>\n",
       "      <td>999</td>\n",
       "      <td>0</td>\n",
       "      <td>1.1</td>\n",
       "      <td>93.994</td>\n",
       "      <td>-36.4</td>\n",
       "      <td>4.857</td>\n",
       "      <td>5191.0</td>\n",
       "      <td>...</td>\n",
       "      <td>False</td>\n",
       "      <td>False</td>\n",
       "      <td>False</td>\n",
       "      <td>True</td>\n",
       "      <td>False</td>\n",
       "      <td>False</td>\n",
       "      <td>False</td>\n",
       "      <td>True</td>\n",
       "      <td>False</td>\n",
       "      <td>False</td>\n",
       "    </tr>\n",
       "    <tr>\n",
       "      <th>2</th>\n",
       "      <td>37</td>\n",
       "      <td>226</td>\n",
       "      <td>1</td>\n",
       "      <td>999</td>\n",
       "      <td>0</td>\n",
       "      <td>1.1</td>\n",
       "      <td>93.994</td>\n",
       "      <td>-36.4</td>\n",
       "      <td>4.857</td>\n",
       "      <td>5191.0</td>\n",
       "      <td>...</td>\n",
       "      <td>False</td>\n",
       "      <td>False</td>\n",
       "      <td>False</td>\n",
       "      <td>True</td>\n",
       "      <td>False</td>\n",
       "      <td>False</td>\n",
       "      <td>False</td>\n",
       "      <td>True</td>\n",
       "      <td>False</td>\n",
       "      <td>False</td>\n",
       "    </tr>\n",
       "    <tr>\n",
       "      <th>3</th>\n",
       "      <td>40</td>\n",
       "      <td>151</td>\n",
       "      <td>1</td>\n",
       "      <td>999</td>\n",
       "      <td>0</td>\n",
       "      <td>1.1</td>\n",
       "      <td>93.994</td>\n",
       "      <td>-36.4</td>\n",
       "      <td>4.857</td>\n",
       "      <td>5191.0</td>\n",
       "      <td>...</td>\n",
       "      <td>False</td>\n",
       "      <td>False</td>\n",
       "      <td>False</td>\n",
       "      <td>True</td>\n",
       "      <td>False</td>\n",
       "      <td>False</td>\n",
       "      <td>False</td>\n",
       "      <td>True</td>\n",
       "      <td>False</td>\n",
       "      <td>False</td>\n",
       "    </tr>\n",
       "    <tr>\n",
       "      <th>4</th>\n",
       "      <td>56</td>\n",
       "      <td>307</td>\n",
       "      <td>1</td>\n",
       "      <td>999</td>\n",
       "      <td>0</td>\n",
       "      <td>1.1</td>\n",
       "      <td>93.994</td>\n",
       "      <td>-36.4</td>\n",
       "      <td>4.857</td>\n",
       "      <td>5191.0</td>\n",
       "      <td>...</td>\n",
       "      <td>False</td>\n",
       "      <td>False</td>\n",
       "      <td>False</td>\n",
       "      <td>True</td>\n",
       "      <td>False</td>\n",
       "      <td>False</td>\n",
       "      <td>False</td>\n",
       "      <td>True</td>\n",
       "      <td>False</td>\n",
       "      <td>False</td>\n",
       "    </tr>\n",
       "  </tbody>\n",
       "</table>\n",
       "<p>5 rows × 54 columns</p>\n",
       "</div>"
      ]
     },
     "execution_count": 8,
     "metadata": {},
     "output_type": "execute_result"
    }
   ],
   "execution_count": 8
  },
  {
   "metadata": {
    "ExecuteTime": {
     "end_time": "2024-12-03T22:26:27.865317Z",
     "start_time": "2024-12-03T22:26:27.858284Z"
    }
   },
   "cell_type": "code",
   "source": "df.head()",
   "id": "c434912a72de51f5",
   "outputs": [
    {
     "data": {
      "text/plain": [
       "   age  duration  campaign  pdays  previous  emp.var.rate  cons.price.idx  \\\n",
       "0   56       261         1    999         0           1.1          93.994   \n",
       "1   57       149         1    999         0           1.1          93.994   \n",
       "2   37       226         1    999         0           1.1          93.994   \n",
       "3   40       151         1    999         0           1.1          93.994   \n",
       "4   56       307         1    999         0           1.1          93.994   \n",
       "\n",
       "   cons.conf.idx  euribor3m  nr.employed  ...  month_nov  month_oct  \\\n",
       "0          -36.4      4.857       5191.0  ...      False      False   \n",
       "1          -36.4      4.857       5191.0  ...      False      False   \n",
       "2          -36.4      4.857       5191.0  ...      False      False   \n",
       "3          -36.4      4.857       5191.0  ...      False      False   \n",
       "4          -36.4      4.857       5191.0  ...      False      False   \n",
       "\n",
       "   month_sep  day_of_week_mon  day_of_week_thu  day_of_week_tue  \\\n",
       "0      False             True            False            False   \n",
       "1      False             True            False            False   \n",
       "2      False             True            False            False   \n",
       "3      False             True            False            False   \n",
       "4      False             True            False            False   \n",
       "\n",
       "   day_of_week_wed  poutcome_nonexistent  poutcome_success  y_yes  \n",
       "0            False                  True             False  False  \n",
       "1            False                  True             False  False  \n",
       "2            False                  True             False  False  \n",
       "3            False                  True             False  False  \n",
       "4            False                  True             False  False  \n",
       "\n",
       "[5 rows x 54 columns]"
      ],
      "text/html": [
       "<div>\n",
       "<style scoped>\n",
       "    .dataframe tbody tr th:only-of-type {\n",
       "        vertical-align: middle;\n",
       "    }\n",
       "\n",
       "    .dataframe tbody tr th {\n",
       "        vertical-align: top;\n",
       "    }\n",
       "\n",
       "    .dataframe thead th {\n",
       "        text-align: right;\n",
       "    }\n",
       "</style>\n",
       "<table border=\"1\" class=\"dataframe\">\n",
       "  <thead>\n",
       "    <tr style=\"text-align: right;\">\n",
       "      <th></th>\n",
       "      <th>age</th>\n",
       "      <th>duration</th>\n",
       "      <th>campaign</th>\n",
       "      <th>pdays</th>\n",
       "      <th>previous</th>\n",
       "      <th>emp.var.rate</th>\n",
       "      <th>cons.price.idx</th>\n",
       "      <th>cons.conf.idx</th>\n",
       "      <th>euribor3m</th>\n",
       "      <th>nr.employed</th>\n",
       "      <th>...</th>\n",
       "      <th>month_nov</th>\n",
       "      <th>month_oct</th>\n",
       "      <th>month_sep</th>\n",
       "      <th>day_of_week_mon</th>\n",
       "      <th>day_of_week_thu</th>\n",
       "      <th>day_of_week_tue</th>\n",
       "      <th>day_of_week_wed</th>\n",
       "      <th>poutcome_nonexistent</th>\n",
       "      <th>poutcome_success</th>\n",
       "      <th>y_yes</th>\n",
       "    </tr>\n",
       "  </thead>\n",
       "  <tbody>\n",
       "    <tr>\n",
       "      <th>0</th>\n",
       "      <td>56</td>\n",
       "      <td>261</td>\n",
       "      <td>1</td>\n",
       "      <td>999</td>\n",
       "      <td>0</td>\n",
       "      <td>1.1</td>\n",
       "      <td>93.994</td>\n",
       "      <td>-36.4</td>\n",
       "      <td>4.857</td>\n",
       "      <td>5191.0</td>\n",
       "      <td>...</td>\n",
       "      <td>False</td>\n",
       "      <td>False</td>\n",
       "      <td>False</td>\n",
       "      <td>True</td>\n",
       "      <td>False</td>\n",
       "      <td>False</td>\n",
       "      <td>False</td>\n",
       "      <td>True</td>\n",
       "      <td>False</td>\n",
       "      <td>False</td>\n",
       "    </tr>\n",
       "    <tr>\n",
       "      <th>1</th>\n",
       "      <td>57</td>\n",
       "      <td>149</td>\n",
       "      <td>1</td>\n",
       "      <td>999</td>\n",
       "      <td>0</td>\n",
       "      <td>1.1</td>\n",
       "      <td>93.994</td>\n",
       "      <td>-36.4</td>\n",
       "      <td>4.857</td>\n",
       "      <td>5191.0</td>\n",
       "      <td>...</td>\n",
       "      <td>False</td>\n",
       "      <td>False</td>\n",
       "      <td>False</td>\n",
       "      <td>True</td>\n",
       "      <td>False</td>\n",
       "      <td>False</td>\n",
       "      <td>False</td>\n",
       "      <td>True</td>\n",
       "      <td>False</td>\n",
       "      <td>False</td>\n",
       "    </tr>\n",
       "    <tr>\n",
       "      <th>2</th>\n",
       "      <td>37</td>\n",
       "      <td>226</td>\n",
       "      <td>1</td>\n",
       "      <td>999</td>\n",
       "      <td>0</td>\n",
       "      <td>1.1</td>\n",
       "      <td>93.994</td>\n",
       "      <td>-36.4</td>\n",
       "      <td>4.857</td>\n",
       "      <td>5191.0</td>\n",
       "      <td>...</td>\n",
       "      <td>False</td>\n",
       "      <td>False</td>\n",
       "      <td>False</td>\n",
       "      <td>True</td>\n",
       "      <td>False</td>\n",
       "      <td>False</td>\n",
       "      <td>False</td>\n",
       "      <td>True</td>\n",
       "      <td>False</td>\n",
       "      <td>False</td>\n",
       "    </tr>\n",
       "    <tr>\n",
       "      <th>3</th>\n",
       "      <td>40</td>\n",
       "      <td>151</td>\n",
       "      <td>1</td>\n",
       "      <td>999</td>\n",
       "      <td>0</td>\n",
       "      <td>1.1</td>\n",
       "      <td>93.994</td>\n",
       "      <td>-36.4</td>\n",
       "      <td>4.857</td>\n",
       "      <td>5191.0</td>\n",
       "      <td>...</td>\n",
       "      <td>False</td>\n",
       "      <td>False</td>\n",
       "      <td>False</td>\n",
       "      <td>True</td>\n",
       "      <td>False</td>\n",
       "      <td>False</td>\n",
       "      <td>False</td>\n",
       "      <td>True</td>\n",
       "      <td>False</td>\n",
       "      <td>False</td>\n",
       "    </tr>\n",
       "    <tr>\n",
       "      <th>4</th>\n",
       "      <td>56</td>\n",
       "      <td>307</td>\n",
       "      <td>1</td>\n",
       "      <td>999</td>\n",
       "      <td>0</td>\n",
       "      <td>1.1</td>\n",
       "      <td>93.994</td>\n",
       "      <td>-36.4</td>\n",
       "      <td>4.857</td>\n",
       "      <td>5191.0</td>\n",
       "      <td>...</td>\n",
       "      <td>False</td>\n",
       "      <td>False</td>\n",
       "      <td>False</td>\n",
       "      <td>True</td>\n",
       "      <td>False</td>\n",
       "      <td>False</td>\n",
       "      <td>False</td>\n",
       "      <td>True</td>\n",
       "      <td>False</td>\n",
       "      <td>False</td>\n",
       "    </tr>\n",
       "  </tbody>\n",
       "</table>\n",
       "<p>5 rows × 54 columns</p>\n",
       "</div>"
      ]
     },
     "execution_count": 9,
     "metadata": {},
     "output_type": "execute_result"
    }
   ],
   "execution_count": 9
  },
  {
   "metadata": {
    "ExecuteTime": {
     "end_time": "2024-12-03T22:26:28.355227Z",
     "start_time": "2024-12-03T22:26:28.351974Z"
    }
   },
   "cell_type": "code",
   "source": "df['y_yes'].value_counts()",
   "id": "b083c566e29c98c7",
   "outputs": [
    {
     "data": {
      "text/plain": [
       "y_yes\n",
       "False    36548\n",
       "True      4640\n",
       "Name: count, dtype: int64"
      ]
     },
     "execution_count": 10,
     "metadata": {},
     "output_type": "execute_result"
    }
   ],
   "execution_count": 10
  },
  {
   "metadata": {
    "ExecuteTime": {
     "end_time": "2024-12-03T22:26:28.883689Z",
     "start_time": "2024-12-03T22:26:28.880907Z"
    }
   },
   "cell_type": "code",
   "source": [
    "X = df.drop(columns=['y_yes'])\n",
    "y = df['y_yes']\n"
   ],
   "id": "9914f6d13811505",
   "outputs": [],
   "execution_count": 11
  },
  {
   "metadata": {},
   "cell_type": "markdown",
   "source": "# Feature Engineering",
   "id": "1059872eab52637c"
  },
  {
   "metadata": {},
   "cell_type": "markdown",
   "source": "## Feature Selection",
   "id": "f863f9b2b774677"
  },
  {
   "metadata": {
    "ExecuteTime": {
     "end_time": "2024-12-03T22:26:30.479921Z",
     "start_time": "2024-12-03T22:26:30.475898Z"
    }
   },
   "cell_type": "code",
   "source": "df  = pd.concat([X, y], axis=1)",
   "id": "4dafd6dee1c612af",
   "outputs": [],
   "execution_count": 12
  },
  {
   "metadata": {
    "ExecuteTime": {
     "end_time": "2024-12-03T22:26:30.922145Z",
     "start_time": "2024-12-03T22:26:30.918395Z"
    }
   },
   "cell_type": "code",
   "source": "df['y_yes'].value_counts()",
   "id": "4942227d0f6c2534",
   "outputs": [
    {
     "data": {
      "text/plain": [
       "y_yes\n",
       "False    36548\n",
       "True      4640\n",
       "Name: count, dtype: int64"
      ]
     },
     "execution_count": 13,
     "metadata": {},
     "output_type": "execute_result"
    }
   ],
   "execution_count": 13
  },
  {
   "metadata": {
    "ExecuteTime": {
     "end_time": "2024-12-03T22:26:31.932976Z",
     "start_time": "2024-12-03T22:26:31.305745Z"
    }
   },
   "cell_type": "code",
   "source": [
    "correlation_matrix = df.corr()\n",
    "plt.figure(figsize=(20, 16))\n",
    "sns.heatmap(correlation_matrix, annot=False, cmap='coolwarm')\n",
    "plt.title('Correlation Matrix')\n",
    "plt.show()\n",
    "\n",
    "# "
   ],
   "id": "c274f88b700b5a",
   "outputs": [
    {
     "data": {
      "text/plain": [
       "<Figure size 2000x1600 with 2 Axes>"
      ],
      "image/png": "[encoded data removed]"
     },
     "metadata": {},
     "output_type": "display_data"
    }
   ],
   "execution_count": 14
  },
  {
   "metadata": {
    "ExecuteTime": {
     "end_time": "2024-12-03T22:26:31.964950Z",
     "start_time": "2024-12-03T22:26:31.950975Z"
    }
   },
   "cell_type": "code",
   "source": [
    "# get the highest correlated features with each other\n",
    "corrrelation_values = correlation_matrix.abs().unstack()\n",
    "\n",
    "\n",
    "corrrelation_values = corrrelation_values.reset_index()\n",
    "corrrelation_values.columns = ['feature1', 'feature2', 'correlation']\n",
    "corrrelation_values = corrrelation_values[corrrelation_values['feature1'] != corrrelation_values['feature2']]\n",
    "# comvert from scientific notation to float\n",
    "corrrelation_values['correlation'] = corrrelation_values['correlation'].astype(float)\n",
    "corrrelation_values['positive_correlation'] = corrrelation_values['correlation'].abs()\n",
    "\n",
    "# get the top 10 correlated features\n",
    "corrrelation_values = corrrelation_values.sort_values(by='positive_correlation', ascending=False)\n",
    "corrrelation_values = corrrelation_values[corrrelation_values['positive_correlation'] > 0.85]\n",
    "\n",
    "\n",
    "corrrelation_values"
   ],
   "id": "342f276ac20054ca",
   "outputs": [
    {
     "data": {
      "text/plain": [
       "                  feature1              feature2  correlation  \\\n",
       "1817       housing_unknown          loan_unknown     1.000000   \n",
       "1923          loan_unknown       housing_unknown     1.000000   \n",
       "437              euribor3m          emp.var.rate     0.972245   \n",
       "278           emp.var.rate             euribor3m     0.972245   \n",
       "214                  pdays      poutcome_success     0.950700   \n",
       "2811      poutcome_success                 pdays     0.950700   \n",
       "494            nr.employed             euribor3m     0.945154   \n",
       "441              euribor3m           nr.employed     0.945154   \n",
       "279           emp.var.rate           nr.employed     0.906970   \n",
       "491            nr.employed          emp.var.rate     0.906970   \n",
       "267               previous  poutcome_nonexistent     0.878776   \n",
       "2758  poutcome_nonexistent              previous     0.878776   \n",
       "\n",
       "      positive_correlation  \n",
       "1817              1.000000  \n",
       "1923              1.000000  \n",
       "437               0.972245  \n",
       "278               0.972245  \n",
       "214               0.950700  \n",
       "2811              0.950700  \n",
       "494               0.945154  \n",
       "441               0.945154  \n",
       "279               0.906970  \n",
       "491               0.906970  \n",
       "267               0.878776  \n",
       "2758              0.878776  "
      ],
      "text/html": [
       "<div>\n",
       "<style scoped>\n",
       "    .dataframe tbody tr th:only-of-type {\n",
       "        vertical-align: middle;\n",
       "    }\n",
       "\n",
       "    .dataframe tbody tr th {\n",
       "        vertical-align: top;\n",
       "    }\n",
       "\n",
       "    .dataframe thead th {\n",
       "        text-align: right;\n",
       "    }\n",
       "</style>\n",
       "<table border=\"1\" class=\"dataframe\">\n",
       "  <thead>\n",
       "    <tr style=\"text-align: right;\">\n",
       "      <th></th>\n",
       "      <th>feature1</th>\n",
       "      <th>feature2</th>\n",
       "      <th>correlation</th>\n",
       "      <th>positive_correlation</th>\n",
       "    </tr>\n",
       "  </thead>\n",
       "  <tbody>\n",
       "    <tr>\n",
       "      <th>1817</th>\n",
       "      <td>housing_unknown</td>\n",
       "      <td>loan_unknown</td>\n",
       "      <td>1.000000</td>\n",
       "      <td>1.000000</td>\n",
       "    </tr>\n",
       "    <tr>\n",
       "      <th>1923</th>\n",
       "      <td>loan_unknown</td>\n",
       "      <td>housing_unknown</td>\n",
       "      <td>1.000000</td>\n",
       "      <td>1.000000</td>\n",
       "    </tr>\n",
       "    <tr>\n",
       "      <th>437</th>\n",
       "      <td>euribor3m</td>\n",
       "      <td>emp.var.rate</td>\n",
       "      <td>0.972245</td>\n",
       "      <td>0.972245</td>\n",
       "    </tr>\n",
       "    <tr>\n",
       "      <th>278</th>\n",
       "      <td>emp.var.rate</td>\n",
       "      <td>euribor3m</td>\n",
       "      <td>0.972245</td>\n",
       "      <td>0.972245</td>\n",
       "    </tr>\n",
       "    <tr>\n",
       "      <th>214</th>\n",
       "      <td>pdays</td>\n",
       "      <td>poutcome_success</td>\n",
       "      <td>0.950700</td>\n",
       "      <td>0.950700</td>\n",
       "    </tr>\n",
       "    <tr>\n",
       "      <th>2811</th>\n",
       "      <td>poutcome_success</td>\n",
       "      <td>pdays</td>\n",
       "      <td>0.950700</td>\n",
       "      <td>0.950700</td>\n",
       "    </tr>\n",
       "    <tr>\n",
       "      <th>494</th>\n",
       "      <td>nr.employed</td>\n",
       "      <td>euribor3m</td>\n",
       "      <td>0.945154</td>\n",
       "      <td>0.945154</td>\n",
       "    </tr>\n",
       "    <tr>\n",
       "      <th>441</th>\n",
       "      <td>euribor3m</td>\n",
       "      <td>nr.employed</td>\n",
       "      <td>0.945154</td>\n",
       "      <td>0.945154</td>\n",
       "    </tr>\n",
       "    <tr>\n",
       "      <th>279</th>\n",
       "      <td>emp.var.rate</td>\n",
       "      <td>nr.employed</td>\n",
       "      <td>0.906970</td>\n",
       "      <td>0.906970</td>\n",
       "    </tr>\n",
       "    <tr>\n",
       "      <th>491</th>\n",
       "      <td>nr.employed</td>\n",
       "      <td>emp.var.rate</td>\n",
       "      <td>0.906970</td>\n",
       "      <td>0.906970</td>\n",
       "    </tr>\n",
       "    <tr>\n",
       "      <th>267</th>\n",
       "      <td>previous</td>\n",
       "      <td>poutcome_nonexistent</td>\n",
       "      <td>0.878776</td>\n",
       "      <td>0.878776</td>\n",
       "    </tr>\n",
       "    <tr>\n",
       "      <th>2758</th>\n",
       "      <td>poutcome_nonexistent</td>\n",
       "      <td>previous</td>\n",
       "      <td>0.878776</td>\n",
       "      <td>0.878776</td>\n",
       "    </tr>\n",
       "  </tbody>\n",
       "</table>\n",
       "</div>"
      ]
     },
     "execution_count": 15,
     "metadata": {},
     "output_type": "execute_result"
    }
   ],
   "execution_count": 15
  },
  {
   "metadata": {
    "ExecuteTime": {
     "end_time": "2024-12-03T22:26:32.536485Z",
     "start_time": "2024-12-03T22:26:32.533732Z"
    }
   },
   "cell_type": "code",
   "source": [
    "drop_features = ['housing_unknown', 'pdays', 'emp.var.rate', 'nr.employed', 'previous']\n",
    "\n",
    "df.drop(columns=drop_features, inplace=True)"
   ],
   "id": "418c882711357608",
   "outputs": [],
   "execution_count": 16
  },
  {
   "metadata": {
    "ExecuteTime": {
     "end_time": "2024-12-03T22:26:33.092643Z",
     "start_time": "2024-12-03T22:26:33.089567Z"
    }
   },
   "cell_type": "code",
   "source": [
    "target_corr = correlation_matrix['y_yes'].sort_values(ascending=False)\n",
    "\n",
    "target_corr.drop(index='y_yes', inplace=True)\n",
    "target_corr.drop(index=drop_features, inplace=True)\n",
    "print(target_corr)"
   ],
   "id": "3d2101260b979a8f",
   "outputs": [
    {
     "name": "stdout",
     "output_type": "stream",
     "text": [
      "duration                         0.405274\n",
      "poutcome_success                 0.316269\n",
      "month_mar                        0.144014\n",
      "month_oct                        0.137366\n",
      "month_sep                        0.126067\n",
      "job_student                      0.093955\n",
      "job_retired                      0.092221\n",
      "month_dec                        0.079303\n",
      "cons.conf.idx                    0.054878\n",
      "marital_single                   0.054133\n",
      "education_university.degree      0.050364\n",
      "age                              0.030399\n",
      "education_unknown                0.021430\n",
      "job_unemployed                   0.014752\n",
      "day_of_week_thu                  0.013888\n",
      "housing_yes                      0.011743\n",
      "day_of_week_tue                  0.008046\n",
      "education_illiterate             0.007246\n",
      "day_of_week_wed                  0.006302\n",
      "marital_unknown                  0.005211\n",
      "education_professional.course    0.001003\n",
      "job_unknown                     -0.000151\n",
      "job_management                  -0.000419\n",
      "loan_unknown                    -0.002270\n",
      "default_yes                     -0.003041\n",
      "loan_yes                        -0.004466\n",
      "job_self-employed               -0.004663\n",
      "job_technician                  -0.006149\n",
      "job_housemaid                   -0.006505\n",
      "education_high.school           -0.007452\n",
      "month_aug                       -0.008813\n",
      "month_jun                       -0.009182\n",
      "month_nov                       -0.011796\n",
      "job_entrepreneur                -0.016644\n",
      "day_of_week_mon                 -0.021265\n",
      "education_basic.6y              -0.023517\n",
      "month_jul                       -0.032230\n",
      "job_services                    -0.032301\n",
      "marital_married                 -0.043398\n",
      "education_basic.9y              -0.045135\n",
      "campaign                        -0.066357\n",
      "job_blue-collar                 -0.074423\n",
      "default_unknown                 -0.099293\n",
      "month_may                       -0.108271\n",
      "cons.price.idx                  -0.136211\n",
      "contact_telephone               -0.144773\n",
      "poutcome_nonexistent            -0.193507\n",
      "euribor3m                       -0.307771\n",
      "Name: y_yes, dtype: float64\n"
     ]
    }
   ],
   "execution_count": 17
  },
  {
   "metadata": {
    "ExecuteTime": {
     "end_time": "2024-12-03T22:26:33.717597Z",
     "start_time": "2024-12-03T22:26:33.714592Z"
    }
   },
   "cell_type": "code",
   "source": [
    "target_corr = target_corr.abs()\n",
    "print(target_corr.describe())\n"
   ],
   "id": "74edca981c12037",
   "outputs": [
    {
     "name": "stdout",
     "output_type": "stream",
     "text": [
      "count    48.000000\n",
      "mean      0.064247\n",
      "std       0.088347\n",
      "min       0.000151\n",
      "25%       0.007401\n",
      "50%       0.026958\n",
      "75%       0.092654\n",
      "max       0.405274\n",
      "Name: y_yes, dtype: float64\n"
     ]
    }
   ],
   "execution_count": 18
  },
  {
   "metadata": {
    "ExecuteTime": {
     "end_time": "2024-12-03T22:26:34.361765Z",
     "start_time": "2024-12-03T22:26:34.359645Z"
    }
   },
   "cell_type": "code",
   "source": [
    "selected_features = target_corr[target_corr > 0.02].index.tolist()\n",
    "print(len(selected_features))"
   ],
   "id": "fd068bc148751057",
   "outputs": [
    {
     "name": "stdout",
     "output_type": "stream",
     "text": [
      "27\n"
     ]
    }
   ],
   "execution_count": 19
  },
  {
   "metadata": {
    "ExecuteTime": {
     "end_time": "2024-12-03T22:26:34.977337Z",
     "start_time": "2024-12-03T22:26:34.975196Z"
    }
   },
   "cell_type": "code",
   "source": [
    "removed_features = target_corr[target_corr <= 0.02].index.tolist()\n",
    "print(removed_features)"
   ],
   "id": "9de8640ea54cf2e0",
   "outputs": [
    {
     "name": "stdout",
     "output_type": "stream",
     "text": [
      "['job_unemployed', 'day_of_week_thu', 'housing_yes', 'day_of_week_tue', 'education_illiterate', 'day_of_week_wed', 'marital_unknown', 'education_professional.course', 'job_unknown', 'job_management', 'loan_unknown', 'default_yes', 'loan_yes', 'job_self-employed', 'job_technician', 'job_housemaid', 'education_high.school', 'month_aug', 'month_jun', 'month_nov', 'job_entrepreneur']\n"
     ]
    }
   ],
   "execution_count": 20
  },
  {
   "metadata": {
    "ExecuteTime": {
     "end_time": "2024-12-03T22:26:35.605167Z",
     "start_time": "2024-12-03T22:26:35.595550Z"
    }
   },
   "cell_type": "code",
   "source": [
    "X_selected = df[selected_features]\n",
    "X_selected"
   ],
   "id": "c41b2f1d8f1737bb",
   "outputs": [
    {
     "data": {
      "text/plain": [
       "       duration  poutcome_success  month_mar  month_oct  month_sep  \\\n",
       "0           261             False      False      False      False   \n",
       "1           149             False      False      False      False   \n",
       "2           226             False      False      False      False   \n",
       "3           151             False      False      False      False   \n",
       "4           307             False      False      False      False   \n",
       "...         ...               ...        ...        ...        ...   \n",
       "41183       334             False      False      False      False   \n",
       "41184       383             False      False      False      False   \n",
       "41185       189             False      False      False      False   \n",
       "41186       442             False      False      False      False   \n",
       "41187       239             False      False      False      False   \n",
       "\n",
       "       job_student  job_retired  month_dec  cons.conf.idx  marital_single  \\\n",
       "0            False        False      False          -36.4           False   \n",
       "1            False        False      False          -36.4           False   \n",
       "2            False        False      False          -36.4           False   \n",
       "3            False        False      False          -36.4           False   \n",
       "4            False        False      False          -36.4           False   \n",
       "...            ...          ...        ...            ...             ...   \n",
       "41183        False         True      False          -50.8           False   \n",
       "41184        False        False      False          -50.8           False   \n",
       "41185        False         True      False          -50.8           False   \n",
       "41186        False        False      False          -50.8           False   \n",
       "41187        False         True      False          -50.8           False   \n",
       "\n",
       "       ...  marital_married  education_basic.9y  campaign  job_blue-collar  \\\n",
       "0      ...             True               False         1            False   \n",
       "1      ...             True               False         1            False   \n",
       "2      ...             True               False         1            False   \n",
       "3      ...             True               False         1            False   \n",
       "4      ...             True               False         1            False   \n",
       "...    ...              ...                 ...       ...              ...   \n",
       "41183  ...             True               False         1            False   \n",
       "41184  ...             True               False         1             True   \n",
       "41185  ...             True               False         2            False   \n",
       "41186  ...             True               False         1            False   \n",
       "41187  ...             True               False         3            False   \n",
       "\n",
       "       default_unknown  month_may  cons.price.idx  contact_telephone  \\\n",
       "0                False       True          93.994               True   \n",
       "1                 True       True          93.994               True   \n",
       "2                False       True          93.994               True   \n",
       "3                False       True          93.994               True   \n",
       "4                False       True          93.994               True   \n",
       "...                ...        ...             ...                ...   \n",
       "41183            False      False          94.767              False   \n",
       "41184            False      False          94.767              False   \n",
       "41185            False      False          94.767              False   \n",
       "41186            False      False          94.767              False   \n",
       "41187            False      False          94.767              False   \n",
       "\n",
       "       poutcome_nonexistent  euribor3m  \n",
       "0                      True      4.857  \n",
       "1                      True      4.857  \n",
       "2                      True      4.857  \n",
       "3                      True      4.857  \n",
       "4                      True      4.857  \n",
       "...                     ...        ...  \n",
       "41183                  True      1.028  \n",
       "41184                  True      1.028  \n",
       "41185                  True      1.028  \n",
       "41186                  True      1.028  \n",
       "41187                 False      1.028  \n",
       "\n",
       "[41188 rows x 27 columns]"
      ],
      "text/html": [
       "<div>\n",
       "<style scoped>\n",
       "    .dataframe tbody tr th:only-of-type {\n",
       "        vertical-align: middle;\n",
       "    }\n",
       "\n",
       "    .dataframe tbody tr th {\n",
       "        vertical-align: top;\n",
       "    }\n",
       "\n",
       "    .dataframe thead th {\n",
       "        text-align: right;\n",
       "    }\n",
       "</style>\n",
       "<table border=\"1\" class=\"dataframe\">\n",
       "  <thead>\n",
       "    <tr style=\"text-align: right;\">\n",
       "      <th></th>\n",
       "      <th>duration</th>\n",
       "      <th>poutcome_success</th>\n",
       "      <th>month_mar</th>\n",
       "      <th>month_oct</th>\n",
       "      <th>month_sep</th>\n",
       "      <th>job_student</th>\n",
       "      <th>job_retired</th>\n",
       "      <th>month_dec</th>\n",
       "      <th>cons.conf.idx</th>\n",
       "      <th>marital_single</th>\n",
       "      <th>...</th>\n",
       "      <th>marital_married</th>\n",
       "      <th>education_basic.9y</th>\n",
       "      <th>campaign</th>\n",
       "      <th>job_blue-collar</th>\n",
       "      <th>default_unknown</th>\n",
       "      <th>month_may</th>\n",
       "      <th>cons.price.idx</th>\n",
       "      <th>contact_telephone</th>\n",
       "      <th>poutcome_nonexistent</th>\n",
       "      <th>euribor3m</th>\n",
       "    </tr>\n",
       "  </thead>\n",
       "  <tbody>\n",
       "    <tr>\n",
       "      <th>0</th>\n",
       "      <td>261</td>\n",
       "      <td>False</td>\n",
       "      <td>False</td>\n",
       "      <td>False</td>\n",
       "      <td>False</td>\n",
       "      <td>False</td>\n",
       "      <td>False</td>\n",
       "      <td>False</td>\n",
       "      <td>-36.4</td>\n",
       "      <td>False</td>\n",
       "      <td>...</td>\n",
       "      <td>True</td>\n",
       "      <td>False</td>\n",
       "      <td>1</td>\n",
       "      <td>False</td>\n",
       "      <td>False</td>\n",
       "      <td>True</td>\n",
       "      <td>93.994</td>\n",
       "      <td>True</td>\n",
       "      <td>True</td>\n",
       "      <td>4.857</td>\n",
       "    </tr>\n",
       "    <tr>\n",
       "      <th>1</th>\n",
       "      <td>149</td>\n",
       "      <td>False</td>\n",
       "      <td>False</td>\n",
       "      <td>False</td>\n",
       "      <td>False</td>\n",
       "      <td>False</td>\n",
       "      <td>False</td>\n",
       "      <td>False</td>\n",
       "      <td>-36.4</td>\n",
       "      <td>False</td>\n",
       "      <td>...</td>\n",
       "      <td>True</td>\n",
       "      <td>False</td>\n",
       "      <td>1</td>\n",
       "      <td>False</td>\n",
       "      <td>True</td>\n",
       "      <td>True</td>\n",
       "      <td>93.994</td>\n",
       "      <td>True</td>\n",
       "      <td>True</td>\n",
       "      <td>4.857</td>\n",
       "    </tr>\n",
       "    <tr>\n",
       "      <th>2</th>\n",
       "      <td>226</td>\n",
       "      <td>False</td>\n",
       "      <td>False</td>\n",
       "      <td>False</td>\n",
       "      <td>False</td>\n",
       "      <td>False</td>\n",
       "      <td>False</td>\n",
       "      <td>False</td>\n",
       "      <td>-36.4</td>\n",
       "      <td>False</td>\n",
       "      <td>...</td>\n",
       "      <td>True</td>\n",
       "      <td>False</td>\n",
       "      <td>1</td>\n",
       "      <td>False</td>\n",
       "      <td>False</td>\n",
       "      <td>True</td>\n",
       "      <td>93.994</td>\n",
       "      <td>True</td>\n",
       "      <td>True</td>\n",
       "      <td>4.857</td>\n",
       "    </tr>\n",
       "    <tr>\n",
       "      <th>3</th>\n",
       "      <td>151</td>\n",
       "      <td>False</td>\n",
       "      <td>False</td>\n",
       "      <td>False</td>\n",
       "      <td>False</td>\n",
       "      <td>False</td>\n",
       "      <td>False</td>\n",
       "      <td>False</td>\n",
       "      <td>-36.4</td>\n",
       "      <td>False</td>\n",
       "      <td>...</td>\n",
       "      <td>True</td>\n",
       "      <td>False</td>\n",
       "      <td>1</td>\n",
       "      <td>False</td>\n",
       "      <td>False</td>\n",
       "      <td>True</td>\n",
       "      <td>93.994</td>\n",
       "      <td>True</td>\n",
       "      <td>True</td>\n",
       "      <td>4.857</td>\n",
       "    </tr>\n",
       "    <tr>\n",
       "      <th>4</th>\n",
       "      <td>307</td>\n",
       "      <td>False</td>\n",
       "      <td>False</td>\n",
       "      <td>False</td>\n",
       "      <td>False</td>\n",
       "      <td>False</td>\n",
       "      <td>False</td>\n",
       "      <td>False</td>\n",
       "      <td>-36.4</td>\n",
       "      <td>False</td>\n",
       "      <td>...</td>\n",
       "      <td>True</td>\n",
       "      <td>False</td>\n",
       "      <td>1</td>\n",
       "      <td>False</td>\n",
       "      <td>False</td>\n",
       "      <td>True</td>\n",
       "      <td>93.994</td>\n",
       "      <td>True</td>\n",
       "      <td>True</td>\n",
       "      <td>4.857</td>\n",
       "    </tr>\n",
       "    <tr>\n",
       "      <th>...</th>\n",
       "      <td>...</td>\n",
       "      <td>...</td>\n",
       "      <td>...</td>\n",
       "      <td>...</td>\n",
       "      <td>...</td>\n",
       "      <td>...</td>\n",
       "      <td>...</td>\n",
       "      <td>...</td>\n",
       "      <td>...</td>\n",
       "      <td>...</td>\n",
       "      <td>...</td>\n",
       "      <td>...</td>\n",
       "      <td>...</td>\n",
       "      <td>...</td>\n",
       "      <td>...</td>\n",
       "      <td>...</td>\n",
       "      <td>...</td>\n",
       "      <td>...</td>\n",
       "      <td>...</td>\n",
       "      <td>...</td>\n",
       "      <td>...</td>\n",
       "    </tr>\n",
       "    <tr>\n",
       "      <th>41183</th>\n",
       "      <td>334</td>\n",
       "      <td>False</td>\n",
       "      <td>False</td>\n",
       "      <td>False</td>\n",
       "      <td>False</td>\n",
       "      <td>False</td>\n",
       "      <td>True</td>\n",
       "      <td>False</td>\n",
       "      <td>-50.8</td>\n",
       "      <td>False</td>\n",
       "      <td>...</td>\n",
       "      <td>True</td>\n",
       "      <td>False</td>\n",
       "      <td>1</td>\n",
       "      <td>False</td>\n",
       "      <td>False</td>\n",
       "      <td>False</td>\n",
       "      <td>94.767</td>\n",
       "      <td>False</td>\n",
       "      <td>True</td>\n",
       "      <td>1.028</td>\n",
       "    </tr>\n",
       "    <tr>\n",
       "      <th>41184</th>\n",
       "      <td>383</td>\n",
       "      <td>False</td>\n",
       "      <td>False</td>\n",
       "      <td>False</td>\n",
       "      <td>False</td>\n",
       "      <td>False</td>\n",
       "      <td>False</td>\n",
       "      <td>False</td>\n",
       "      <td>-50.8</td>\n",
       "      <td>False</td>\n",
       "      <td>...</td>\n",
       "      <td>True</td>\n",
       "      <td>False</td>\n",
       "      <td>1</td>\n",
       "      <td>True</td>\n",
       "      <td>False</td>\n",
       "      <td>False</td>\n",
       "      <td>94.767</td>\n",
       "      <td>False</td>\n",
       "      <td>True</td>\n",
       "      <td>1.028</td>\n",
       "    </tr>\n",
       "    <tr>\n",
       "      <th>41185</th>\n",
       "      <td>189</td>\n",
       "      <td>False</td>\n",
       "      <td>False</td>\n",
       "      <td>False</td>\n",
       "      <td>False</td>\n",
       "      <td>False</td>\n",
       "      <td>True</td>\n",
       "      <td>False</td>\n",
       "      <td>-50.8</td>\n",
       "      <td>False</td>\n",
       "      <td>...</td>\n",
       "      <td>True</td>\n",
       "      <td>False</td>\n",
       "      <td>2</td>\n",
       "      <td>False</td>\n",
       "      <td>False</td>\n",
       "      <td>False</td>\n",
       "      <td>94.767</td>\n",
       "      <td>False</td>\n",
       "      <td>True</td>\n",
       "      <td>1.028</td>\n",
       "    </tr>\n",
       "    <tr>\n",
       "      <th>41186</th>\n",
       "      <td>442</td>\n",
       "      <td>False</td>\n",
       "      <td>False</td>\n",
       "      <td>False</td>\n",
       "      <td>False</td>\n",
       "      <td>False</td>\n",
       "      <td>False</td>\n",
       "      <td>False</td>\n",
       "      <td>-50.8</td>\n",
       "      <td>False</td>\n",
       "      <td>...</td>\n",
       "      <td>True</td>\n",
       "      <td>False</td>\n",
       "      <td>1</td>\n",
       "      <td>False</td>\n",
       "      <td>False</td>\n",
       "      <td>False</td>\n",
       "      <td>94.767</td>\n",
       "      <td>False</td>\n",
       "      <td>True</td>\n",
       "      <td>1.028</td>\n",
       "    </tr>\n",
       "    <tr>\n",
       "      <th>41187</th>\n",
       "      <td>239</td>\n",
       "      <td>False</td>\n",
       "      <td>False</td>\n",
       "      <td>False</td>\n",
       "      <td>False</td>\n",
       "      <td>False</td>\n",
       "      <td>True</td>\n",
       "      <td>False</td>\n",
       "      <td>-50.8</td>\n",
       "      <td>False</td>\n",
       "      <td>...</td>\n",
       "      <td>True</td>\n",
       "      <td>False</td>\n",
       "      <td>3</td>\n",
       "      <td>False</td>\n",
       "      <td>False</td>\n",
       "      <td>False</td>\n",
       "      <td>94.767</td>\n",
       "      <td>False</td>\n",
       "      <td>False</td>\n",
       "      <td>1.028</td>\n",
       "    </tr>\n",
       "  </tbody>\n",
       "</table>\n",
       "<p>41188 rows × 27 columns</p>\n",
       "</div>"
      ]
     },
     "execution_count": 21,
     "metadata": {},
     "output_type": "execute_result"
    }
   ],
   "execution_count": 21
  },
  {
   "metadata": {
    "ExecuteTime": {
     "end_time": "2024-12-03T22:26:36.368744Z",
     "start_time": "2024-12-03T22:26:36.366305Z"
    }
   },
   "cell_type": "code",
   "source": "X, y = X_selected, df['y_yes']",
   "id": "c8f2ac5e32f73f01",
   "outputs": [],
   "execution_count": 22
  },
  {
   "metadata": {
    "ExecuteTime": {
     "end_time": "2024-12-03T22:26:36.974326Z",
     "start_time": "2024-12-03T22:26:36.962044Z"
    }
   },
   "cell_type": "code",
   "source": [
    "# perform stratified split\n",
    "X_train, X_test, y_train, y_test = train_test_split(X, y, test_size=0.2, random_state=42, stratify=y)\n",
    "print(y_train.value_counts())\n",
    "print(y_test.value_counts())"
   ],
   "id": "2fc756bab15ffd40",
   "outputs": [
    {
     "name": "stdout",
     "output_type": "stream",
     "text": [
      "y_yes\n",
      "False    29238\n",
      "True      3712\n",
      "Name: count, dtype: int64\n",
      "y_yes\n",
      "False    7310\n",
      "True      928\n",
      "Name: count, dtype: int64\n"
     ]
    }
   ],
   "execution_count": 23
  },
  {
   "metadata": {
    "ExecuteTime": {
     "end_time": "2024-12-03T22:26:37.653604Z",
     "start_time": "2024-12-03T22:26:37.650949Z"
    }
   },
   "cell_type": "code",
   "source": [
    "numerical_features = ['age', 'duration', 'campaign', 'pdays', 'previous', 'emp.var.rate', 'cons.price.idx', 'cons.conf.idx', 'euribor3m', 'nr.employed']\n",
    "numerical_features = [feature for feature in numerical_features if feature in selected_features]\n",
    "numerical_features"
   ],
   "id": "3148bfa5d8ca2953",
   "outputs": [
    {
     "data": {
      "text/plain": [
       "['age', 'duration', 'campaign', 'cons.price.idx', 'cons.conf.idx', 'euribor3m']"
      ]
     },
     "execution_count": 24,
     "metadata": {},
     "output_type": "execute_result"
    }
   ],
   "execution_count": 24
  },
  {
   "metadata": {
    "ExecuteTime": {
     "end_time": "2024-12-03T22:26:38.545999Z",
     "start_time": "2024-12-03T22:26:38.524812Z"
    }
   },
   "cell_type": "code",
   "source": [
    "scaler = StandardScaler()\n",
    "X_train = scaler.fit_transform(X_train)\n",
    "X_test = scaler.transform(X_test)\n",
    "\n"
   ],
   "id": "ca24fc1b4125ff23",
   "outputs": [],
   "execution_count": 25
  },
  {
   "metadata": {
    "ExecuteTime": {
     "end_time": "2024-12-03T22:26:39.418796Z",
     "start_time": "2024-12-03T22:26:39.334716Z"
    }
   },
   "cell_type": "code",
   "source": [
    "# perform SMOTE\n",
    "smote = SMOTE(random_state=42)\n",
    "\n",
    "X_resampled, y_resampled = smote.fit_resample(X_train, y_train)\n",
    "print(y_resampled.value_counts())\n",
    "X_train, y_train = X_resampled, y_resampled\n"
   ],
   "id": "c4497049f8b69ae4",
   "outputs": [
    {
     "name": "stdout",
     "output_type": "stream",
     "text": [
      "y_yes\n",
      "False    29238\n",
      "True     29238\n",
      "Name: count, dtype: int64\n"
     ]
    }
   ],
   "execution_count": 26
  },
  {
   "metadata": {},
   "cell_type": "markdown",
   "source": "## PCA",
   "id": "cb8afa2cdf0801c6"
  },
  {
   "metadata": {
    "ExecuteTime": {
     "end_time": "2024-12-03T22:26:41.604933Z",
     "start_time": "2024-12-03T22:26:41.525170Z"
    }
   },
   "cell_type": "code",
   "source": [
    "pca = PCA()\n",
    "X_train_pca = pca.fit_transform(X_train)\n",
    "\n",
    "explained_variance_ratio = pca.explained_variance_ratio_\n",
    "\n",
    "plt.figure(figsize=(10, 6))\n",
    "plt.plot(np.cumsum(explained_variance_ratio))\n",
    "plt.xlabel('Number of Principal Components')\n",
    "plt.ylabel('Cumulative Explained Variance')\n",
    "plt.title('Explained Variance vs. Number of Components')\n",
    "plt.grid()\n",
    "plt.show()\n",
    "\n"
   ],
   "id": "5adb239d246c70",
   "outputs": [
    {
     "data": {
      "text/plain": [
       "<Figure size 1000x600 with 1 Axes>"
      ],
      "image/png": "[encoded data removed]"
     },
     "metadata": {},
     "output_type": "display_data"
    }
   ],
   "execution_count": 27
  },
  {
   "metadata": {
    "ExecuteTime": {
     "end_time": "2024-12-03T22:26:43.064321Z",
     "start_time": "2024-12-03T22:26:43.055424Z"
    }
   },
   "cell_type": "code",
   "source": [
    "pca = PCA(n_components=0.95)\n",
    "X_train_pca = pca.fit_transform(X_train)\n",
    "X_test_pca = pca.transform(X_test)\n",
    "\n",
    "print(\"Number of Principal Components:\", pca.n_components_)\n"
   ],
   "id": "23792db5e28cd2b2",
   "outputs": [
    {
     "name": "stdout",
     "output_type": "stream",
     "text": [
      "Number of Principal Components: 22\n"
     ]
    }
   ],
   "execution_count": 28
  },
  {
   "metadata": {
    "ExecuteTime": {
     "end_time": "2024-12-03T22:26:44.793969Z",
     "start_time": "2024-12-03T22:26:44.791214Z"
    }
   },
   "cell_type": "code",
   "source": "X_train_pca",
   "id": "9c42697fe22758e2",
   "outputs": [
    {
     "data": {
      "text/plain": [
       "array([[-1.62532299,  1.16996718,  0.04544256, ...,  0.74087421,\n",
       "        -0.981798  ,  0.74767259],\n",
       "       [ 0.13986774,  0.29653243, -0.11052936, ..., -2.13149547,\n",
       "        -0.44466934,  0.73145276],\n",
       "       [-0.34602358,  4.10957387,  0.99677257, ..., -0.36675428,\n",
       "         1.10686944, -0.3634342 ],\n",
       "       ...,\n",
       "       [-0.49024265,  0.02189431,  0.58303274, ...,  0.61661957,\n",
       "        -0.83509962, -0.67990856],\n",
       "       [-0.05398435, -0.17954351,  0.57539449, ...,  0.53902338,\n",
       "        -0.03816964,  0.61020825],\n",
       "       [-0.57384552, -0.63464449,  0.3294711 , ...,  0.38952036,\n",
       "        -0.47753726,  0.3605911 ]])"
      ]
     },
     "execution_count": 29,
     "metadata": {},
     "output_type": "execute_result"
    }
   ],
   "execution_count": 29
  },
  {
   "metadata": {
    "ExecuteTime": {
     "end_time": "2024-12-03T22:26:45.818517Z",
     "start_time": "2024-12-03T22:26:45.816411Z"
    }
   },
   "cell_type": "code",
   "source": "X_train, X_test = X_train_pca, X_test_pca",
   "id": "356a5e3772edc331",
   "outputs": [],
   "execution_count": 30
  },
  {
   "metadata": {},
   "cell_type": "markdown",
   "source": "# Model Training",
   "id": "605ef35ef25f903f"
  },
  {
   "metadata": {
    "ExecuteTime": {
     "end_time": "2024-12-03T22:26:47.329547Z",
     "start_time": "2024-12-03T22:26:47.326163Z"
    }
   },
   "cell_type": "code",
   "source": "y_train.value_counts()",
   "id": "ff41b8b76991c35a",
   "outputs": [
    {
     "data": {
      "text/plain": [
       "y_yes\n",
       "False    29238\n",
       "True     29238\n",
       "Name: count, dtype: int64"
      ]
     },
     "execution_count": 31,
     "metadata": {},
     "output_type": "execute_result"
    }
   ],
   "execution_count": 31
  },
  {
   "metadata": {
    "ExecuteTime": {
     "end_time": "2024-12-03T22:26:48.743633Z",
     "start_time": "2024-12-03T22:26:48.739914Z"
    }
   },
   "cell_type": "code",
   "source": "y_test.value_counts()",
   "id": "10186ac8a4646f77",
   "outputs": [
    {
     "data": {
      "text/plain": [
       "y_yes\n",
       "False    7310\n",
       "True      928\n",
       "Name: count, dtype: int64"
      ]
     },
     "execution_count": 32,
     "metadata": {},
     "output_type": "execute_result"
    }
   ],
   "execution_count": 32
  },
  {
   "metadata": {},
   "cell_type": "markdown",
   "source": "## Random Forest",
   "id": "ef09ebed8064e00f"
  },
  {
   "metadata": {
    "ExecuteTime": {
     "end_time": "2024-12-03T22:31:33.331956Z",
     "start_time": "2024-12-03T22:27:05.607120Z"
    }
   },
   "cell_type": "code",
   "source": [
    "rf = RandomForestClassifier(random_state=42)\n",
    "\n",
    "param_grid = {\n",
    "    'n_estimators': [100, 200, 300],            # Number of trees in the forest\n",
    "    'max_depth': [None, 10, 20, 30],             # Maximum depth of each tree\n",
    "    'min_samples_split': [2, 5, 10],             # Minimum samples to split a node\n",
    "    'min_samples_leaf':  [2, 4, 10],               # Minimum samples at a leaf node\n",
    "    'max_features': ['auto', 'sqrt', 'log2']  # Number of features to consider for the best split\n",
    "}\n",
    "\n",
    "stratified_kfold = StratifiedKFold(n_splits=5, shuffle=True, random_state=42)\n",
    "\n",
    "random_search = RandomizedSearchCV(estimator=rf, param_distributions=param_grid, cv = stratified_kfold, \n",
    "                                   n_iter=20, n_jobs=-1, verbose=2, random_state=42, scoring='recall')\n",
    "random_search.fit(X_train, y_train)\n",
    "\n",
    "best_params = random_search.best_params_\n",
    "print(\"Best Parameters from Randomized Search:\", best_params)\n",
    "best_rf = random_search.best_estimator_"
   ],
   "id": "d3b7d8f3e38ea437",
   "outputs": [
    {
     "name": "stdout",
     "output_type": "stream",
     "text": [
      "Fitting 5 folds for each of 20 candidates, totalling 100 fits\n"
     ]
    },
    {
     "name": "stderr",
     "output_type": "stream",
     "text": [
      "/Users/skc/Desktop/Work/ml-project/venv/lib/python3.12/site-packages/sklearn/model_selection/_validation.py:540: FitFailedWarning: \n",
      "40 fits failed out of a total of 100.\n",
      "The score on these train-test partitions for these parameters will be set to nan.\n",
      "If these failures are not expected, you can try to debug them by setting error_score='raise'.\n",
      "\n",
      "Below are more details about the failures:\n",
      "--------------------------------------------------------------------------------\n",
      "13 fits failed with the following error:\n",
      "Traceback (most recent call last):\n",
      "  File \"/Users/skc/Desktop/Work/ml-project/venv/lib/python3.12/site-packages/sklearn/model_selection/_validation.py\", line 888, in _fit_and_score\n",
      "    estimator.fit(X_train, y_train, **fit_params)\n",
      "  File \"/Users/skc/Desktop/Work/ml-project/venv/lib/python3.12/site-packages/sklearn/base.py\", line 1466, in wrapper\n",
      "    estimator._validate_params()\n",
      "  File \"/Users/skc/Desktop/Work/ml-project/venv/lib/python3.12/site-packages/sklearn/base.py\", line 666, in _validate_params\n",
      "    validate_parameter_constraints(\n",
      "  File \"/Users/skc/Desktop/Work/ml-project/venv/lib/python3.12/site-packages/sklearn/utils/_param_validation.py\", line 95, in validate_parameter_constraints\n",
      "    raise InvalidParameterError(\n",
      "sklearn.utils._param_validation.InvalidParameterError: The 'max_features' parameter of RandomForestClassifier must be an int in the range [1, inf), a float in the range (0.0, 1.0], a str among {'log2', 'sqrt'} or None. Got 'auto' instead.\n",
      "\n",
      "--------------------------------------------------------------------------------\n",
      "27 fits failed with the following error:\n",
      "Traceback (most recent call last):\n",
      "  File \"/Users/skc/Desktop/Work/ml-project/venv/lib/python3.12/site-packages/sklearn/model_selection/_validation.py\", line 888, in _fit_and_score\n",
      "    estimator.fit(X_train, y_train, **fit_params)\n",
      "  File \"/Users/skc/Desktop/Work/ml-project/venv/lib/python3.12/site-packages/sklearn/base.py\", line 1466, in wrapper\n",
      "    estimator._validate_params()\n",
      "  File \"/Users/skc/Desktop/Work/ml-project/venv/lib/python3.12/site-packages/sklearn/base.py\", line 666, in _validate_params\n",
      "    validate_parameter_constraints(\n",
      "  File \"/Users/skc/Desktop/Work/ml-project/venv/lib/python3.12/site-packages/sklearn/utils/_param_validation.py\", line 95, in validate_parameter_constraints\n",
      "    raise InvalidParameterError(\n",
      "sklearn.utils._param_validation.InvalidParameterError: The 'max_features' parameter of RandomForestClassifier must be an int in the range [1, inf), a float in the range (0.0, 1.0], a str among {'sqrt', 'log2'} or None. Got 'auto' instead.\n",
      "\n",
      "  warnings.warn(some_fits_failed_message, FitFailedWarning)\n",
      "/Users/skc/Desktop/Work/ml-project/venv/lib/python3.12/site-packages/sklearn/model_selection/_search.py:1103: UserWarning: One or more of the test scores are non-finite: [0.94291681 0.94589237 0.94650802        nan        nan 0.94291681\n",
      " 0.97578506 0.97332255        nan 0.94503736        nan        nan\n",
      " 0.97339086 0.94425064        nan 0.97578508 0.96367758 0.94449007\n",
      "        nan        nan]\n",
      "  warnings.warn(\n"
     ]
    },
    {
     "name": "stdout",
     "output_type": "stream",
     "text": [
      "Best Parameters from Randomized Search: {'n_estimators': 300, 'min_samples_split': 5, 'min_samples_leaf': 2, 'max_features': 'log2', 'max_depth': 30}\n"
     ]
    }
   ],
   "execution_count": 34
  },
  {
   "metadata": {
    "ExecuteTime": {
     "end_time": "2024-12-03T22:31:33.621195Z",
     "start_time": "2024-12-03T22:31:33.403541Z"
    }
   },
   "cell_type": "code",
   "source": [
    "y_pred = best_rf.predict(X_test)\n",
    "\n",
    "print(\"Accuracy:\", accuracy_score(y_test, y_pred))\n",
    "print(\"Precision:\", precision_score(y_test, y_pred))\n",
    "print(\"Recall:\", recall_score(y_test, y_pred))\n",
    "print(\"F1 Score:\", f1_score(y_test, y_pred))\n",
    "print(\"Confusion Matrix:\\n\", confusion_matrix(y_test, y_pred))"
   ],
   "id": "cb52635bcc745762",
   "outputs": [
    {
     "name": "stdout",
     "output_type": "stream",
     "text": [
      "Accuracy: 0.8895362952172857\n",
      "Precision: 0.5061898211829436\n",
      "Recall: 0.7931034482758621\n",
      "F1 Score: 0.617968094038623\n",
      "Confusion Matrix:\n",
      " [[6592  718]\n",
      " [ 192  736]]\n"
     ]
    }
   ],
   "execution_count": 35
  },
  {
   "metadata": {
    "ExecuteTime": {
     "end_time": "2024-12-03T22:31:33.980329Z",
     "start_time": "2024-12-03T22:31:33.691141Z"
    }
   },
   "cell_type": "code",
   "source": [
    "# get the last recall for which the recal is greater than 0.6 \n",
    "y_pred_proba = best_rf.predict_proba(X_test)[:, 1]\n",
    "from sklearn.metrics import precision_recall_curve\n",
    "\n",
    "precision, recall, thresholds = precision_recall_curve(y_test, y_pred_proba)\n",
    "# plot threshold vs precision and recall\n",
    "plt.figure(figsize=(10, 6))\n",
    "plt.plot(thresholds, precision[:-1], label='Precision')\n",
    "plt.plot(thresholds, recall[:-1], label='Recall')\n",
    "plt.xlabel('Threshold')\n",
    "plt.ylabel('Score')\n",
    "plt.title('Threshold vs. Precision and Recall')\n",
    "plt.legend()\n",
    "plt.grid()\n",
    "plt.show()"
   ],
   "id": "a5cd42f16c47951b",
   "outputs": [
    {
     "data": {
      "text/plain": [
       "<Figure size 1000x600 with 1 Axes>"
      ],
      "image/png": "[encoded data removed]"
     },
     "metadata": {},
     "output_type": "display_data"
    }
   ],
   "execution_count": 36
  },
  {
   "metadata": {
    "ExecuteTime": {
     "end_time": "2024-12-03T22:36:10.318063Z",
     "start_time": "2024-12-03T22:36:10.315544Z"
    }
   },
   "cell_type": "code",
   "source": [
    "# get f1 score\n",
    "f1 = 2 * (precision * recall) / (precision + recall)\n",
    "f1_index = np.argmax(f1)\n",
    "threshold = thresholds[f1_index]\n",
    "print(\"Threshold:\", threshold)\n"
   ],
   "id": "1614a11437c21fad",
   "outputs": [
    {
     "name": "stdout",
     "output_type": "stream",
     "text": [
      "Threshold: 0.5003637566137565\n"
     ]
    }
   ],
   "execution_count": 42
  },
  {
   "metadata": {
    "ExecuteTime": {
     "end_time": "2024-12-03T22:36:27.992199Z",
     "start_time": "2024-12-03T22:36:27.982840Z"
    }
   },
   "cell_type": "code",
   "source": [
    "# Adjust predictions using the new threshold\n",
    "y_pred_adjusted = (y_pred_proba >= threshold).astype(int)\n",
    "\n",
    "print(\"Accuracy:\", accuracy_score(y_test, y_pred_adjusted))\n",
    "print(\"Precision:\", precision_score(y_test, y_pred_adjusted))\n",
    "print(\"Recall:\", recall_score(y_test, y_pred_adjusted))\n",
    "print(\"F1 Score:\", f1_score(y_test, y_pred_adjusted))\n",
    "print(\"Confusion Matrix:\\n\", confusion_matrix(y_test, y_pred_adjusted))\n"
   ],
   "id": "ce7c558dd8e52a27",
   "outputs": [
    {
     "name": "stdout",
     "output_type": "stream",
     "text": [
      "Accuracy: 0.8895362952172857\n",
      "Precision: 0.5061898211829436\n",
      "Recall: 0.7931034482758621\n",
      "F1 Score: 0.617968094038623\n",
      "Confusion Matrix:\n",
      " [[6592  718]\n",
      " [ 192  736]]\n"
     ]
    }
   ],
   "execution_count": 43
  },
  {
   "metadata": {
    "ExecuteTime": {
     "end_time": "2024-12-03T22:44:34.007883Z",
     "start_time": "2024-12-03T22:39:20.578662Z"
    }
   },
   "cell_type": "code",
   "source": [
    "from imblearn.pipeline import Pipeline\n",
    "from imblearn.over_sampling import SMOTE\n",
    "from sklearn.preprocessing import StandardScaler\n",
    "from sklearn.decomposition import PCA\n",
    "from sklearn.ensemble import RandomForestClassifier\n",
    "from sklearn.metrics import precision_recall_fscore_support\n",
    "from sklearn.model_selection import StratifiedKFold\n",
    "\n",
    "# Define your pipeline\n",
    "pipeline = Pipeline([\n",
    "    ('scaler', StandardScaler()),      # Standardize features\n",
    "    ('smote', SMOTE(random_state=42)),  # Oversampling\n",
    "    ('pca', PCA(n_components=0.95)),   # Dimensionality reduction\n",
    "    ('rf', best_rf)                    # Predefined RandomForest model\n",
    "])\n",
    "\n",
    "# Cross-validation setup\n",
    "cv = StratifiedKFold(n_splits=5, shuffle=True, random_state=42)\n",
    "\n",
    "# Lists to store metrics for each fold\n",
    "fold_results = []\n",
    "\n",
    "# Perform cross-validation manually\n",
    "for fold_idx, (train_idx, test_idx) in enumerate(cv.split(X, y), 1):\n",
    "    \n",
    "    print(f\"Fold {fold_idx}...\")\n",
    "    print(f\"Train samples: {len(train_idx)}\")\n",
    "    print(f\"Test samples: {len(test_idx)}\")\n",
    "    # Split data into train and test for the current fold\n",
    "    # Split data into train and test for the current fold\n",
    "    X_train_, X_test_ = X.iloc[train_idx], X.iloc[test_idx]\n",
    "    y_train_, y_test_ = y.iloc[train_idx], y.iloc[test_idx]\n",
    "\n",
    "    \n",
    "    # Fit the pipeline on the training data\n",
    "    pipeline.fit(X_train_, y_train_)\n",
    "    \n",
    "    # Predict on the test data\n",
    "    y_pred_proba = pipeline.predict_proba(X_test_)[:, 1]\n",
    "    \n",
    "    y_pred = (y_pred_proba >= threshold).astype(int)\n",
    "    \n",
    "    print(\"Accuracy:\", accuracy_score(y_test_, y_pred))\n",
    "    print(\"Precision:\", precision_score(y_test_, y_pred))\n",
    "    print(\"Recall:\", recall_score(y_test_, y_pred))\n",
    "    print(\"F1 Score:\", f1_score(y_test_, y_pred))\n",
    "    print(\"Confusion Matrix:\\n\", confusion_matrix(y_test_, y_pred))\n",
    "    "
   ],
   "id": "28e8d7c4fd00958b",
   "outputs": [
    {
     "name": "stdout",
     "output_type": "stream",
     "text": [
      "Fold 1...\n",
      "Train samples: 32950\n",
      "Test samples: 8238\n",
      "Accuracy: 0.879582422918184\n",
      "Precision: 0.4777158774373259\n",
      "Recall: 0.7392241379310345\n",
      "F1 Score: 0.5803722504230119\n",
      "Confusion Matrix:\n",
      " [[6560  750]\n",
      " [ 242  686]]\n",
      "Fold 2...\n",
      "Train samples: 32950\n",
      "Test samples: 8238\n",
      "Accuracy: 0.8806749210973537\n",
      "Precision: 0.4808895066018068\n",
      "Recall: 0.7456896551724138\n",
      "F1 Score: 0.5847063793831855\n",
      "Confusion Matrix:\n",
      " [[6563  747]\n",
      " [ 236  692]]\n",
      "Fold 3...\n",
      "Train samples: 32950\n",
      "Test samples: 8238\n",
      "Accuracy: 0.8827385287691187\n",
      "Precision: 0.48695054945054944\n",
      "Recall: 0.7640086206896551\n",
      "F1 Score: 0.5947986577181208\n",
      "Confusion Matrix:\n",
      " [[6563  747]\n",
      " [ 219  709]]\n",
      "Fold 4...\n",
      "Train samples: 32951\n",
      "Test samples: 8237\n",
      "Accuracy: 0.8872162194973898\n",
      "Precision: 0.49964209019327127\n",
      "Recall: 0.7521551724137931\n",
      "F1 Score: 0.6004301075268818\n",
      "Confusion Matrix:\n",
      " [[6610  699]\n",
      " [ 230  698]]\n",
      "Fold 5...\n",
      "Train samples: 32951\n",
      "Test samples: 8237\n",
      "Accuracy: 0.8901299016632269\n",
      "Precision: 0.5082912761355444\n",
      "Recall: 0.759698275862069\n",
      "F1 Score: 0.6090712742980562\n",
      "Confusion Matrix:\n",
      " [[6627  682]\n",
      " [ 223  705]]\n"
     ]
    }
   ],
   "execution_count": 44
  },
  {
   "metadata": {},
   "cell_type": "markdown",
   "source": "## Logistic Regression",
   "id": "e1a613f5ae6b7978"
  },
  {
   "metadata": {
    "ExecuteTime": {
     "end_time": "2024-12-03T22:44:35.931374Z",
     "start_time": "2024-12-03T22:44:34.014681Z"
    }
   },
   "cell_type": "code",
   "source": [
    "log_reg = LogisticRegression(random_state=42)\n",
    "\n",
    "param_dist = {\n",
    "    'C': np.logspace(-4, 4, 20),            # Regularization strength\n",
    "    'penalty': ['l2'],                      # Regularization type\n",
    "    'solver': ['liblinear', 'lbfgs'],       # Solver for optimization\n",
    "}\n",
    "\n",
    "random_search = RandomizedSearchCV(estimator=log_reg, param_distributions=param_dist,\n",
    "                                   n_iter=20, cv=stratified_kfold, n_jobs=-1,\n",
    "                                   verbose=2, random_state=42, scoring='recall')\n",
    "\n",
    "random_search.fit(X_train, y_train)\n",
    "\n",
    "best_params = random_search.best_params_\n",
    "best_lr_model = random_search.best_estimator_\n",
    "\n",
    "print(\"Best Parameters from Randomized Search:\", best_params)"
   ],
   "id": "58a0210d927c9a9c",
   "outputs": [
    {
     "name": "stdout",
     "output_type": "stream",
     "text": [
      "Fitting 5 folds for each of 20 candidates, totalling 100 fits\n",
      "Best Parameters from Randomized Search: {'solver': 'lbfgs', 'penalty': 'l2', 'C': np.float64(3792.690190732246)}\n"
     ]
    }
   ],
   "execution_count": 45
  },
  {
   "metadata": {
    "ExecuteTime": {
     "end_time": "2024-12-03T22:44:35.987664Z",
     "start_time": "2024-12-03T22:44:35.978056Z"
    }
   },
   "cell_type": "code",
   "source": [
    "y_pred = best_lr_model.predict(X_test)\n",
    "\n",
    "print(\"Accuracy:\", accuracy_score(y_test, y_pred))\n",
    "print(\"Precision:\", precision_score(y_test, y_pred))\n",
    "print(\"Recall:\", recall_score(y_test, y_pred))\n",
    "print(\"F1 Score:\", f1_score(y_test, y_pred))\n",
    "print(\"Confusion Matrix:\\n\", confusion_matrix(y_test, y_pred))"
   ],
   "id": "ae549f36b23d670",
   "outputs": [
    {
     "name": "stdout",
     "output_type": "stream",
     "text": [
      "Accuracy: 0.8589463462005341\n",
      "Precision: 0.4359255202628697\n",
      "Recall: 0.8577586206896551\n",
      "F1 Score: 0.5780682643427741\n",
      "Confusion Matrix:\n",
      " [[6280 1030]\n",
      " [ 132  796]]\n"
     ]
    }
   ],
   "execution_count": 46
  },
  {
   "metadata": {
    "ExecuteTime": {
     "end_time": "2024-12-03T22:44:36.425690Z",
     "start_time": "2024-12-03T22:44:36.029902Z"
    }
   },
   "cell_type": "code",
   "source": [
    "from imblearn.pipeline import Pipeline\n",
    "from imblearn.over_sampling import SMOTE\n",
    "from sklearn.preprocessing import StandardScaler\n",
    "from sklearn.decomposition import PCA\n",
    "from sklearn.ensemble import RandomForestClassifier\n",
    "from sklearn.metrics import precision_recall_fscore_support\n",
    "from sklearn.model_selection import StratifiedKFold\n",
    "\n",
    "# Define your pipeline\n",
    "pipeline = Pipeline([\n",
    "    ('scaler', StandardScaler()),      # Standardize features\n",
    "    ('smote', SMOTE(random_state=42)),  # Oversampling\n",
    "    ('pca', PCA(n_components=0.95)),   # Dimensionality reduction\n",
    "    ('lr',  best_lr_model)                    # Predefined RandomForest model\n",
    "])\n",
    "\n",
    "# Cross-validation setup\n",
    "cv = StratifiedKFold(n_splits=5, shuffle=True, random_state=42)\n",
    "\n",
    "# Lists to store metrics for each fold\n",
    "fold_results = []\n",
    "\n",
    "# Perform cross-validation manually\n",
    "for fold_idx, (train_idx, test_idx) in enumerate(cv.split(X, y), 1):\n",
    "    \n",
    "    print(f\"Fold {fold_idx}...\")\n",
    "    print(f\"Train samples: {len(train_idx)}\")\n",
    "    print(f\"Test samples: {len(test_idx)}\")\n",
    "    # Split data into train and test for the current fold\n",
    "    # Split data into train and test for the current fold\n",
    "    X_train_, X_test_ = X.iloc[train_idx], X.iloc[test_idx]\n",
    "    y_train_, y_test_ = y.iloc[train_idx], y.iloc[test_idx]\n",
    "\n",
    "    \n",
    "    # Fit the pipeline on the training data\n",
    "    pipeline.fit(X_train_, y_train_)\n",
    "    \n",
    "    # Predict on the test data\n",
    "    y_pred = pipeline.predict(X_test_)\n",
    "    \n",
    "    \n",
    "    print(\"Accuracy:\", accuracy_score(y_test_, y_pred))\n",
    "    print(\"Precision:\", precision_score(y_test_, y_pred))\n",
    "    print(\"Recall:\", recall_score(y_test_, y_pred))\n",
    "    print(\"F1 Score:\", f1_score(y_test_, y_pred))\n",
    "    print(\"Confusion Matrix:\\n\", confusion_matrix(y_test_, y_pred))\n"
   ],
   "id": "c457bc60030bedcf",
   "outputs": [
    {
     "name": "stdout",
     "output_type": "stream",
     "text": [
      "Fold 1...\n",
      "Train samples: 32950\n",
      "Test samples: 8238\n",
      "Accuracy: 0.8566399611556202\n",
      "Precision: 0.4292901062045836\n",
      "Recall: 0.8275862068965517\n",
      "F1 Score: 0.5653294074346706\n",
      "Confusion Matrix:\n",
      " [[6289 1021]\n",
      " [ 160  768]]\n",
      "Fold 2...\n",
      "Train samples: 32950\n",
      "Test samples: 8238\n",
      "Accuracy: 0.8602816217528526\n",
      "Precision: 0.437883008356546\n",
      "Recall: 0.8469827586206896\n",
      "F1 Score: 0.5773044436283511\n",
      "Confusion Matrix:\n",
      " [[6301 1009]\n",
      " [ 142  786]]\n",
      "Fold 3...\n",
      "Train samples: 32950\n",
      "Test samples: 8238\n",
      "Accuracy: 0.8554260742898762\n",
      "Precision: 0.42794520547945203\n",
      "Recall: 0.8415948275862069\n",
      "F1 Score: 0.5673810388666909\n",
      "Confusion Matrix:\n",
      " [[6266 1044]\n",
      " [ 147  781]]\n",
      "Fold 4...\n",
      "Train samples: 32951\n",
      "Test samples: 8237\n",
      "Accuracy: 0.8584436081097487\n",
      "Precision: 0.4339622641509434\n",
      "Recall: 0.8426724137931034\n",
      "F1 Score: 0.5728937728937729\n",
      "Confusion Matrix:\n",
      " [[6289 1020]\n",
      " [ 146  782]]\n",
      "Fold 5...\n",
      "Train samples: 32951\n",
      "Test samples: 8237\n",
      "Accuracy: 0.8594148354983611\n",
      "Precision: 0.4336027713625866\n",
      "Recall: 0.8092672413793104\n",
      "F1 Score: 0.5646616541353383\n",
      "Confusion Matrix:\n",
      " [[6328  981]\n",
      " [ 177  751]]\n"
     ]
    }
   ],
   "execution_count": 47
  },
  {
   "metadata": {
    "ExecuteTime": {
     "end_time": "2024-12-03T22:44:36.474511Z",
     "start_time": "2024-12-03T22:44:36.471546Z"
    }
   },
   "cell_type": "code",
   "source": "X_train",
   "id": "ff7924780f907025",
   "outputs": [
    {
     "data": {
      "text/plain": [
       "array([[-1.62532299,  1.16996718,  0.04544256, ...,  0.74087421,\n",
       "        -0.981798  ,  0.74767259],\n",
       "       [ 0.13986774,  0.29653243, -0.11052936, ..., -2.13149547,\n",
       "        -0.44466934,  0.73145276],\n",
       "       [-0.34602358,  4.10957387,  0.99677257, ..., -0.36675428,\n",
       "         1.10686944, -0.3634342 ],\n",
       "       ...,\n",
       "       [-0.49024265,  0.02189431,  0.58303274, ...,  0.61661957,\n",
       "        -0.83509962, -0.67990856],\n",
       "       [-0.05398435, -0.17954351,  0.57539449, ...,  0.53902338,\n",
       "        -0.03816964,  0.61020825],\n",
       "       [-0.57384552, -0.63464449,  0.3294711 , ...,  0.38952036,\n",
       "        -0.47753726,  0.3605911 ]])"
      ]
     },
     "execution_count": 48,
     "metadata": {},
     "output_type": "execute_result"
    }
   ],
   "execution_count": 48
  },
  {
   "metadata": {},
   "cell_type": "markdown",
   "source": "## SVM",
   "id": "f0e65e8a520dbc5a"
  },
  {
   "metadata": {
    "ExecuteTime": {
     "end_time": "2024-12-03T23:44:58.271197Z",
     "start_time": "2024-12-03T22:44:36.535190Z"
    }
   },
   "cell_type": "code",
   "source": [
    "svm = SVC(random_state=42)\n",
    "\n",
    "param_dist = {\n",
    "    'C': np.logspace(-1, 1, 3),              # Regularization strength; controls the trade-off between misclassification and margin maximization\n",
    "    'kernel': ['rbf', 'poly'],      # Type of kernel function; linear, radial basis, and polynomial\n",
    "    'gamma': ['scale', 'auto']                # Kernel coefficient; important for RBF and polynomial kernels\n",
    "}\n",
    "\n",
    "random_search = RandomizedSearchCV(estimator=svm, param_distributions=param_dist,\n",
    "                                   n_iter=10, cv=stratified_kfold, n_jobs=-1,\n",
    "                                   verbose=2, random_state=42, scoring='recall')\n",
    "\n",
    "random_search.fit(X_train, y_train)\n",
    "\n",
    "best_params = random_search.best_params_\n",
    "best_svm_model = random_search.best_estimator_\n",
    "\n",
    "print(\"Best Parameters from Randomized Search:\", best_params)\n"
   ],
   "id": "b10c5e41a563cc26",
   "outputs": [
    {
     "name": "stdout",
     "output_type": "stream",
     "text": [
      "Fitting 5 folds for each of 10 candidates, totalling 50 fits\n",
      "[CV] END ......C=0.615848211066026, penalty=l2, solver=lbfgs; total time=   0.0s\n",
      "[CV] END .C=29.763514416313132, penalty=l2, solver=liblinear; total time=   0.1s\n",
      "[CV] END ......C=3792.690190732246, penalty=l2, solver=lbfgs; total time=   0.1s\n",
      "[CV] END .....C=29.763514416313132, penalty=l2, solver=lbfgs; total time=   0.0s\n",
      "[CV] END C=0.0018329807108324356, penalty=l2, solver=liblinear; total time=   0.1s\n",
      "[CV] END .....C=11.288378916846883, penalty=l2, solver=lbfgs; total time=   0.0s\n",
      "[CV] END ....C=0.03359818286283781, penalty=l2, solver=lbfgs; total time=   0.0s\n",
      "[CV] END .......C=206.913808111479, penalty=l2, solver=lbfgs; total time=   0.1s\n",
      "[CV] END ....C=0.23357214690901212, penalty=l2, solver=lbfgs; total time=   0.1s\n",
      "[CV] END ....C=0.23357214690901212, penalty=l2, solver=lbfgs; total time=   0.1s\n",
      "[CV] END .............C=0.0001, penalty=l2, solver=liblinear; total time=   0.1s\n",
      "[CV] END .............C=0.0001, penalty=l2, solver=liblinear; total time=   0.0s\n",
      "[CV] END ...................C=10.0, gamma=scale, kernel=poly; total time= 1.7min\n"
     ]
    },
    {
     "name": "stderr",
     "output_type": "stream",
     "text": [
      "/Users/skc/Desktop/Work/ml-project/venv/lib/python3.12/site-packages/joblib/externals/loky/process_executor.py:752: UserWarning: A worker stopped while some jobs were given to the executor. This can be caused by a too short worker timeout or by a memory leak.\n",
      "  warnings.warn(\n"
     ]
    },
    {
     "name": "stdout",
     "output_type": "stream",
     "text": [
      "[CV] END C=0.23357214690901212, penalty=l2, solver=liblinear; total time=   0.1s\n",
      "[CV] END C=0.0006951927961775605, penalty=l2, solver=liblinear; total time=   0.1s\n",
      "[CV] END ......C=3792.690190732246, penalty=l2, solver=lbfgs; total time=   0.1s\n",
      "[CV] END .....C=29.763514416313132, penalty=l2, solver=lbfgs; total time=   0.0s\n",
      "[CV] END ................C=10000.0, penalty=l2, solver=lbfgs; total time=   0.0s\n",
      "[CV] END .....C=11.288378916846883, penalty=l2, solver=lbfgs; total time=   0.0s\n",
      "[CV] END ...C=0.004832930238571752, penalty=l2, solver=lbfgs; total time=   0.0s\n",
      "[CV] END ...C=1438.44988828766, penalty=l2, solver=liblinear; total time=   0.1s\n",
      "[CV] END ...C=1438.44988828766, penalty=l2, solver=liblinear; total time=   0.1s\n",
      "[CV] END .............C=0.0001, penalty=l2, solver=liblinear; total time=   0.1s\n",
      "[CV] END ......C=545.5594781168514, penalty=l2, solver=lbfgs; total time=   0.0s\n",
      "[CV] END ...................C=10.0, gamma=scale, kernel=poly; total time= 1.7min\n",
      "[CV] END C=0.23357214690901212, penalty=l2, solver=liblinear; total time=   0.1s\n",
      "[CV] END .C=29.763514416313132, penalty=l2, solver=liblinear; total time=   0.1s\n",
      "[CV] END C=0.03359818286283781, penalty=l2, solver=liblinear; total time=   0.1s\n",
      "[CV] END ...C=0.004832930238571752, penalty=l2, solver=lbfgs; total time=   0.0s\n",
      "[CV] END ...C=1438.44988828766, penalty=l2, solver=liblinear; total time=   0.1s\n",
      "[CV] END ...C=1438.44988828766, penalty=l2, solver=liblinear; total time=   0.1s\n",
      "[CV] END .............C=0.0001, penalty=l2, solver=liblinear; total time=   0.1s\n",
      "[CV] END .............C=0.0001, penalty=l2, solver=liblinear; total time=   0.1s\n",
      "[CV] END ...................C=10.0, gamma=scale, kernel=poly; total time= 1.8min\n",
      "[CV] END C=0.23357214690901212, penalty=l2, solver=liblinear; total time=   0.1s\n",
      "[CV] END C=0.0006951927961775605, penalty=l2, solver=liblinear; total time=   0.1s\n",
      "[CV] END C=0.03359818286283781, penalty=l2, solver=liblinear; total time=   0.1s\n",
      "[CV] END C=0.0018329807108324356, penalty=l2, solver=liblinear; total time=   0.1s\n",
      "[CV] END .......C=206.913808111479, penalty=l2, solver=lbfgs; total time=   0.1s\n",
      "[CV] END .......C=206.913808111479, penalty=l2, solver=lbfgs; total time=   0.1s\n",
      "[CV] END .C=11.288378916846883, penalty=l2, solver=liblinear; total time=   0.1s\n",
      "[CV] END .C=11.288378916846883, penalty=l2, solver=liblinear; total time=   0.1s\n",
      "[CV] END ...................C=10.0, gamma=scale, kernel=poly; total time= 1.8min\n",
      "[CV] END ......C=0.615848211066026, penalty=l2, solver=lbfgs; total time=   0.1s\n",
      "[CV] END ....C=0.08858667904100823, penalty=l2, solver=lbfgs; total time=   0.0s\n",
      "[CV] END .C=29.763514416313132, penalty=l2, solver=liblinear; total time=   0.1s\n",
      "[CV] END ......C=3792.690190732246, penalty=l2, solver=lbfgs; total time=   0.1s\n",
      "[CV] END ................C=10000.0, penalty=l2, solver=lbfgs; total time=   0.1s\n",
      "[CV] END C=0.0018329807108324356, penalty=l2, solver=liblinear; total time=   0.1s\n",
      "[CV] END ....C=0.03359818286283781, penalty=l2, solver=lbfgs; total time=   0.0s\n",
      "[CV] END ....C=0.03359818286283781, penalty=l2, solver=lbfgs; total time=   0.1s\n",
      "[CV] END ....C=0.23357214690901212, penalty=l2, solver=lbfgs; total time=   0.1s\n",
      "[CV] END ....C=0.23357214690901212, penalty=l2, solver=lbfgs; total time=   0.1s\n",
      "[CV] END ......C=545.5594781168514, penalty=l2, solver=lbfgs; total time=   0.1s\n",
      "[CV] END ......C=545.5594781168514, penalty=l2, solver=lbfgs; total time=   0.0s\n",
      "[CV] END ...................C=10.0, gamma=scale, kernel=poly; total time= 1.8min\n",
      "[CV] END ......C=0.615848211066026, penalty=l2, solver=lbfgs; total time=   0.1s\n",
      "[CV] END ....C=0.08858667904100823, penalty=l2, solver=lbfgs; total time=   0.0s\n",
      "[CV] END .C=29.763514416313132, penalty=l2, solver=liblinear; total time=   0.1s\n",
      "[CV] END ......C=3792.690190732246, penalty=l2, solver=lbfgs; total time=   0.1s\n",
      "[CV] END .....C=29.763514416313132, penalty=l2, solver=lbfgs; total time=   0.0s\n",
      "[CV] END ................C=10000.0, penalty=l2, solver=lbfgs; total time=   0.1s\n",
      "[CV] END .....C=11.288378916846883, penalty=l2, solver=lbfgs; total time=   0.1s\n",
      "[CV] END .......C=206.913808111479, penalty=l2, solver=lbfgs; total time=   0.1s\n",
      "[CV] END .......C=206.913808111479, penalty=l2, solver=lbfgs; total time=   0.1s\n",
      "[CV] END .C=11.288378916846883, penalty=l2, solver=liblinear; total time=   0.1s\n",
      "[CV] END .C=11.288378916846883, penalty=l2, solver=liblinear; total time=   0.1s\n",
      "[CV] END .....................C=10.0, gamma=auto, kernel=rbf; total time= 1.8min\n",
      "[CV] END C=0.23357214690901212, penalty=l2, solver=liblinear; total time=   0.1s\n",
      "[CV] END .C=29.763514416313132, penalty=l2, solver=liblinear; total time=   0.1s\n",
      "[CV] END C=0.03359818286283781, penalty=l2, solver=liblinear; total time=   0.1s\n",
      "[CV] END ................C=10000.0, penalty=l2, solver=lbfgs; total time=   0.0s\n",
      "[CV] END .....C=11.288378916846883, penalty=l2, solver=lbfgs; total time=   0.1s\n",
      "[CV] END ....C=0.03359818286283781, penalty=l2, solver=lbfgs; total time=   0.1s\n",
      "[CV] END ....C=0.03359818286283781, penalty=l2, solver=lbfgs; total time=   0.1s\n",
      "[CV] END ....C=0.23357214690901212, penalty=l2, solver=lbfgs; total time=   0.1s\n",
      "[CV] END .C=11.288378916846883, penalty=l2, solver=liblinear; total time=   0.1s\n",
      "[CV] END .....................C=10.0, gamma=auto, kernel=rbf; total time= 1.8min\n",
      "[CV] END ......C=0.615848211066026, penalty=l2, solver=lbfgs; total time=   0.0s\n",
      "[CV] END ....C=0.08858667904100823, penalty=l2, solver=lbfgs; total time=   0.0s\n",
      "[CV] END ....C=0.08858667904100823, penalty=l2, solver=lbfgs; total time=   0.0s\n",
      "[CV] END C=0.0006951927961775605, penalty=l2, solver=liblinear; total time=   0.1s\n",
      "[CV] END C=0.03359818286283781, penalty=l2, solver=liblinear; total time=   0.1s\n",
      "[CV] END ................C=10000.0, penalty=l2, solver=lbfgs; total time=   0.1s\n",
      "[CV] END .....C=11.288378916846883, penalty=l2, solver=lbfgs; total time=   0.1s\n",
      "[CV] END ...C=0.004832930238571752, penalty=l2, solver=lbfgs; total time=   0.0s\n",
      "[CV] END C=0.004832930238571752, penalty=l2, solver=liblinear; total time=   0.1s\n",
      "[CV] END C=0.004832930238571752, penalty=l2, solver=liblinear; total time=   0.1s\n",
      "[CV] END ......C=545.5594781168514, penalty=l2, solver=lbfgs; total time=   0.0s\n",
      "[CV] END ......C=545.5594781168514, penalty=l2, solver=lbfgs; total time=   0.0s\n",
      "[CV] END .....................C=10.0, gamma=auto, kernel=rbf; total time= 1.9min\n",
      "[CV] END C=0.23357214690901212, penalty=l2, solver=liblinear; total time=   0.1s\n",
      "[CV] END C=0.0006951927961775605, penalty=l2, solver=liblinear; total time=   0.1s\n",
      "[CV] END C=0.03359818286283781, penalty=l2, solver=liblinear; total time=   0.1s\n",
      "[CV] END .....C=29.763514416313132, penalty=l2, solver=lbfgs; total time=   0.1s\n",
      "[CV] END C=0.0018329807108324356, penalty=l2, solver=liblinear; total time=   0.1s\n",
      "[CV] END ...C=0.004832930238571752, penalty=l2, solver=lbfgs; total time=   0.0s\n",
      "[CV] END ...C=1438.44988828766, penalty=l2, solver=liblinear; total time=   0.1s\n",
      "[CV] END C=0.004832930238571752, penalty=l2, solver=liblinear; total time=   0.1s\n",
      "[CV] END .....................C=10.0, gamma=auto, kernel=rbf; total time= 1.9min\n",
      "[CV] END ......C=0.615848211066026, penalty=l2, solver=lbfgs; total time=   0.1s\n",
      "[CV] END ....C=0.08858667904100823, penalty=l2, solver=lbfgs; total time=   0.0s\n",
      "[CV] END C=0.0006951927961775605, penalty=l2, solver=liblinear; total time=   0.1s\n",
      "[CV] END ......C=3792.690190732246, penalty=l2, solver=lbfgs; total time=   0.0s\n",
      "[CV] END .....C=29.763514416313132, penalty=l2, solver=lbfgs; total time=   0.0s\n",
      "[CV] END C=0.0018329807108324356, penalty=l2, solver=liblinear; total time=   0.1s\n",
      "[CV] END ...C=0.004832930238571752, penalty=l2, solver=lbfgs; total time=   0.0s\n",
      "[CV] END C=0.004832930238571752, penalty=l2, solver=liblinear; total time=   0.1s\n",
      "[CV] END C=0.004832930238571752, penalty=l2, solver=liblinear; total time=   0.1s\n",
      "[CV] END .....................C=10.0, gamma=auto, kernel=rbf; total time= 1.9min\n",
      "[CV] END ....................C=10.0, gamma=scale, kernel=rbf; total time=  42.9s\n",
      "[CV] END ......................C=0.1, gamma=auto, kernel=rbf; total time=  42.2s\n",
      "[CV] END ....................C=10.0, gamma=auto, kernel=poly; total time=18.0min\n",
      "[CV] END ....................C=10.0, gamma=scale, kernel=rbf; total time=  44.7s\n",
      "[CV] END ......................C=0.1, gamma=auto, kernel=rbf; total time=  42.2s\n",
      "[CV] END ....................C=10.0, gamma=auto, kernel=poly; total time=18.0min\n",
      "[CV] END ....................C=10.0, gamma=scale, kernel=rbf; total time=  41.4s\n",
      "[CV] END ......................C=0.1, gamma=auto, kernel=rbf; total time=  42.1s\n",
      "[CV] END ....................C=10.0, gamma=auto, kernel=poly; total time=18.0min\n",
      "[CV] END .....................C=0.1, gamma=scale, kernel=rbf; total time=  43.5s\n",
      "[CV] END ....................C=1.0, gamma=scale, kernel=poly; total time=  34.3s\n",
      "[CV] END ....................C=0.1, gamma=scale, kernel=poly; total time=  41.6s\n",
      "[CV] END .....................C=1.0, gamma=scale, kernel=rbf; total time=  33.7s\n",
      "[CV] END .....................C=1.0, gamma=auto, kernel=poly; total time=35.0min\n",
      "[CV] END .....................C=0.1, gamma=scale, kernel=rbf; total time=  42.5s\n",
      "[CV] END ....................C=1.0, gamma=scale, kernel=poly; total time=  34.7s\n",
      "[CV] END ....................C=0.1, gamma=scale, kernel=poly; total time=  40.8s\n",
      "[CV] END .....................C=1.0, gamma=scale, kernel=rbf; total time=  34.2s\n",
      "[CV] END .....................C=1.0, gamma=auto, kernel=poly; total time=35.0min\n",
      "[CV] END .....................C=0.1, gamma=scale, kernel=rbf; total time=  42.6s\n",
      "[CV] END ....................C=1.0, gamma=scale, kernel=poly; total time=  34.5s\n",
      "[CV] END ....................C=0.1, gamma=scale, kernel=poly; total time=  41.1s\n",
      "[CV] END .....................C=1.0, gamma=scale, kernel=rbf; total time=  33.2s\n",
      "[CV] END .....................C=1.0, gamma=auto, kernel=poly; total time=35.0min\n",
      "[CV] END .....................C=0.1, gamma=scale, kernel=rbf; total time=  41.6s\n",
      "[CV] END ....................C=1.0, gamma=scale, kernel=poly; total time=  34.6s\n",
      "[CV] END ....................C=0.1, gamma=scale, kernel=poly; total time=  44.0s\n",
      "[CV] END .....................C=1.0, gamma=scale, kernel=rbf; total time=  34.0s\n",
      "[CV] END .....................C=1.0, gamma=auto, kernel=poly; total time=34.9min\n",
      "[CV] END ....................C=10.0, gamma=scale, kernel=rbf; total time=  41.4s\n",
      "[CV] END ......................C=0.1, gamma=auto, kernel=rbf; total time=  43.4s\n",
      "[CV] END ....................C=10.0, gamma=auto, kernel=poly; total time=35.9min\n",
      "[CV] END .....................C=0.1, gamma=scale, kernel=rbf; total time=  42.7s\n",
      "[CV] END ....................C=1.0, gamma=scale, kernel=poly; total time=  35.4s\n",
      "[CV] END ....................C=0.1, gamma=scale, kernel=poly; total time=  41.5s\n",
      "[CV] END .....................C=1.0, gamma=scale, kernel=rbf; total time=  33.5s\n",
      "[CV] END .....................C=1.0, gamma=auto, kernel=poly; total time=35.0min\n",
      "Best Parameters from Randomized Search: {'kernel': 'rbf', 'gamma': 'auto', 'C': np.float64(10.0)}\n"
     ]
    }
   ],
   "execution_count": 49
  },
  {
   "metadata": {
    "ExecuteTime": {
     "end_time": "2024-12-03T23:45:01.729382Z",
     "start_time": "2024-12-03T23:44:58.340284Z"
    }
   },
   "cell_type": "code",
   "source": [
    "y_pred = best_svm_model.predict(X_test)\n",
    "\n",
    "\n",
    "print(\"Accuracy:\", accuracy_score(y_test, y_pred))\n",
    "print(\"Precision:\", precision_score(y_test, y_pred))\n",
    "print(\"Recall:\", recall_score(y_test, y_pred))\n",
    "print(\"F1 Score:\", f1_score(y_test, y_pred))\n",
    "print(\"Confusion Matrix:\\n\", confusion_matrix(y_test, y_pred))"
   ],
   "id": "4ab4d92196406195",
   "outputs": [
    {
     "name": "stdout",
     "output_type": "stream",
     "text": [
      "Accuracy: 0.8664724447681476\n",
      "Precision: 0.44806763285024154\n",
      "Recall: 0.7995689655172413\n",
      "F1 Score: 0.5743034055727554\n",
      "Confusion Matrix:\n",
      " [[6396  914]\n",
      " [ 186  742]]\n"
     ]
    }
   ],
   "execution_count": 50
  },
  {
   "metadata": {
    "ExecuteTime": {
     "end_time": "2024-12-03T23:47:54.758850Z",
     "start_time": "2024-12-03T23:45:01.777565Z"
    }
   },
   "cell_type": "code",
   "source": [
    "from imblearn.pipeline import Pipeline\n",
    "from imblearn.over_sampling import SMOTE\n",
    "from sklearn.preprocessing import StandardScaler\n",
    "from sklearn.decomposition import PCA\n",
    "from sklearn.ensemble import RandomForestClassifier\n",
    "from sklearn.metrics import precision_recall_fscore_support\n",
    "from sklearn.model_selection import StratifiedKFold\n",
    "\n",
    "# Define your pipeline\n",
    "pipeline = Pipeline([\n",
    "    ('scaler', StandardScaler()),      # Standardize features\n",
    "    ('smote', SMOTE(random_state=42)),  # Oversampling\n",
    "    ('pca', PCA(n_components=0.95)),   # Dimensionality reduction\n",
    "    ('svm',  best_svm_model)                    # Predefined RandomForest model\n",
    "])\n",
    "\n",
    "# Cross-validation setup\n",
    "cv = StratifiedKFold(n_splits=5, shuffle=True, random_state=42)\n",
    "\n",
    "# Lists to store metrics for each fold\n",
    "fold_results = []\n",
    "\n",
    "# Perform cross-validation manually\n",
    "for fold_idx, (train_idx, test_idx) in enumerate(cv.split(X, y), 1):\n",
    "    \n",
    "    print(f\"Fold {fold_idx}...\")\n",
    "    print(f\"Train samples: {len(train_idx)}\")\n",
    "    print(f\"Test samples: {len(test_idx)}\")\n",
    "    \n",
    "    X_train_, X_test_ = X.iloc[train_idx], X.iloc[test_idx]\n",
    "    y_train_, y_test_ = y.iloc[train_idx], y.iloc[test_idx]\n",
    "\n",
    "    \n",
    "    # Fit the pipeline on the training data\n",
    "    pipeline.fit(X_train_, y_train_)\n",
    "    \n",
    "    # Predict on the test data\n",
    "    y_pred = pipeline.predict(X_test_)\n",
    "    \n",
    "    \n",
    "    print(\"Accuracy:\", accuracy_score(y_test_, y_pred))\n",
    "    print(\"Precision:\", precision_score(y_test_, y_pred))\n",
    "    print(\"Recall:\", recall_score(y_test_, y_pred))\n",
    "    print(\"F1 Score:\", f1_score(y_test_, y_pred))\n",
    "    print(\"Confusion Matrix:\\n\", confusion_matrix(y_test_, y_pred))\n",
    "\n"
   ],
   "id": "99f0d25ce64bd59f",
   "outputs": [
    {
     "name": "stdout",
     "output_type": "stream",
     "text": [
      "Fold 1...\n",
      "Train samples: 32950\n",
      "Test samples: 8238\n",
      "Accuracy: 0.8619810633648944\n",
      "Precision: 0.4373125374925015\n",
      "Recall: 0.7855603448275862\n",
      "F1 Score: 0.561849710982659\n",
      "Confusion Matrix:\n",
      " [[6372  938]\n",
      " [ 199  729]]\n",
      "Fold 2...\n",
      "Train samples: 32950\n",
      "Test samples: 8238\n",
      "Accuracy: 0.8614955086185967\n",
      "Precision: 0.43502135448444174\n",
      "Recall: 0.7683189655172413\n",
      "F1 Score: 0.555512271133619\n",
      "Confusion Matrix:\n",
      " [[6384  926]\n",
      " [ 215  713]]\n",
      "Fold 3...\n",
      "Train samples: 32950\n",
      "Test samples: 8238\n",
      "Accuracy: 0.8663510560815731\n",
      "Precision: 0.4472882388787325\n",
      "Recall: 0.790948275862069\n",
      "F1 Score: 0.5714285714285714\n",
      "Confusion Matrix:\n",
      " [[6403  907]\n",
      " [ 194  734]]\n",
      "Fold 4...\n",
      "Train samples: 32951\n",
      "Test samples: 8237\n",
      "Accuracy: 0.8685200922666019\n",
      "Precision: 0.4517734909769757\n",
      "Recall: 0.7823275862068966\n",
      "F1 Score: 0.5727810650887574\n",
      "Confusion Matrix:\n",
      " [[6428  881]\n",
      " [ 202  726]]\n",
      "Fold 5...\n",
      "Train samples: 32951\n",
      "Test samples: 8237\n",
      "Accuracy: 0.8726478086682045\n",
      "Precision: 0.46119307248236047\n",
      "Recall: 0.7747844827586207\n",
      "F1 Score: 0.5782066747084841\n",
      "Confusion Matrix:\n",
      " [[6469  840]\n",
      " [ 209  719]]\n"
     ]
    }
   ],
   "execution_count": 51
  },
  {
   "metadata": {
    "ExecuteTime": {
     "end_time": "2024-12-03T23:47:54.799512Z",
     "start_time": "2024-12-03T23:47:54.798290Z"
    }
   },
   "cell_type": "code",
   "source": "",
   "id": "5004d7ab27c9cd52",
   "outputs": [],
   "execution_count": null
  },
  {
   "metadata": {},
   "cell_type": "code",
   "outputs": [],
   "execution_count": null,
   "source": "",
   "id": "c9cac06dbebd283e"
  }
 ],
 "metadata": {
  "kernelspec": {
   "display_name": "Python 3",
   "language": "python",
   "name": "python3"
  },
  "language_info": {
   "codemirror_mode": {
    "name": "ipython",
    "version": 2
   },
   "file_extension": ".py",
   "mimetype": "text/x-python",
   "name": "python",
   "nbconvert_exporter": "python",
   "pygments_lexer": "ipython2",
   "version": "2.7.6"
  }
 },
 "nbformat": 4,
 "nbformat_minor": 5
}
