{
 "cells": [
  {
   "metadata": {
    "ExecuteTime": {
     "end_time": "2024-12-03T02:30:12.228706Z",
     "start_time": "2024-12-03T02:30:12.038212Z"
    }
   },
   "cell_type": "code",
   "source": [
    "# All imports\n",
    "import urllib.request\n",
    "import zipfile\n",
    "import pandas as pd\n",
    "from sklearn.preprocessing import StandardScaler\n",
    "import seaborn as sns\n",
    "from sklearn.model_selection import RandomizedSearchCV, StratifiedKFold\n",
    "from sklearn.linear_model import LogisticRegression\n",
    "from sklearn.svm import SVC\n",
    "from sklearn.ensemble import RandomForestClassifier\n",
    "from sklearn.model_selection import train_test_split\n",
    "from sklearn.metrics import classification_report, accuracy_score, confusion_matrix\n",
    "from sklearn.decomposition import PCA\n",
    "import matplotlib.pyplot as plt\n",
    "import numpy as np\n",
    "from imblearn.over_sampling import SMOTE\n",
    "from sklearn.model_selection import cross_validate\n",
    "from sklearn.metrics import make_scorer, precision_score, recall_score, f1_score\n"
   ],
   "id": "49d4ba08f9837164",
   "outputs": [],
   "execution_count": 1
  },
  {
   "metadata": {},
   "cell_type": "markdown",
   "source": "# Downloading and loading the dataset",
   "id": "194a3b0bbca33912"
  },
  {
   "metadata": {
    "ExecuteTime": {
     "end_time": "2024-12-03T02:30:12.603549Z",
     "start_time": "2024-12-03T02:30:12.601326Z"
    }
   },
   "cell_type": "code",
   "source": [
    "\n",
    "# Download the dataset : Commented out as the dataset is already downloaded\n",
    "# url = \"https://archive.ics.uci.edu/ml/machine-learning-databases/00222/bank-additional.zip\"\n",
    "# filename = \"data/bank-additional.zip\"\n",
    "# urllib.request.urlretrieve(url, filename)\n"
   ],
   "id": "fbc121e30a2defb3",
   "outputs": [],
   "execution_count": 2
  },
  {
   "metadata": {
    "ExecuteTime": {
     "end_time": "2024-12-03T02:30:12.859774Z",
     "start_time": "2024-12-03T02:30:12.858202Z"
    }
   },
   "cell_type": "code",
   "source": [
    "# Unzip the file: Commented out as the dataset is already downloaded\n",
    "# with zipfile.ZipFile(filename,'r') as zip_ref:\n",
    "#     zip_ref.extractall(\"./data/\")\n"
   ],
   "id": "c37ac599738182c5",
   "outputs": [],
   "execution_count": 3
  },
  {
   "metadata": {
    "ExecuteTime": {
     "end_time": "2024-12-03T02:30:13.147661Z",
     "start_time": "2024-12-03T02:30:13.081483Z"
    }
   },
   "cell_type": "code",
   "source": [
    "# Load the dataset\n",
    "data = pd.read_csv(\"data/bank-additional/bank-additional-full.csv\", sep=\";\")\n",
    "# Print a sample of the dataset\n",
    "print(\"First few rows of the dataset:\")\n",
    "print(data.head())\n",
    "# Print feature names\n",
    "print(\"\\nFeatures in the dataset:\")\n",
    "print(data.columns.tolist())\n",
    "# Display basic information about the dataset\n",
    "print(\"\\nDataset info:\")\n",
    "print(data.info())"
   ],
   "id": "2d8337b5b40e3a4d",
   "outputs": [
    {
     "name": "stdout",
     "output_type": "stream",
     "text": [
      "First few rows of the dataset:\n",
      "   age        job  marital    education  default housing loan    contact  \\\n",
      "0   56  housemaid  married     basic.4y       no      no   no  telephone   \n",
      "1   57   services  married  high.school  unknown      no   no  telephone   \n",
      "2   37   services  married  high.school       no     yes   no  telephone   \n",
      "3   40     admin.  married     basic.6y       no      no   no  telephone   \n",
      "4   56   services  married  high.school       no      no  yes  telephone   \n",
      "\n",
      "  month day_of_week  ...  campaign  pdays  previous     poutcome emp.var.rate  \\\n",
      "0   may         mon  ...         1    999         0  nonexistent          1.1   \n",
      "1   may         mon  ...         1    999         0  nonexistent          1.1   \n",
      "2   may         mon  ...         1    999         0  nonexistent          1.1   \n",
      "3   may         mon  ...         1    999         0  nonexistent          1.1   \n",
      "4   may         mon  ...         1    999         0  nonexistent          1.1   \n",
      "\n",
      "   cons.price.idx  cons.conf.idx  euribor3m  nr.employed   y  \n",
      "0          93.994          -36.4      4.857       5191.0  no  \n",
      "1          93.994          -36.4      4.857       5191.0  no  \n",
      "2          93.994          -36.4      4.857       5191.0  no  \n",
      "3          93.994          -36.4      4.857       5191.0  no  \n",
      "4          93.994          -36.4      4.857       5191.0  no  \n",
      "\n",
      "[5 rows x 21 columns]\n",
      "\n",
      "Features in the dataset:\n",
      "['age', 'job', 'marital', 'education', 'default', 'housing', 'loan', 'contact', 'month', 'day_of_week', 'duration', 'campaign', 'pdays', 'previous', 'poutcome', 'emp.var.rate', 'cons.price.idx', 'cons.conf.idx', 'euribor3m', 'nr.employed', 'y']\n",
      "\n",
      "Dataset info:\n",
      "<class 'pandas.core.frame.DataFrame'>\n",
      "RangeIndex: 41188 entries, 0 to 41187\n",
      "Data columns (total 21 columns):\n",
      " #   Column          Non-Null Count  Dtype  \n",
      "---  ------          --------------  -----  \n",
      " 0   age             41188 non-null  int64  \n",
      " 1   job             41188 non-null  object \n",
      " 2   marital         41188 non-null  object \n",
      " 3   education       41188 non-null  object \n",
      " 4   default         41188 non-null  object \n",
      " 5   housing         41188 non-null  object \n",
      " 6   loan            41188 non-null  object \n",
      " 7   contact         41188 non-null  object \n",
      " 8   month           41188 non-null  object \n",
      " 9   day_of_week     41188 non-null  object \n",
      " 10  duration        41188 non-null  int64  \n",
      " 11  campaign        41188 non-null  int64  \n",
      " 12  pdays           41188 non-null  int64  \n",
      " 13  previous        41188 non-null  int64  \n",
      " 14  poutcome        41188 non-null  object \n",
      " 15  emp.var.rate    41188 non-null  float64\n",
      " 16  cons.price.idx  41188 non-null  float64\n",
      " 17  cons.conf.idx   41188 non-null  float64\n",
      " 18  euribor3m       41188 non-null  float64\n",
      " 19  nr.employed     41188 non-null  float64\n",
      " 20  y               41188 non-null  object \n",
      "dtypes: float64(5), int64(5), object(11)\n",
      "memory usage: 6.6+ MB\n",
      "None\n"
     ]
    }
   ],
   "execution_count": 4
  },
  {
   "metadata": {
    "ExecuteTime": {
     "end_time": "2024-12-03T02:30:13.290129Z",
     "start_time": "2024-12-03T02:30:13.281422Z"
    }
   },
   "cell_type": "code",
   "source": "data.head()",
   "id": "afe95adf40f482fd",
   "outputs": [
    {
     "data": {
      "text/plain": [
       "   age        job  marital    education  default housing loan    contact  \\\n",
       "0   56  housemaid  married     basic.4y       no      no   no  telephone   \n",
       "1   57   services  married  high.school  unknown      no   no  telephone   \n",
       "2   37   services  married  high.school       no     yes   no  telephone   \n",
       "3   40     admin.  married     basic.6y       no      no   no  telephone   \n",
       "4   56   services  married  high.school       no      no  yes  telephone   \n",
       "\n",
       "  month day_of_week  ...  campaign  pdays  previous     poutcome emp.var.rate  \\\n",
       "0   may         mon  ...         1    999         0  nonexistent          1.1   \n",
       "1   may         mon  ...         1    999         0  nonexistent          1.1   \n",
       "2   may         mon  ...         1    999         0  nonexistent          1.1   \n",
       "3   may         mon  ...         1    999         0  nonexistent          1.1   \n",
       "4   may         mon  ...         1    999         0  nonexistent          1.1   \n",
       "\n",
       "   cons.price.idx  cons.conf.idx  euribor3m  nr.employed   y  \n",
       "0          93.994          -36.4      4.857       5191.0  no  \n",
       "1          93.994          -36.4      4.857       5191.0  no  \n",
       "2          93.994          -36.4      4.857       5191.0  no  \n",
       "3          93.994          -36.4      4.857       5191.0  no  \n",
       "4          93.994          -36.4      4.857       5191.0  no  \n",
       "\n",
       "[5 rows x 21 columns]"
      ],
      "text/html": [
       "<div>\n",
       "<style scoped>\n",
       "    .dataframe tbody tr th:only-of-type {\n",
       "        vertical-align: middle;\n",
       "    }\n",
       "\n",
       "    .dataframe tbody tr th {\n",
       "        vertical-align: top;\n",
       "    }\n",
       "\n",
       "    .dataframe thead th {\n",
       "        text-align: right;\n",
       "    }\n",
       "</style>\n",
       "<table border=\"1\" class=\"dataframe\">\n",
       "  <thead>\n",
       "    <tr style=\"text-align: right;\">\n",
       "      <th></th>\n",
       "      <th>age</th>\n",
       "      <th>job</th>\n",
       "      <th>marital</th>\n",
       "      <th>education</th>\n",
       "      <th>default</th>\n",
       "      <th>housing</th>\n",
       "      <th>loan</th>\n",
       "      <th>contact</th>\n",
       "      <th>month</th>\n",
       "      <th>day_of_week</th>\n",
       "      <th>...</th>\n",
       "      <th>campaign</th>\n",
       "      <th>pdays</th>\n",
       "      <th>previous</th>\n",
       "      <th>poutcome</th>\n",
       "      <th>emp.var.rate</th>\n",
       "      <th>cons.price.idx</th>\n",
       "      <th>cons.conf.idx</th>\n",
       "      <th>euribor3m</th>\n",
       "      <th>nr.employed</th>\n",
       "      <th>y</th>\n",
       "    </tr>\n",
       "  </thead>\n",
       "  <tbody>\n",
       "    <tr>\n",
       "      <th>0</th>\n",
       "      <td>56</td>\n",
       "      <td>housemaid</td>\n",
       "      <td>married</td>\n",
       "      <td>basic.4y</td>\n",
       "      <td>no</td>\n",
       "      <td>no</td>\n",
       "      <td>no</td>\n",
       "      <td>telephone</td>\n",
       "      <td>may</td>\n",
       "      <td>mon</td>\n",
       "      <td>...</td>\n",
       "      <td>1</td>\n",
       "      <td>999</td>\n",
       "      <td>0</td>\n",
       "      <td>nonexistent</td>\n",
       "      <td>1.1</td>\n",
       "      <td>93.994</td>\n",
       "      <td>-36.4</td>\n",
       "      <td>4.857</td>\n",
       "      <td>5191.0</td>\n",
       "      <td>no</td>\n",
       "    </tr>\n",
       "    <tr>\n",
       "      <th>1</th>\n",
       "      <td>57</td>\n",
       "      <td>services</td>\n",
       "      <td>married</td>\n",
       "      <td>high.school</td>\n",
       "      <td>unknown</td>\n",
       "      <td>no</td>\n",
       "      <td>no</td>\n",
       "      <td>telephone</td>\n",
       "      <td>may</td>\n",
       "      <td>mon</td>\n",
       "      <td>...</td>\n",
       "      <td>1</td>\n",
       "      <td>999</td>\n",
       "      <td>0</td>\n",
       "      <td>nonexistent</td>\n",
       "      <td>1.1</td>\n",
       "      <td>93.994</td>\n",
       "      <td>-36.4</td>\n",
       "      <td>4.857</td>\n",
       "      <td>5191.0</td>\n",
       "      <td>no</td>\n",
       "    </tr>\n",
       "    <tr>\n",
       "      <th>2</th>\n",
       "      <td>37</td>\n",
       "      <td>services</td>\n",
       "      <td>married</td>\n",
       "      <td>high.school</td>\n",
       "      <td>no</td>\n",
       "      <td>yes</td>\n",
       "      <td>no</td>\n",
       "      <td>telephone</td>\n",
       "      <td>may</td>\n",
       "      <td>mon</td>\n",
       "      <td>...</td>\n",
       "      <td>1</td>\n",
       "      <td>999</td>\n",
       "      <td>0</td>\n",
       "      <td>nonexistent</td>\n",
       "      <td>1.1</td>\n",
       "      <td>93.994</td>\n",
       "      <td>-36.4</td>\n",
       "      <td>4.857</td>\n",
       "      <td>5191.0</td>\n",
       "      <td>no</td>\n",
       "    </tr>\n",
       "    <tr>\n",
       "      <th>3</th>\n",
       "      <td>40</td>\n",
       "      <td>admin.</td>\n",
       "      <td>married</td>\n",
       "      <td>basic.6y</td>\n",
       "      <td>no</td>\n",
       "      <td>no</td>\n",
       "      <td>no</td>\n",
       "      <td>telephone</td>\n",
       "      <td>may</td>\n",
       "      <td>mon</td>\n",
       "      <td>...</td>\n",
       "      <td>1</td>\n",
       "      <td>999</td>\n",
       "      <td>0</td>\n",
       "      <td>nonexistent</td>\n",
       "      <td>1.1</td>\n",
       "      <td>93.994</td>\n",
       "      <td>-36.4</td>\n",
       "      <td>4.857</td>\n",
       "      <td>5191.0</td>\n",
       "      <td>no</td>\n",
       "    </tr>\n",
       "    <tr>\n",
       "      <th>4</th>\n",
       "      <td>56</td>\n",
       "      <td>services</td>\n",
       "      <td>married</td>\n",
       "      <td>high.school</td>\n",
       "      <td>no</td>\n",
       "      <td>no</td>\n",
       "      <td>yes</td>\n",
       "      <td>telephone</td>\n",
       "      <td>may</td>\n",
       "      <td>mon</td>\n",
       "      <td>...</td>\n",
       "      <td>1</td>\n",
       "      <td>999</td>\n",
       "      <td>0</td>\n",
       "      <td>nonexistent</td>\n",
       "      <td>1.1</td>\n",
       "      <td>93.994</td>\n",
       "      <td>-36.4</td>\n",
       "      <td>4.857</td>\n",
       "      <td>5191.0</td>\n",
       "      <td>no</td>\n",
       "    </tr>\n",
       "  </tbody>\n",
       "</table>\n",
       "<p>5 rows × 21 columns</p>\n",
       "</div>"
      ]
     },
     "execution_count": 5,
     "metadata": {},
     "output_type": "execute_result"
    }
   ],
   "execution_count": 5
  },
  {
   "metadata": {},
   "cell_type": "markdown",
   "source": "# Data Preprocessing",
   "id": "a30daf5edd69b57c"
  },
  {
   "metadata": {
    "ExecuteTime": {
     "end_time": "2024-12-03T02:30:13.828523Z",
     "start_time": "2024-12-03T02:30:13.821204Z"
    }
   },
   "cell_type": "code",
   "source": "data.head()",
   "id": "46f47e10e1c8618",
   "outputs": [
    {
     "data": {
      "text/plain": [
       "   age        job  marital    education  default housing loan    contact  \\\n",
       "0   56  housemaid  married     basic.4y       no      no   no  telephone   \n",
       "1   57   services  married  high.school  unknown      no   no  telephone   \n",
       "2   37   services  married  high.school       no     yes   no  telephone   \n",
       "3   40     admin.  married     basic.6y       no      no   no  telephone   \n",
       "4   56   services  married  high.school       no      no  yes  telephone   \n",
       "\n",
       "  month day_of_week  ...  campaign  pdays  previous     poutcome emp.var.rate  \\\n",
       "0   may         mon  ...         1    999         0  nonexistent          1.1   \n",
       "1   may         mon  ...         1    999         0  nonexistent          1.1   \n",
       "2   may         mon  ...         1    999         0  nonexistent          1.1   \n",
       "3   may         mon  ...         1    999         0  nonexistent          1.1   \n",
       "4   may         mon  ...         1    999         0  nonexistent          1.1   \n",
       "\n",
       "   cons.price.idx  cons.conf.idx  euribor3m  nr.employed   y  \n",
       "0          93.994          -36.4      4.857       5191.0  no  \n",
       "1          93.994          -36.4      4.857       5191.0  no  \n",
       "2          93.994          -36.4      4.857       5191.0  no  \n",
       "3          93.994          -36.4      4.857       5191.0  no  \n",
       "4          93.994          -36.4      4.857       5191.0  no  \n",
       "\n",
       "[5 rows x 21 columns]"
      ],
      "text/html": [
       "<div>\n",
       "<style scoped>\n",
       "    .dataframe tbody tr th:only-of-type {\n",
       "        vertical-align: middle;\n",
       "    }\n",
       "\n",
       "    .dataframe tbody tr th {\n",
       "        vertical-align: top;\n",
       "    }\n",
       "\n",
       "    .dataframe thead th {\n",
       "        text-align: right;\n",
       "    }\n",
       "</style>\n",
       "<table border=\"1\" class=\"dataframe\">\n",
       "  <thead>\n",
       "    <tr style=\"text-align: right;\">\n",
       "      <th></th>\n",
       "      <th>age</th>\n",
       "      <th>job</th>\n",
       "      <th>marital</th>\n",
       "      <th>education</th>\n",
       "      <th>default</th>\n",
       "      <th>housing</th>\n",
       "      <th>loan</th>\n",
       "      <th>contact</th>\n",
       "      <th>month</th>\n",
       "      <th>day_of_week</th>\n",
       "      <th>...</th>\n",
       "      <th>campaign</th>\n",
       "      <th>pdays</th>\n",
       "      <th>previous</th>\n",
       "      <th>poutcome</th>\n",
       "      <th>emp.var.rate</th>\n",
       "      <th>cons.price.idx</th>\n",
       "      <th>cons.conf.idx</th>\n",
       "      <th>euribor3m</th>\n",
       "      <th>nr.employed</th>\n",
       "      <th>y</th>\n",
       "    </tr>\n",
       "  </thead>\n",
       "  <tbody>\n",
       "    <tr>\n",
       "      <th>0</th>\n",
       "      <td>56</td>\n",
       "      <td>housemaid</td>\n",
       "      <td>married</td>\n",
       "      <td>basic.4y</td>\n",
       "      <td>no</td>\n",
       "      <td>no</td>\n",
       "      <td>no</td>\n",
       "      <td>telephone</td>\n",
       "      <td>may</td>\n",
       "      <td>mon</td>\n",
       "      <td>...</td>\n",
       "      <td>1</td>\n",
       "      <td>999</td>\n",
       "      <td>0</td>\n",
       "      <td>nonexistent</td>\n",
       "      <td>1.1</td>\n",
       "      <td>93.994</td>\n",
       "      <td>-36.4</td>\n",
       "      <td>4.857</td>\n",
       "      <td>5191.0</td>\n",
       "      <td>no</td>\n",
       "    </tr>\n",
       "    <tr>\n",
       "      <th>1</th>\n",
       "      <td>57</td>\n",
       "      <td>services</td>\n",
       "      <td>married</td>\n",
       "      <td>high.school</td>\n",
       "      <td>unknown</td>\n",
       "      <td>no</td>\n",
       "      <td>no</td>\n",
       "      <td>telephone</td>\n",
       "      <td>may</td>\n",
       "      <td>mon</td>\n",
       "      <td>...</td>\n",
       "      <td>1</td>\n",
       "      <td>999</td>\n",
       "      <td>0</td>\n",
       "      <td>nonexistent</td>\n",
       "      <td>1.1</td>\n",
       "      <td>93.994</td>\n",
       "      <td>-36.4</td>\n",
       "      <td>4.857</td>\n",
       "      <td>5191.0</td>\n",
       "      <td>no</td>\n",
       "    </tr>\n",
       "    <tr>\n",
       "      <th>2</th>\n",
       "      <td>37</td>\n",
       "      <td>services</td>\n",
       "      <td>married</td>\n",
       "      <td>high.school</td>\n",
       "      <td>no</td>\n",
       "      <td>yes</td>\n",
       "      <td>no</td>\n",
       "      <td>telephone</td>\n",
       "      <td>may</td>\n",
       "      <td>mon</td>\n",
       "      <td>...</td>\n",
       "      <td>1</td>\n",
       "      <td>999</td>\n",
       "      <td>0</td>\n",
       "      <td>nonexistent</td>\n",
       "      <td>1.1</td>\n",
       "      <td>93.994</td>\n",
       "      <td>-36.4</td>\n",
       "      <td>4.857</td>\n",
       "      <td>5191.0</td>\n",
       "      <td>no</td>\n",
       "    </tr>\n",
       "    <tr>\n",
       "      <th>3</th>\n",
       "      <td>40</td>\n",
       "      <td>admin.</td>\n",
       "      <td>married</td>\n",
       "      <td>basic.6y</td>\n",
       "      <td>no</td>\n",
       "      <td>no</td>\n",
       "      <td>no</td>\n",
       "      <td>telephone</td>\n",
       "      <td>may</td>\n",
       "      <td>mon</td>\n",
       "      <td>...</td>\n",
       "      <td>1</td>\n",
       "      <td>999</td>\n",
       "      <td>0</td>\n",
       "      <td>nonexistent</td>\n",
       "      <td>1.1</td>\n",
       "      <td>93.994</td>\n",
       "      <td>-36.4</td>\n",
       "      <td>4.857</td>\n",
       "      <td>5191.0</td>\n",
       "      <td>no</td>\n",
       "    </tr>\n",
       "    <tr>\n",
       "      <th>4</th>\n",
       "      <td>56</td>\n",
       "      <td>services</td>\n",
       "      <td>married</td>\n",
       "      <td>high.school</td>\n",
       "      <td>no</td>\n",
       "      <td>no</td>\n",
       "      <td>yes</td>\n",
       "      <td>telephone</td>\n",
       "      <td>may</td>\n",
       "      <td>mon</td>\n",
       "      <td>...</td>\n",
       "      <td>1</td>\n",
       "      <td>999</td>\n",
       "      <td>0</td>\n",
       "      <td>nonexistent</td>\n",
       "      <td>1.1</td>\n",
       "      <td>93.994</td>\n",
       "      <td>-36.4</td>\n",
       "      <td>4.857</td>\n",
       "      <td>5191.0</td>\n",
       "      <td>no</td>\n",
       "    </tr>\n",
       "  </tbody>\n",
       "</table>\n",
       "<p>5 rows × 21 columns</p>\n",
       "</div>"
      ]
     },
     "execution_count": 6,
     "metadata": {},
     "output_type": "execute_result"
    }
   ],
   "execution_count": 6
  },
  {
   "metadata": {
    "ExecuteTime": {
     "end_time": "2024-12-03T02:30:14.222994Z",
     "start_time": "2024-12-03T02:30:14.218373Z"
    }
   },
   "cell_type": "code",
   "source": "data['y'].value_counts()",
   "id": "cddabd29261471a9",
   "outputs": [
    {
     "data": {
      "text/plain": [
       "y\n",
       "no     36548\n",
       "yes     4640\n",
       "Name: count, dtype: int64"
      ]
     },
     "execution_count": 7,
     "metadata": {},
     "output_type": "execute_result"
    }
   ],
   "execution_count": 7
  },
  {
   "metadata": {
    "ExecuteTime": {
     "end_time": "2024-12-03T02:30:14.591468Z",
     "start_time": "2024-12-03T02:30:14.554871Z"
    }
   },
   "cell_type": "code",
   "source": [
    "# categorical columns: job, marital, education, default, housing, loan, contact, month, day_of_week, poutcome\n",
    "\n",
    "# encode the categorical columns using one-hot encoding\n",
    "\n",
    "df = pd.get_dummies(data, columns=['job', 'marital', 'education', 'default', 'housing', 'loan', 'contact', 'month', 'day_of_week', 'poutcome', 'y'], drop_first=True)\n",
    "df.head()"
   ],
   "id": "1259aaf83f283c2b",
   "outputs": [
    {
     "data": {
      "text/plain": [
       "   age  duration  campaign  pdays  previous  emp.var.rate  cons.price.idx  \\\n",
       "0   56       261         1    999         0           1.1          93.994   \n",
       "1   57       149         1    999         0           1.1          93.994   \n",
       "2   37       226         1    999         0           1.1          93.994   \n",
       "3   40       151         1    999         0           1.1          93.994   \n",
       "4   56       307         1    999         0           1.1          93.994   \n",
       "\n",
       "   cons.conf.idx  euribor3m  nr.employed  ...  month_nov  month_oct  \\\n",
       "0          -36.4      4.857       5191.0  ...      False      False   \n",
       "1          -36.4      4.857       5191.0  ...      False      False   \n",
       "2          -36.4      4.857       5191.0  ...      False      False   \n",
       "3          -36.4      4.857       5191.0  ...      False      False   \n",
       "4          -36.4      4.857       5191.0  ...      False      False   \n",
       "\n",
       "   month_sep  day_of_week_mon  day_of_week_thu  day_of_week_tue  \\\n",
       "0      False             True            False            False   \n",
       "1      False             True            False            False   \n",
       "2      False             True            False            False   \n",
       "3      False             True            False            False   \n",
       "4      False             True            False            False   \n",
       "\n",
       "   day_of_week_wed  poutcome_nonexistent  poutcome_success  y_yes  \n",
       "0            False                  True             False  False  \n",
       "1            False                  True             False  False  \n",
       "2            False                  True             False  False  \n",
       "3            False                  True             False  False  \n",
       "4            False                  True             False  False  \n",
       "\n",
       "[5 rows x 54 columns]"
      ],
      "text/html": [
       "<div>\n",
       "<style scoped>\n",
       "    .dataframe tbody tr th:only-of-type {\n",
       "        vertical-align: middle;\n",
       "    }\n",
       "\n",
       "    .dataframe tbody tr th {\n",
       "        vertical-align: top;\n",
       "    }\n",
       "\n",
       "    .dataframe thead th {\n",
       "        text-align: right;\n",
       "    }\n",
       "</style>\n",
       "<table border=\"1\" class=\"dataframe\">\n",
       "  <thead>\n",
       "    <tr style=\"text-align: right;\">\n",
       "      <th></th>\n",
       "      <th>age</th>\n",
       "      <th>duration</th>\n",
       "      <th>campaign</th>\n",
       "      <th>pdays</th>\n",
       "      <th>previous</th>\n",
       "      <th>emp.var.rate</th>\n",
       "      <th>cons.price.idx</th>\n",
       "      <th>cons.conf.idx</th>\n",
       "      <th>euribor3m</th>\n",
       "      <th>nr.employed</th>\n",
       "      <th>...</th>\n",
       "      <th>month_nov</th>\n",
       "      <th>month_oct</th>\n",
       "      <th>month_sep</th>\n",
       "      <th>day_of_week_mon</th>\n",
       "      <th>day_of_week_thu</th>\n",
       "      <th>day_of_week_tue</th>\n",
       "      <th>day_of_week_wed</th>\n",
       "      <th>poutcome_nonexistent</th>\n",
       "      <th>poutcome_success</th>\n",
       "      <th>y_yes</th>\n",
       "    </tr>\n",
       "  </thead>\n",
       "  <tbody>\n",
       "    <tr>\n",
       "      <th>0</th>\n",
       "      <td>56</td>\n",
       "      <td>261</td>\n",
       "      <td>1</td>\n",
       "      <td>999</td>\n",
       "      <td>0</td>\n",
       "      <td>1.1</td>\n",
       "      <td>93.994</td>\n",
       "      <td>-36.4</td>\n",
       "      <td>4.857</td>\n",
       "      <td>5191.0</td>\n",
       "      <td>...</td>\n",
       "      <td>False</td>\n",
       "      <td>False</td>\n",
       "      <td>False</td>\n",
       "      <td>True</td>\n",
       "      <td>False</td>\n",
       "      <td>False</td>\n",
       "      <td>False</td>\n",
       "      <td>True</td>\n",
       "      <td>False</td>\n",
       "      <td>False</td>\n",
       "    </tr>\n",
       "    <tr>\n",
       "      <th>1</th>\n",
       "      <td>57</td>\n",
       "      <td>149</td>\n",
       "      <td>1</td>\n",
       "      <td>999</td>\n",
       "      <td>0</td>\n",
       "      <td>1.1</td>\n",
       "      <td>93.994</td>\n",
       "      <td>-36.4</td>\n",
       "      <td>4.857</td>\n",
       "      <td>5191.0</td>\n",
       "      <td>...</td>\n",
       "      <td>False</td>\n",
       "      <td>False</td>\n",
       "      <td>False</td>\n",
       "      <td>True</td>\n",
       "      <td>False</td>\n",
       "      <td>False</td>\n",
       "      <td>False</td>\n",
       "      <td>True</td>\n",
       "      <td>False</td>\n",
       "      <td>False</td>\n",
       "    </tr>\n",
       "    <tr>\n",
       "      <th>2</th>\n",
       "      <td>37</td>\n",
       "      <td>226</td>\n",
       "      <td>1</td>\n",
       "      <td>999</td>\n",
       "      <td>0</td>\n",
       "      <td>1.1</td>\n",
       "      <td>93.994</td>\n",
       "      <td>-36.4</td>\n",
       "      <td>4.857</td>\n",
       "      <td>5191.0</td>\n",
       "      <td>...</td>\n",
       "      <td>False</td>\n",
       "      <td>False</td>\n",
       "      <td>False</td>\n",
       "      <td>True</td>\n",
       "      <td>False</td>\n",
       "      <td>False</td>\n",
       "      <td>False</td>\n",
       "      <td>True</td>\n",
       "      <td>False</td>\n",
       "      <td>False</td>\n",
       "    </tr>\n",
       "    <tr>\n",
       "      <th>3</th>\n",
       "      <td>40</td>\n",
       "      <td>151</td>\n",
       "      <td>1</td>\n",
       "      <td>999</td>\n",
       "      <td>0</td>\n",
       "      <td>1.1</td>\n",
       "      <td>93.994</td>\n",
       "      <td>-36.4</td>\n",
       "      <td>4.857</td>\n",
       "      <td>5191.0</td>\n",
       "      <td>...</td>\n",
       "      <td>False</td>\n",
       "      <td>False</td>\n",
       "      <td>False</td>\n",
       "      <td>True</td>\n",
       "      <td>False</td>\n",
       "      <td>False</td>\n",
       "      <td>False</td>\n",
       "      <td>True</td>\n",
       "      <td>False</td>\n",
       "      <td>False</td>\n",
       "    </tr>\n",
       "    <tr>\n",
       "      <th>4</th>\n",
       "      <td>56</td>\n",
       "      <td>307</td>\n",
       "      <td>1</td>\n",
       "      <td>999</td>\n",
       "      <td>0</td>\n",
       "      <td>1.1</td>\n",
       "      <td>93.994</td>\n",
       "      <td>-36.4</td>\n",
       "      <td>4.857</td>\n",
       "      <td>5191.0</td>\n",
       "      <td>...</td>\n",
       "      <td>False</td>\n",
       "      <td>False</td>\n",
       "      <td>False</td>\n",
       "      <td>True</td>\n",
       "      <td>False</td>\n",
       "      <td>False</td>\n",
       "      <td>False</td>\n",
       "      <td>True</td>\n",
       "      <td>False</td>\n",
       "      <td>False</td>\n",
       "    </tr>\n",
       "  </tbody>\n",
       "</table>\n",
       "<p>5 rows × 54 columns</p>\n",
       "</div>"
      ]
     },
     "execution_count": 8,
     "metadata": {},
     "output_type": "execute_result"
    }
   ],
   "execution_count": 8
  },
  {
   "metadata": {
    "ExecuteTime": {
     "end_time": "2024-12-03T02:30:14.904583Z",
     "start_time": "2024-12-03T02:30:14.896810Z"
    }
   },
   "cell_type": "code",
   "source": [
    "numerical_features = ['age', 'duration', 'campaign', 'pdays', 'previous', 'emp.var.rate', 'cons.price.idx', 'cons.conf.idx', 'euribor3m', 'nr.employed']\n",
    "\n",
    "scaler = StandardScaler()\n",
    "df[numerical_features] = scaler.fit_transform(df[numerical_features])"
   ],
   "id": "b3247f980e085f1b",
   "outputs": [],
   "execution_count": 9
  },
  {
   "metadata": {
    "ExecuteTime": {
     "end_time": "2024-12-03T02:30:15.335433Z",
     "start_time": "2024-12-03T02:30:15.328388Z"
    }
   },
   "cell_type": "code",
   "source": "df.head()",
   "id": "c434912a72de51f5",
   "outputs": [
    {
     "data": {
      "text/plain": [
       "        age  duration  campaign     pdays  previous  emp.var.rate  \\\n",
       "0  1.533034  0.010471 -0.565922  0.195414 -0.349494      0.648092   \n",
       "1  1.628993 -0.421501 -0.565922  0.195414 -0.349494      0.648092   \n",
       "2 -0.290186 -0.124520 -0.565922  0.195414 -0.349494      0.648092   \n",
       "3 -0.002309 -0.413787 -0.565922  0.195414 -0.349494      0.648092   \n",
       "4  1.533034  0.187888 -0.565922  0.195414 -0.349494      0.648092   \n",
       "\n",
       "   cons.price.idx  cons.conf.idx  euribor3m  nr.employed  ...  month_nov  \\\n",
       "0        0.722722       0.886447    0.71246      0.33168  ...      False   \n",
       "1        0.722722       0.886447    0.71246      0.33168  ...      False   \n",
       "2        0.722722       0.886447    0.71246      0.33168  ...      False   \n",
       "3        0.722722       0.886447    0.71246      0.33168  ...      False   \n",
       "4        0.722722       0.886447    0.71246      0.33168  ...      False   \n",
       "\n",
       "   month_oct  month_sep  day_of_week_mon  day_of_week_thu  day_of_week_tue  \\\n",
       "0      False      False             True            False            False   \n",
       "1      False      False             True            False            False   \n",
       "2      False      False             True            False            False   \n",
       "3      False      False             True            False            False   \n",
       "4      False      False             True            False            False   \n",
       "\n",
       "   day_of_week_wed  poutcome_nonexistent  poutcome_success  y_yes  \n",
       "0            False                  True             False  False  \n",
       "1            False                  True             False  False  \n",
       "2            False                  True             False  False  \n",
       "3            False                  True             False  False  \n",
       "4            False                  True             False  False  \n",
       "\n",
       "[5 rows x 54 columns]"
      ],
      "text/html": [
       "<div>\n",
       "<style scoped>\n",
       "    .dataframe tbody tr th:only-of-type {\n",
       "        vertical-align: middle;\n",
       "    }\n",
       "\n",
       "    .dataframe tbody tr th {\n",
       "        vertical-align: top;\n",
       "    }\n",
       "\n",
       "    .dataframe thead th {\n",
       "        text-align: right;\n",
       "    }\n",
       "</style>\n",
       "<table border=\"1\" class=\"dataframe\">\n",
       "  <thead>\n",
       "    <tr style=\"text-align: right;\">\n",
       "      <th></th>\n",
       "      <th>age</th>\n",
       "      <th>duration</th>\n",
       "      <th>campaign</th>\n",
       "      <th>pdays</th>\n",
       "      <th>previous</th>\n",
       "      <th>emp.var.rate</th>\n",
       "      <th>cons.price.idx</th>\n",
       "      <th>cons.conf.idx</th>\n",
       "      <th>euribor3m</th>\n",
       "      <th>nr.employed</th>\n",
       "      <th>...</th>\n",
       "      <th>month_nov</th>\n",
       "      <th>month_oct</th>\n",
       "      <th>month_sep</th>\n",
       "      <th>day_of_week_mon</th>\n",
       "      <th>day_of_week_thu</th>\n",
       "      <th>day_of_week_tue</th>\n",
       "      <th>day_of_week_wed</th>\n",
       "      <th>poutcome_nonexistent</th>\n",
       "      <th>poutcome_success</th>\n",
       "      <th>y_yes</th>\n",
       "    </tr>\n",
       "  </thead>\n",
       "  <tbody>\n",
       "    <tr>\n",
       "      <th>0</th>\n",
       "      <td>1.533034</td>\n",
       "      <td>0.010471</td>\n",
       "      <td>-0.565922</td>\n",
       "      <td>0.195414</td>\n",
       "      <td>-0.349494</td>\n",
       "      <td>0.648092</td>\n",
       "      <td>0.722722</td>\n",
       "      <td>0.886447</td>\n",
       "      <td>0.71246</td>\n",
       "      <td>0.33168</td>\n",
       "      <td>...</td>\n",
       "      <td>False</td>\n",
       "      <td>False</td>\n",
       "      <td>False</td>\n",
       "      <td>True</td>\n",
       "      <td>False</td>\n",
       "      <td>False</td>\n",
       "      <td>False</td>\n",
       "      <td>True</td>\n",
       "      <td>False</td>\n",
       "      <td>False</td>\n",
       "    </tr>\n",
       "    <tr>\n",
       "      <th>1</th>\n",
       "      <td>1.628993</td>\n",
       "      <td>-0.421501</td>\n",
       "      <td>-0.565922</td>\n",
       "      <td>0.195414</td>\n",
       "      <td>-0.349494</td>\n",
       "      <td>0.648092</td>\n",
       "      <td>0.722722</td>\n",
       "      <td>0.886447</td>\n",
       "      <td>0.71246</td>\n",
       "      <td>0.33168</td>\n",
       "      <td>...</td>\n",
       "      <td>False</td>\n",
       "      <td>False</td>\n",
       "      <td>False</td>\n",
       "      <td>True</td>\n",
       "      <td>False</td>\n",
       "      <td>False</td>\n",
       "      <td>False</td>\n",
       "      <td>True</td>\n",
       "      <td>False</td>\n",
       "      <td>False</td>\n",
       "    </tr>\n",
       "    <tr>\n",
       "      <th>2</th>\n",
       "      <td>-0.290186</td>\n",
       "      <td>-0.124520</td>\n",
       "      <td>-0.565922</td>\n",
       "      <td>0.195414</td>\n",
       "      <td>-0.349494</td>\n",
       "      <td>0.648092</td>\n",
       "      <td>0.722722</td>\n",
       "      <td>0.886447</td>\n",
       "      <td>0.71246</td>\n",
       "      <td>0.33168</td>\n",
       "      <td>...</td>\n",
       "      <td>False</td>\n",
       "      <td>False</td>\n",
       "      <td>False</td>\n",
       "      <td>True</td>\n",
       "      <td>False</td>\n",
       "      <td>False</td>\n",
       "      <td>False</td>\n",
       "      <td>True</td>\n",
       "      <td>False</td>\n",
       "      <td>False</td>\n",
       "    </tr>\n",
       "    <tr>\n",
       "      <th>3</th>\n",
       "      <td>-0.002309</td>\n",
       "      <td>-0.413787</td>\n",
       "      <td>-0.565922</td>\n",
       "      <td>0.195414</td>\n",
       "      <td>-0.349494</td>\n",
       "      <td>0.648092</td>\n",
       "      <td>0.722722</td>\n",
       "      <td>0.886447</td>\n",
       "      <td>0.71246</td>\n",
       "      <td>0.33168</td>\n",
       "      <td>...</td>\n",
       "      <td>False</td>\n",
       "      <td>False</td>\n",
       "      <td>False</td>\n",
       "      <td>True</td>\n",
       "      <td>False</td>\n",
       "      <td>False</td>\n",
       "      <td>False</td>\n",
       "      <td>True</td>\n",
       "      <td>False</td>\n",
       "      <td>False</td>\n",
       "    </tr>\n",
       "    <tr>\n",
       "      <th>4</th>\n",
       "      <td>1.533034</td>\n",
       "      <td>0.187888</td>\n",
       "      <td>-0.565922</td>\n",
       "      <td>0.195414</td>\n",
       "      <td>-0.349494</td>\n",
       "      <td>0.648092</td>\n",
       "      <td>0.722722</td>\n",
       "      <td>0.886447</td>\n",
       "      <td>0.71246</td>\n",
       "      <td>0.33168</td>\n",
       "      <td>...</td>\n",
       "      <td>False</td>\n",
       "      <td>False</td>\n",
       "      <td>False</td>\n",
       "      <td>True</td>\n",
       "      <td>False</td>\n",
       "      <td>False</td>\n",
       "      <td>False</td>\n",
       "      <td>True</td>\n",
       "      <td>False</td>\n",
       "      <td>False</td>\n",
       "    </tr>\n",
       "  </tbody>\n",
       "</table>\n",
       "<p>5 rows × 54 columns</p>\n",
       "</div>"
      ]
     },
     "execution_count": 10,
     "metadata": {},
     "output_type": "execute_result"
    }
   ],
   "execution_count": 10
  },
  {
   "metadata": {
    "ExecuteTime": {
     "end_time": "2024-12-03T02:30:15.826144Z",
     "start_time": "2024-12-03T02:30:15.823191Z"
    }
   },
   "cell_type": "code",
   "source": "df['y_yes'].value_counts()",
   "id": "b083c566e29c98c7",
   "outputs": [
    {
     "data": {
      "text/plain": [
       "y_yes\n",
       "False    36548\n",
       "True      4640\n",
       "Name: count, dtype: int64"
      ]
     },
     "execution_count": 11,
     "metadata": {},
     "output_type": "execute_result"
    }
   ],
   "execution_count": 11
  },
  {
   "metadata": {
    "ExecuteTime": {
     "end_time": "2024-12-03T02:30:16.267954Z",
     "start_time": "2024-12-03T02:30:16.264487Z"
    }
   },
   "cell_type": "code",
   "source": [
    "X = df.drop(columns=['y_yes'])\n",
    "y = df['y_yes']\n"
   ],
   "id": "9914f6d13811505",
   "outputs": [],
   "execution_count": 12
  },
  {
   "metadata": {
    "ExecuteTime": {
     "end_time": "2024-12-03T02:30:16.787998Z",
     "start_time": "2024-12-03T02:30:16.690218Z"
    }
   },
   "cell_type": "code",
   "source": [
    "smote = SMOTE(random_state=42)\n",
    "\n",
    "X_resampled, y_resampled = smote.fit_resample(X, y)\n",
    "y_resampled.value_counts()\n",
    "X, y = X_resampled, y_resampled"
   ],
   "id": "d348af30df713625",
   "outputs": [],
   "execution_count": 13
  },
  {
   "metadata": {},
   "cell_type": "markdown",
   "source": "# Feature Engineering",
   "id": "1059872eab52637c"
  },
  {
   "metadata": {},
   "cell_type": "markdown",
   "source": "## Feature Selection",
   "id": "f863f9b2b774677"
  },
  {
   "metadata": {
    "ExecuteTime": {
     "end_time": "2024-12-03T02:30:18.403229Z",
     "start_time": "2024-12-03T02:30:18.396627Z"
    }
   },
   "cell_type": "code",
   "source": "df  = pd.concat([X, y], axis=1)",
   "id": "4dafd6dee1c612af",
   "outputs": [],
   "execution_count": 14
  },
  {
   "metadata": {
    "ExecuteTime": {
     "end_time": "2024-12-03T02:30:19.051124Z",
     "start_time": "2024-12-03T02:30:19.047652Z"
    }
   },
   "cell_type": "code",
   "source": "df['y_yes'].value_counts()",
   "id": "4942227d0f6c2534",
   "outputs": [
    {
     "data": {
      "text/plain": [
       "y_yes\n",
       "False    36548\n",
       "True     36548\n",
       "Name: count, dtype: int64"
      ]
     },
     "execution_count": 15,
     "metadata": {},
     "output_type": "execute_result"
    }
   ],
   "execution_count": 15
  },
  {
   "metadata": {
    "ExecuteTime": {
     "end_time": "2024-12-03T02:30:20.709524Z",
     "start_time": "2024-12-03T02:30:19.801087Z"
    }
   },
   "cell_type": "code",
   "source": [
    "correlation_matrix = df.corr()\n",
    "plt.figure(figsize=(20, 16))\n",
    "sns.heatmap(correlation_matrix, annot=False, cmap='coolwarm')\n",
    "plt.title('Correlation Matrix')\n",
    "plt.show()\n",
    "\n",
    "# "
   ],
   "id": "c274f88b700b5a",
   "outputs": [
    {
     "data": {
      "text/plain": [
       "<Figure size 2000x1600 with 2 Axes>"
      ],
      "image/png": "[encoded data removed]"
     },
     "metadata": {},
     "output_type": "display_data"
    }
   ],
   "execution_count": 16
  },
  {
   "metadata": {
    "ExecuteTime": {
     "end_time": "2024-12-03T03:14:54.329378Z",
     "start_time": "2024-12-03T03:14:54.312857Z"
    }
   },
   "cell_type": "code",
   "source": [
    "# get the highest correlated features with each other\n",
    "corrrelation_values = correlation_matrix.abs().unstack()\n",
    "\n",
    "\n",
    "corrrelation_values = corrrelation_values.reset_index()\n",
    "corrrelation_values.columns = ['feature1', 'feature2', 'correlation']\n",
    "corrrelation_values = corrrelation_values[corrrelation_values['feature1'] != corrrelation_values['feature2']]\n",
    "# comvert from scientific notation to float\n",
    "corrrelation_values['correlation'] = corrrelation_values['correlation'].astype(float)\n",
    "corrrelation_values['positive_correlation'] = corrrelation_values['correlation'].abs()\n",
    "\n",
    "# get the top 10 correlated features\n",
    "corrrelation_values = corrrelation_values.sort_values(by='positive_correlation', ascending=False)\n",
    "corrrelation_values = corrrelation_values[corrrelation_values['positive_correlation'] > 0.85]\n",
    "\n",
    "\n",
    "corrrelation_values"
   ],
   "id": "342f276ac20054ca",
   "outputs": [
    {
     "data": {
      "text/plain": [
       "                  feature1              feature2  correlation  \\\n",
       "1817       housing_unknown          loan_unknown     1.000000   \n",
       "1923          loan_unknown       housing_unknown     1.000000   \n",
       "214                  pdays      poutcome_success     0.981691   \n",
       "2811      poutcome_success                 pdays     0.981691   \n",
       "278           emp.var.rate             euribor3m     0.958819   \n",
       "437              euribor3m          emp.var.rate     0.958819   \n",
       "494            nr.employed             euribor3m     0.941324   \n",
       "441              euribor3m           nr.employed     0.941324   \n",
       "279           emp.var.rate           nr.employed     0.869306   \n",
       "491            nr.employed          emp.var.rate     0.869306   \n",
       "2758  poutcome_nonexistent              previous     0.850607   \n",
       "267               previous  poutcome_nonexistent     0.850607   \n",
       "\n",
       "      positive_correlation  \n",
       "1817              1.000000  \n",
       "1923              1.000000  \n",
       "214               0.981691  \n",
       "2811              0.981691  \n",
       "278               0.958819  \n",
       "437               0.958819  \n",
       "494               0.941324  \n",
       "441               0.941324  \n",
       "279               0.869306  \n",
       "491               0.869306  \n",
       "2758              0.850607  \n",
       "267               0.850607  "
      ],
      "text/html": [
       "<div>\n",
       "<style scoped>\n",
       "    .dataframe tbody tr th:only-of-type {\n",
       "        vertical-align: middle;\n",
       "    }\n",
       "\n",
       "    .dataframe tbody tr th {\n",
       "        vertical-align: top;\n",
       "    }\n",
       "\n",
       "    .dataframe thead th {\n",
       "        text-align: right;\n",
       "    }\n",
       "</style>\n",
       "<table border=\"1\" class=\"dataframe\">\n",
       "  <thead>\n",
       "    <tr style=\"text-align: right;\">\n",
       "      <th></th>\n",
       "      <th>feature1</th>\n",
       "      <th>feature2</th>\n",
       "      <th>correlation</th>\n",
       "      <th>positive_correlation</th>\n",
       "    </tr>\n",
       "  </thead>\n",
       "  <tbody>\n",
       "    <tr>\n",
       "      <th>1817</th>\n",
       "      <td>housing_unknown</td>\n",
       "      <td>loan_unknown</td>\n",
       "      <td>1.000000</td>\n",
       "      <td>1.000000</td>\n",
       "    </tr>\n",
       "    <tr>\n",
       "      <th>1923</th>\n",
       "      <td>loan_unknown</td>\n",
       "      <td>housing_unknown</td>\n",
       "      <td>1.000000</td>\n",
       "      <td>1.000000</td>\n",
       "    </tr>\n",
       "    <tr>\n",
       "      <th>214</th>\n",
       "      <td>pdays</td>\n",
       "      <td>poutcome_success</td>\n",
       "      <td>0.981691</td>\n",
       "      <td>0.981691</td>\n",
       "    </tr>\n",
       "    <tr>\n",
       "      <th>2811</th>\n",
       "      <td>poutcome_success</td>\n",
       "      <td>pdays</td>\n",
       "      <td>0.981691</td>\n",
       "      <td>0.981691</td>\n",
       "    </tr>\n",
       "    <tr>\n",
       "      <th>278</th>\n",
       "      <td>emp.var.rate</td>\n",
       "      <td>euribor3m</td>\n",
       "      <td>0.958819</td>\n",
       "      <td>0.958819</td>\n",
       "    </tr>\n",
       "    <tr>\n",
       "      <th>437</th>\n",
       "      <td>euribor3m</td>\n",
       "      <td>emp.var.rate</td>\n",
       "      <td>0.958819</td>\n",
       "      <td>0.958819</td>\n",
       "    </tr>\n",
       "    <tr>\n",
       "      <th>494</th>\n",
       "      <td>nr.employed</td>\n",
       "      <td>euribor3m</td>\n",
       "      <td>0.941324</td>\n",
       "      <td>0.941324</td>\n",
       "    </tr>\n",
       "    <tr>\n",
       "      <th>441</th>\n",
       "      <td>euribor3m</td>\n",
       "      <td>nr.employed</td>\n",
       "      <td>0.941324</td>\n",
       "      <td>0.941324</td>\n",
       "    </tr>\n",
       "    <tr>\n",
       "      <th>279</th>\n",
       "      <td>emp.var.rate</td>\n",
       "      <td>nr.employed</td>\n",
       "      <td>0.869306</td>\n",
       "      <td>0.869306</td>\n",
       "    </tr>\n",
       "    <tr>\n",
       "      <th>491</th>\n",
       "      <td>nr.employed</td>\n",
       "      <td>emp.var.rate</td>\n",
       "      <td>0.869306</td>\n",
       "      <td>0.869306</td>\n",
       "    </tr>\n",
       "    <tr>\n",
       "      <th>2758</th>\n",
       "      <td>poutcome_nonexistent</td>\n",
       "      <td>previous</td>\n",
       "      <td>0.850607</td>\n",
       "      <td>0.850607</td>\n",
       "    </tr>\n",
       "    <tr>\n",
       "      <th>267</th>\n",
       "      <td>previous</td>\n",
       "      <td>poutcome_nonexistent</td>\n",
       "      <td>0.850607</td>\n",
       "      <td>0.850607</td>\n",
       "    </tr>\n",
       "  </tbody>\n",
       "</table>\n",
       "</div>"
      ]
     },
     "execution_count": 44,
     "metadata": {},
     "output_type": "execute_result"
    }
   ],
   "execution_count": 44
  },
  {
   "metadata": {
    "ExecuteTime": {
     "end_time": "2024-12-03T02:30:27.698234Z",
     "start_time": "2024-12-03T02:30:27.693034Z"
    }
   },
   "cell_type": "code",
   "source": [
    "drop_features = ['housing_unknown', 'pdays', 'emp.var.rate', 'nr.employed', 'previous']\n",
    "\n",
    "df.drop(columns=drop_features, inplace=True)"
   ],
   "id": "418c882711357608",
   "outputs": [],
   "execution_count": 18
  },
  {
   "metadata": {
    "ExecuteTime": {
     "end_time": "2024-12-03T02:30:28.541736Z",
     "start_time": "2024-12-03T02:30:28.538004Z"
    }
   },
   "cell_type": "code",
   "source": [
    "target_corr = correlation_matrix['y_yes'].sort_values(ascending=False)\n",
    "\n",
    "target_corr.drop(index='y_yes', inplace=True)\n",
    "target_corr.drop(index=drop_features, inplace=True)\n",
    "print(target_corr)"
   ],
   "id": "3d2101260b979a8f",
   "outputs": [
    {
     "name": "stdout",
     "output_type": "stream",
     "text": [
      "duration                         0.462908\n",
      "poutcome_success                 0.308342\n",
      "education_university.degree      0.169133\n",
      "month_oct                        0.163784\n",
      "month_sep                        0.163228\n",
      "month_mar                        0.157076\n",
      "housing_yes                      0.153143\n",
      "job_retired                      0.151816\n",
      "job_student                      0.138922\n",
      "marital_single                   0.125981\n",
      "day_of_week_thu                  0.107348\n",
      "day_of_week_wed                  0.093670\n",
      "month_dec                        0.090001\n",
      "day_of_week_tue                  0.086683\n",
      "cons.conf.idx                    0.079388\n",
      "education_unknown                0.066173\n",
      "education_high.school            0.059006\n",
      "loan_yes                         0.057238\n",
      "job_unemployed                   0.055205\n",
      "job_technician                   0.055099\n",
      "education_professional.course    0.052247\n",
      "job_management                   0.047763\n",
      "day_of_week_mon                  0.038092\n",
      "age                              0.037798\n",
      "job_self-employed                0.026856\n",
      "job_housemaid                    0.020967\n",
      "job_unknown                      0.014975\n",
      "education_illiterate             0.012706\n",
      "month_aug                        0.011932\n",
      "marital_unknown                  0.010668\n",
      "marital_married                  0.009514\n",
      "loan_unknown                     0.008927\n",
      "job_entrepreneur                 0.007172\n",
      "month_nov                        0.003347\n",
      "month_jun                        0.001583\n",
      "default_yes                     -0.006407\n",
      "education_basic.6y              -0.012080\n",
      "job_services                    -0.015284\n",
      "month_jul                       -0.033074\n",
      "education_basic.9y              -0.035224\n",
      "job_blue-collar                 -0.078296\n",
      "default_unknown                 -0.133093\n",
      "campaign                        -0.143142\n",
      "month_may                       -0.148590\n",
      "cons.price.idx                  -0.198618\n",
      "contact_telephone               -0.220307\n",
      "poutcome_nonexistent            -0.255636\n",
      "euribor3m                       -0.449536\n",
      "Name: y_yes, dtype: float64\n"
     ]
    }
   ],
   "execution_count": 19
  },
  {
   "metadata": {
    "ExecuteTime": {
     "end_time": "2024-12-03T02:30:29.646272Z",
     "start_time": "2024-12-03T02:30:29.643165Z"
    }
   },
   "cell_type": "code",
   "source": [
    "target_corr = target_corr.abs()\n",
    "print(target_corr.describe())\n"
   ],
   "id": "74edca981c12037",
   "outputs": [
    {
     "name": "stdout",
     "output_type": "stream",
     "text": [
      "count    48.000000\n",
      "mean      0.099541\n",
      "std       0.104792\n",
      "min       0.001583\n",
      "25%       0.019546\n",
      "50%       0.062589\n",
      "75%       0.149397\n",
      "max       0.462908\n",
      "Name: y_yes, dtype: float64\n"
     ]
    }
   ],
   "execution_count": 20
  },
  {
   "metadata": {
    "ExecuteTime": {
     "end_time": "2024-12-03T02:30:30.575292Z",
     "start_time": "2024-12-03T02:30:30.572656Z"
    }
   },
   "cell_type": "code",
   "source": [
    "first_quartile = target_corr.quantile(0.25)\n",
    "# take top 75% of the features\n",
    "\n",
    "selected_features = target_corr[target_corr > first_quartile].index.tolist()\n",
    "print(len(selected_features))"
   ],
   "id": "fd068bc148751057",
   "outputs": [
    {
     "name": "stdout",
     "output_type": "stream",
     "text": [
      "36\n"
     ]
    }
   ],
   "execution_count": 21
  },
  {
   "metadata": {
    "ExecuteTime": {
     "end_time": "2024-12-03T02:30:36.469740Z",
     "start_time": "2024-12-03T02:30:36.467009Z"
    }
   },
   "cell_type": "code",
   "source": [
    "removed_features = target_corr[target_corr <= first_quartile].index.tolist()\n",
    "print(removed_features)"
   ],
   "id": "9de8640ea54cf2e0",
   "outputs": [
    {
     "name": "stdout",
     "output_type": "stream",
     "text": [
      "['job_unknown', 'education_illiterate', 'month_aug', 'marital_unknown', 'marital_married', 'loan_unknown', 'job_entrepreneur', 'month_nov', 'month_jun', 'default_yes', 'education_basic.6y', 'job_services']\n"
     ]
    }
   ],
   "execution_count": 22
  },
  {
   "metadata": {
    "ExecuteTime": {
     "end_time": "2024-12-03T02:30:38.978972Z",
     "start_time": "2024-12-03T02:30:38.977298Z"
    }
   },
   "cell_type": "code",
   "source": [
    "# # select features with target_corr less than 0.1\n",
    "# selected_features = target_corr[abs(target_corr) > 0.05].index.tolist()\n",
    "# print(len(selected_features))\n",
    "# selected_features\n"
   ],
   "id": "2bee3c500dc7c5b5",
   "outputs": [],
   "execution_count": 23
  },
  {
   "metadata": {
    "ExecuteTime": {
     "end_time": "2024-12-03T02:30:39.904752Z",
     "start_time": "2024-12-03T02:30:39.893922Z"
    }
   },
   "cell_type": "code",
   "source": [
    "X_selected = df[selected_features]\n",
    "X_selected"
   ],
   "id": "c41b2f1d8f1737bb",
   "outputs": [
    {
     "data": {
      "text/plain": [
       "       duration  poutcome_success  education_university.degree  month_oct  \\\n",
       "0      0.010471             False                        False      False   \n",
       "1     -0.421501             False                        False      False   \n",
       "2     -0.124520             False                        False      False   \n",
       "3     -0.413787             False                        False      False   \n",
       "4      0.187888             False                        False      False   \n",
       "...         ...               ...                          ...        ...   \n",
       "73091  0.824303              True                        False       True   \n",
       "73092  1.318622             False                         True      False   \n",
       "73093  1.576164             False                        False      False   \n",
       "73094 -0.305186             False                        False      False   \n",
       "73095  3.152198             False                        False      False   \n",
       "\n",
       "       month_sep  month_mar  housing_yes  job_retired  job_student  \\\n",
       "0          False      False        False        False        False   \n",
       "1          False      False        False        False        False   \n",
       "2          False      False         True        False        False   \n",
       "3          False      False        False        False        False   \n",
       "4          False      False        False        False        False   \n",
       "...          ...        ...          ...          ...          ...   \n",
       "73091      False      False        False        False        False   \n",
       "73092      False      False         True        False        False   \n",
       "73093      False      False        False        False        False   \n",
       "73094       True      False         True         True        False   \n",
       "73095      False      False        False        False        False   \n",
       "\n",
       "       marital_single  ...  month_jul  education_basic.9y  job_blue-collar  \\\n",
       "0               False  ...      False               False            False   \n",
       "1               False  ...      False               False            False   \n",
       "2               False  ...      False               False            False   \n",
       "3               False  ...      False               False            False   \n",
       "4               False  ...      False               False            False   \n",
       "...               ...  ...        ...                 ...              ...   \n",
       "73091           False  ...      False               False            False   \n",
       "73092           False  ...       True               False            False   \n",
       "73093            True  ...       True               False            False   \n",
       "73094           False  ...      False               False            False   \n",
       "73095           False  ...      False               False            False   \n",
       "\n",
       "       default_unknown  campaign  month_may  cons.price.idx  \\\n",
       "0                False -0.565922       True        0.722722   \n",
       "1                 True -0.565922       True        0.722722   \n",
       "2                False -0.565922       True        0.722722   \n",
       "3                False -0.565922       True        0.722722   \n",
       "4                False -0.565922       True        0.722722   \n",
       "...                ...       ...        ...             ...   \n",
       "73091            False -0.565922      False       -1.977538   \n",
       "73092            False -0.204909      False        0.591424   \n",
       "73093            False -0.330091      False        0.591424   \n",
       "73094            False -0.515703      False        0.821069   \n",
       "73095            False  0.692842       True       -1.098691   \n",
       "\n",
       "       contact_telephone  poutcome_nonexistent  euribor3m  \n",
       "0                   True                  True   0.712460  \n",
       "1                   True                  True   0.712460  \n",
       "2                   True                  True   0.712460  \n",
       "3                   True                  True   0.712460  \n",
       "4                   True                  True   0.712460  \n",
       "...                  ...                   ...        ...  \n",
       "73091              False                 False  -1.658997  \n",
       "73092              False                  True   0.773254  \n",
       "73093              False                  True   0.772376  \n",
       "73094              False                 False  -1.577619  \n",
       "73095              False                  True  -1.299682  \n",
       "\n",
       "[73096 rows x 36 columns]"
      ],
      "text/html": [
       "<div>\n",
       "<style scoped>\n",
       "    .dataframe tbody tr th:only-of-type {\n",
       "        vertical-align: middle;\n",
       "    }\n",
       "\n",
       "    .dataframe tbody tr th {\n",
       "        vertical-align: top;\n",
       "    }\n",
       "\n",
       "    .dataframe thead th {\n",
       "        text-align: right;\n",
       "    }\n",
       "</style>\n",
       "<table border=\"1\" class=\"dataframe\">\n",
       "  <thead>\n",
       "    <tr style=\"text-align: right;\">\n",
       "      <th></th>\n",
       "      <th>duration</th>\n",
       "      <th>poutcome_success</th>\n",
       "      <th>education_university.degree</th>\n",
       "      <th>month_oct</th>\n",
       "      <th>month_sep</th>\n",
       "      <th>month_mar</th>\n",
       "      <th>housing_yes</th>\n",
       "      <th>job_retired</th>\n",
       "      <th>job_student</th>\n",
       "      <th>marital_single</th>\n",
       "      <th>...</th>\n",
       "      <th>month_jul</th>\n",
       "      <th>education_basic.9y</th>\n",
       "      <th>job_blue-collar</th>\n",
       "      <th>default_unknown</th>\n",
       "      <th>campaign</th>\n",
       "      <th>month_may</th>\n",
       "      <th>cons.price.idx</th>\n",
       "      <th>contact_telephone</th>\n",
       "      <th>poutcome_nonexistent</th>\n",
       "      <th>euribor3m</th>\n",
       "    </tr>\n",
       "  </thead>\n",
       "  <tbody>\n",
       "    <tr>\n",
       "      <th>0</th>\n",
       "      <td>0.010471</td>\n",
       "      <td>False</td>\n",
       "      <td>False</td>\n",
       "      <td>False</td>\n",
       "      <td>False</td>\n",
       "      <td>False</td>\n",
       "      <td>False</td>\n",
       "      <td>False</td>\n",
       "      <td>False</td>\n",
       "      <td>False</td>\n",
       "      <td>...</td>\n",
       "      <td>False</td>\n",
       "      <td>False</td>\n",
       "      <td>False</td>\n",
       "      <td>False</td>\n",
       "      <td>-0.565922</td>\n",
       "      <td>True</td>\n",
       "      <td>0.722722</td>\n",
       "      <td>True</td>\n",
       "      <td>True</td>\n",
       "      <td>0.712460</td>\n",
       "    </tr>\n",
       "    <tr>\n",
       "      <th>1</th>\n",
       "      <td>-0.421501</td>\n",
       "      <td>False</td>\n",
       "      <td>False</td>\n",
       "      <td>False</td>\n",
       "      <td>False</td>\n",
       "      <td>False</td>\n",
       "      <td>False</td>\n",
       "      <td>False</td>\n",
       "      <td>False</td>\n",
       "      <td>False</td>\n",
       "      <td>...</td>\n",
       "      <td>False</td>\n",
       "      <td>False</td>\n",
       "      <td>False</td>\n",
       "      <td>True</td>\n",
       "      <td>-0.565922</td>\n",
       "      <td>True</td>\n",
       "      <td>0.722722</td>\n",
       "      <td>True</td>\n",
       "      <td>True</td>\n",
       "      <td>0.712460</td>\n",
       "    </tr>\n",
       "    <tr>\n",
       "      <th>2</th>\n",
       "      <td>-0.124520</td>\n",
       "      <td>False</td>\n",
       "      <td>False</td>\n",
       "      <td>False</td>\n",
       "      <td>False</td>\n",
       "      <td>False</td>\n",
       "      <td>True</td>\n",
       "      <td>False</td>\n",
       "      <td>False</td>\n",
       "      <td>False</td>\n",
       "      <td>...</td>\n",
       "      <td>False</td>\n",
       "      <td>False</td>\n",
       "      <td>False</td>\n",
       "      <td>False</td>\n",
       "      <td>-0.565922</td>\n",
       "      <td>True</td>\n",
       "      <td>0.722722</td>\n",
       "      <td>True</td>\n",
       "      <td>True</td>\n",
       "      <td>0.712460</td>\n",
       "    </tr>\n",
       "    <tr>\n",
       "      <th>3</th>\n",
       "      <td>-0.413787</td>\n",
       "      <td>False</td>\n",
       "      <td>False</td>\n",
       "      <td>False</td>\n",
       "      <td>False</td>\n",
       "      <td>False</td>\n",
       "      <td>False</td>\n",
       "      <td>False</td>\n",
       "      <td>False</td>\n",
       "      <td>False</td>\n",
       "      <td>...</td>\n",
       "      <td>False</td>\n",
       "      <td>False</td>\n",
       "      <td>False</td>\n",
       "      <td>False</td>\n",
       "      <td>-0.565922</td>\n",
       "      <td>True</td>\n",
       "      <td>0.722722</td>\n",
       "      <td>True</td>\n",
       "      <td>True</td>\n",
       "      <td>0.712460</td>\n",
       "    </tr>\n",
       "    <tr>\n",
       "      <th>4</th>\n",
       "      <td>0.187888</td>\n",
       "      <td>False</td>\n",
       "      <td>False</td>\n",
       "      <td>False</td>\n",
       "      <td>False</td>\n",
       "      <td>False</td>\n",
       "      <td>False</td>\n",
       "      <td>False</td>\n",
       "      <td>False</td>\n",
       "      <td>False</td>\n",
       "      <td>...</td>\n",
       "      <td>False</td>\n",
       "      <td>False</td>\n",
       "      <td>False</td>\n",
       "      <td>False</td>\n",
       "      <td>-0.565922</td>\n",
       "      <td>True</td>\n",
       "      <td>0.722722</td>\n",
       "      <td>True</td>\n",
       "      <td>True</td>\n",
       "      <td>0.712460</td>\n",
       "    </tr>\n",
       "    <tr>\n",
       "      <th>...</th>\n",
       "      <td>...</td>\n",
       "      <td>...</td>\n",
       "      <td>...</td>\n",
       "      <td>...</td>\n",
       "      <td>...</td>\n",
       "      <td>...</td>\n",
       "      <td>...</td>\n",
       "      <td>...</td>\n",
       "      <td>...</td>\n",
       "      <td>...</td>\n",
       "      <td>...</td>\n",
       "      <td>...</td>\n",
       "      <td>...</td>\n",
       "      <td>...</td>\n",
       "      <td>...</td>\n",
       "      <td>...</td>\n",
       "      <td>...</td>\n",
       "      <td>...</td>\n",
       "      <td>...</td>\n",
       "      <td>...</td>\n",
       "      <td>...</td>\n",
       "    </tr>\n",
       "    <tr>\n",
       "      <th>73091</th>\n",
       "      <td>0.824303</td>\n",
       "      <td>True</td>\n",
       "      <td>False</td>\n",
       "      <td>True</td>\n",
       "      <td>False</td>\n",
       "      <td>False</td>\n",
       "      <td>False</td>\n",
       "      <td>False</td>\n",
       "      <td>False</td>\n",
       "      <td>False</td>\n",
       "      <td>...</td>\n",
       "      <td>False</td>\n",
       "      <td>False</td>\n",
       "      <td>False</td>\n",
       "      <td>False</td>\n",
       "      <td>-0.565922</td>\n",
       "      <td>False</td>\n",
       "      <td>-1.977538</td>\n",
       "      <td>False</td>\n",
       "      <td>False</td>\n",
       "      <td>-1.658997</td>\n",
       "    </tr>\n",
       "    <tr>\n",
       "      <th>73092</th>\n",
       "      <td>1.318622</td>\n",
       "      <td>False</td>\n",
       "      <td>True</td>\n",
       "      <td>False</td>\n",
       "      <td>False</td>\n",
       "      <td>False</td>\n",
       "      <td>True</td>\n",
       "      <td>False</td>\n",
       "      <td>False</td>\n",
       "      <td>False</td>\n",
       "      <td>...</td>\n",
       "      <td>True</td>\n",
       "      <td>False</td>\n",
       "      <td>False</td>\n",
       "      <td>False</td>\n",
       "      <td>-0.204909</td>\n",
       "      <td>False</td>\n",
       "      <td>0.591424</td>\n",
       "      <td>False</td>\n",
       "      <td>True</td>\n",
       "      <td>0.773254</td>\n",
       "    </tr>\n",
       "    <tr>\n",
       "      <th>73093</th>\n",
       "      <td>1.576164</td>\n",
       "      <td>False</td>\n",
       "      <td>False</td>\n",
       "      <td>False</td>\n",
       "      <td>False</td>\n",
       "      <td>False</td>\n",
       "      <td>False</td>\n",
       "      <td>False</td>\n",
       "      <td>False</td>\n",
       "      <td>True</td>\n",
       "      <td>...</td>\n",
       "      <td>True</td>\n",
       "      <td>False</td>\n",
       "      <td>False</td>\n",
       "      <td>False</td>\n",
       "      <td>-0.330091</td>\n",
       "      <td>False</td>\n",
       "      <td>0.591424</td>\n",
       "      <td>False</td>\n",
       "      <td>True</td>\n",
       "      <td>0.772376</td>\n",
       "    </tr>\n",
       "    <tr>\n",
       "      <th>73094</th>\n",
       "      <td>-0.305186</td>\n",
       "      <td>False</td>\n",
       "      <td>False</td>\n",
       "      <td>False</td>\n",
       "      <td>True</td>\n",
       "      <td>False</td>\n",
       "      <td>True</td>\n",
       "      <td>True</td>\n",
       "      <td>False</td>\n",
       "      <td>False</td>\n",
       "      <td>...</td>\n",
       "      <td>False</td>\n",
       "      <td>False</td>\n",
       "      <td>False</td>\n",
       "      <td>False</td>\n",
       "      <td>-0.515703</td>\n",
       "      <td>False</td>\n",
       "      <td>0.821069</td>\n",
       "      <td>False</td>\n",
       "      <td>False</td>\n",
       "      <td>-1.577619</td>\n",
       "    </tr>\n",
       "    <tr>\n",
       "      <th>73095</th>\n",
       "      <td>3.152198</td>\n",
       "      <td>False</td>\n",
       "      <td>False</td>\n",
       "      <td>False</td>\n",
       "      <td>False</td>\n",
       "      <td>False</td>\n",
       "      <td>False</td>\n",
       "      <td>False</td>\n",
       "      <td>False</td>\n",
       "      <td>False</td>\n",
       "      <td>...</td>\n",
       "      <td>False</td>\n",
       "      <td>False</td>\n",
       "      <td>False</td>\n",
       "      <td>False</td>\n",
       "      <td>0.692842</td>\n",
       "      <td>True</td>\n",
       "      <td>-1.098691</td>\n",
       "      <td>False</td>\n",
       "      <td>True</td>\n",
       "      <td>-1.299682</td>\n",
       "    </tr>\n",
       "  </tbody>\n",
       "</table>\n",
       "<p>73096 rows × 36 columns</p>\n",
       "</div>"
      ]
     },
     "execution_count": 24,
     "metadata": {},
     "output_type": "execute_result"
    }
   ],
   "execution_count": 24
  },
  {
   "metadata": {
    "ExecuteTime": {
     "end_time": "2024-12-03T02:30:46.836445Z",
     "start_time": "2024-12-03T02:30:46.833921Z"
    }
   },
   "cell_type": "code",
   "source": "X, y = X_selected, df['y_yes']",
   "id": "c8f2ac5e32f73f01",
   "outputs": [],
   "execution_count": 25
  },
  {
   "metadata": {},
   "cell_type": "markdown",
   "source": "## PCA",
   "id": "cb8afa2cdf0801c6"
  },
  {
   "metadata": {
    "ExecuteTime": {
     "end_time": "2024-12-03T02:30:48.927890Z",
     "start_time": "2024-12-03T02:30:48.829724Z"
    }
   },
   "cell_type": "code",
   "source": [
    "pca = PCA()\n",
    "X_pca = pca.fit_transform(X)\n",
    "\n",
    "explained_variance_ratio = pca.explained_variance_ratio_\n",
    "\n",
    "plt.figure(figsize=(10, 6))\n",
    "plt.plot(np.cumsum(explained_variance_ratio))\n",
    "plt.xlabel('Number of Principal Components')\n",
    "plt.ylabel('Cumulative Explained Variance')\n",
    "plt.title('Explained Variance vs. Number of Components')\n",
    "plt.grid()\n",
    "plt.show()\n",
    "\n"
   ],
   "id": "5adb239d246c70",
   "outputs": [
    {
     "data": {
      "text/plain": [
       "<Figure size 1000x600 with 1 Axes>"
      ],
      "image/png": "[encoded data removed]"
     },
     "metadata": {},
     "output_type": "display_data"
    }
   ],
   "execution_count": 26
  },
  {
   "metadata": {
    "ExecuteTime": {
     "end_time": "2024-12-03T02:32:24.789521Z",
     "start_time": "2024-12-03T02:32:24.787526Z"
    }
   },
   "cell_type": "code",
   "source": [
    "# get pca components that explain 95% of the variance\n",
    "\n",
    "cumsum = np.cumsum(explained_variance_ratio)\n",
    "n_components = np.argmax(cumsum >= 0.95) + 1\n",
    "print(\"Number of components explaining 95% of the variance:\", n_components)\n",
    "\n"
   ],
   "id": "bd82b2c6aec3e028",
   "outputs": [
    {
     "name": "stdout",
     "output_type": "stream",
     "text": [
      "Number of components explaining 95% of the variance: 22\n"
     ]
    }
   ],
   "execution_count": 27
  },
  {
   "metadata": {
    "ExecuteTime": {
     "end_time": "2024-12-03T02:32:38.365036Z",
     "start_time": "2024-12-03T02:32:38.349357Z"
    }
   },
   "cell_type": "code",
   "source": [
    "pca = PCA(n_components=22)\n",
    "X_pca = pca.fit_transform(X)\n",
    "\n",
    "explained_variance_ratio = pca.explained_variance_ratio_\n",
    "cumsum = np.cumsum(explained_variance_ratio)\n",
    "print( \"Explained variance: \", cumsum[-1])"
   ],
   "id": "23792db5e28cd2b2",
   "outputs": [
    {
     "name": "stdout",
     "output_type": "stream",
     "text": [
      "Explained variance:  0.9528872716718048\n"
     ]
    }
   ],
   "execution_count": 28
  },
  {
   "metadata": {
    "ExecuteTime": {
     "end_time": "2024-12-03T02:32:43.129842Z",
     "start_time": "2024-12-03T02:32:43.126903Z"
    }
   },
   "cell_type": "code",
   "source": "X_pca",
   "id": "9c42697fe22758e2",
   "outputs": [
    {
     "data": {
      "text/plain": [
       "array([[ 0.68201989, -1.37024379,  1.65526185, ..., -0.18972108,\n",
       "        -0.18115438, -0.08959083],\n",
       "       [ 0.56262059, -1.75233287,  1.60518746, ...,  0.16420871,\n",
       "        -0.0139483 ,  0.05829445],\n",
       "       [ 0.83022589, -1.23218696,  0.35224198, ..., -0.04000156,\n",
       "        -0.02493723, -0.00477113],\n",
       "       ...,\n",
       "       [ 1.8808221 ,  0.59140659, -0.77772946, ..., -0.11275802,\n",
       "        -0.05994974,  0.08117831],\n",
       "       [-1.25466951, -0.85286899,  2.39328414, ...,  0.0544109 ,\n",
       "         0.03451296, -0.43357847],\n",
       "       [ 0.44263605,  2.94058707, -0.27591275, ...,  0.03735525,\n",
       "         0.02142104, -0.18622024]])"
      ]
     },
     "execution_count": 29,
     "metadata": {},
     "output_type": "execute_result"
    }
   ],
   "execution_count": 29
  },
  {
   "metadata": {},
   "cell_type": "markdown",
   "source": "# Model Training",
   "id": "605ef35ef25f903f"
  },
  {
   "metadata": {
    "ExecuteTime": {
     "end_time": "2024-12-03T02:32:47.946986Z",
     "start_time": "2024-12-03T02:32:47.937233Z"
    }
   },
   "cell_type": "code",
   "source": "X_train, X_test, y_train, y_test = train_test_split(X_pca, y, test_size=0.2, random_state=42)",
   "id": "a4d3389af087c225",
   "outputs": [],
   "execution_count": 30
  },
  {
   "metadata": {
    "ExecuteTime": {
     "end_time": "2024-12-03T02:32:49.111572Z",
     "start_time": "2024-12-03T02:32:49.107995Z"
    }
   },
   "cell_type": "code",
   "source": "y_test.value_counts()",
   "id": "10186ac8a4646f77",
   "outputs": [
    {
     "data": {
      "text/plain": [
       "y_yes\n",
       "False    7332\n",
       "True     7288\n",
       "Name: count, dtype: int64"
      ]
     },
     "execution_count": 31,
     "metadata": {},
     "output_type": "execute_result"
    }
   ],
   "execution_count": 31
  },
  {
   "metadata": {},
   "cell_type": "markdown",
   "source": "## Random Forest",
   "id": "ef09ebed8064e00f"
  },
  {
   "metadata": {
    "ExecuteTime": {
     "end_time": "2024-12-03T02:37:44.473782Z",
     "start_time": "2024-12-03T02:32:56.517730Z"
    }
   },
   "cell_type": "code",
   "source": [
    "rf = RandomForestClassifier(random_state=42)\n",
    "\n",
    "param_grid = {\n",
    "    'n_estimators': [100, 200, 300],            # Number of trees in the forest\n",
    "    'max_depth': [None, 10, 20, 30],             # Maximum depth of each tree\n",
    "    'min_samples_split': [5, 10],             # Minimum samples to split a node\n",
    "    'min_samples_leaf':  [2, 4],               # Minimum samples at a leaf node\n",
    "    'max_features': ['auto', 'sqrt', 'log2']     # Number of features to consider for the best split\n",
    "}\n",
    "\n",
    "stratified_kfold = StratifiedKFold(n_splits=5, shuffle=True, random_state=42)\n",
    "\n",
    "random_search = RandomizedSearchCV(estimator=rf, param_distributions=param_grid, cv = stratified_kfold, \n",
    "                                   n_iter=20, n_jobs=-1, verbose=2, random_state=42, scoring='accuracy')\n",
    "random_search.fit(X_train, y_train)\n",
    "\n",
    "best_params = random_search.best_params_\n",
    "print(\"Best Parameters from Randomized Search:\", best_params)\n",
    "best_rf = random_search.best_estimator_"
   ],
   "id": "d3b7d8f3e38ea437",
   "outputs": [
    {
     "name": "stdout",
     "output_type": "stream",
     "text": [
      "Fitting 5 folds for each of 20 candidates, totalling 100 fits\n"
     ]
    },
    {
     "name": "stderr",
     "output_type": "stream",
     "text": [
      "/Users/skc/Desktop/Work/ml-project/venv/lib/python3.12/site-packages/sklearn/model_selection/_validation.py:540: FitFailedWarning: \n",
      "20 fits failed out of a total of 100.\n",
      "The score on these train-test partitions for these parameters will be set to nan.\n",
      "If these failures are not expected, you can try to debug them by setting error_score='raise'.\n",
      "\n",
      "Below are more details about the failures:\n",
      "--------------------------------------------------------------------------------\n",
      "8 fits failed with the following error:\n",
      "Traceback (most recent call last):\n",
      "  File \"/Users/skc/Desktop/Work/ml-project/venv/lib/python3.12/site-packages/sklearn/model_selection/_validation.py\", line 888, in _fit_and_score\n",
      "    estimator.fit(X_train, y_train, **fit_params)\n",
      "  File \"/Users/skc/Desktop/Work/ml-project/venv/lib/python3.12/site-packages/sklearn/base.py\", line 1466, in wrapper\n",
      "    estimator._validate_params()\n",
      "  File \"/Users/skc/Desktop/Work/ml-project/venv/lib/python3.12/site-packages/sklearn/base.py\", line 666, in _validate_params\n",
      "    validate_parameter_constraints(\n",
      "  File \"/Users/skc/Desktop/Work/ml-project/venv/lib/python3.12/site-packages/sklearn/utils/_param_validation.py\", line 95, in validate_parameter_constraints\n",
      "    raise InvalidParameterError(\n",
      "sklearn.utils._param_validation.InvalidParameterError: The 'max_features' parameter of RandomForestClassifier must be an int in the range [1, inf), a float in the range (0.0, 1.0], a str among {'sqrt', 'log2'} or None. Got 'auto' instead.\n",
      "\n",
      "--------------------------------------------------------------------------------\n",
      "12 fits failed with the following error:\n",
      "Traceback (most recent call last):\n",
      "  File \"/Users/skc/Desktop/Work/ml-project/venv/lib/python3.12/site-packages/sklearn/model_selection/_validation.py\", line 888, in _fit_and_score\n",
      "    estimator.fit(X_train, y_train, **fit_params)\n",
      "  File \"/Users/skc/Desktop/Work/ml-project/venv/lib/python3.12/site-packages/sklearn/base.py\", line 1466, in wrapper\n",
      "    estimator._validate_params()\n",
      "  File \"/Users/skc/Desktop/Work/ml-project/venv/lib/python3.12/site-packages/sklearn/base.py\", line 666, in _validate_params\n",
      "    validate_parameter_constraints(\n",
      "  File \"/Users/skc/Desktop/Work/ml-project/venv/lib/python3.12/site-packages/sklearn/utils/_param_validation.py\", line 95, in validate_parameter_constraints\n",
      "    raise InvalidParameterError(\n",
      "sklearn.utils._param_validation.InvalidParameterError: The 'max_features' parameter of RandomForestClassifier must be an int in the range [1, inf), a float in the range (0.0, 1.0], a str among {'log2', 'sqrt'} or None. Got 'auto' instead.\n",
      "\n",
      "  warnings.warn(some_fits_failed_message, FitFailedWarning)\n",
      "/Users/skc/Desktop/Work/ml-project/venv/lib/python3.12/site-packages/sklearn/model_selection/_search.py:1103: UserWarning: One or more of the test scores are non-finite: [       nan 0.9260038         nan 0.92884256 0.90266088 0.93024485\n",
      " 0.93009095 0.902849   0.90237015 0.9260551  0.9032936         nan\n",
      " 0.9244134  0.93012515 0.92653394 0.90312259 0.92689304 0.90266088\n",
      " 0.92767969        nan]\n",
      "  warnings.warn(\n"
     ]
    },
    {
     "name": "stdout",
     "output_type": "stream",
     "text": [
      "Best Parameters from Randomized Search: {'n_estimators': 100, 'min_samples_split': 5, 'min_samples_leaf': 2, 'max_features': 'sqrt', 'max_depth': None}\n"
     ]
    }
   ],
   "execution_count": 32
  },
  {
   "metadata": {
    "ExecuteTime": {
     "end_time": "2024-12-03T02:37:44.653052Z",
     "start_time": "2024-12-03T02:37:44.503738Z"
    }
   },
   "cell_type": "code",
   "source": [
    "y_pred = best_rf.predict(X_test)\n",
    "\n",
    "print(\"Accuracy:\", accuracy_score(y_test, y_pred))\n",
    "print(\"Classification Report:\\n\", classification_report(y_test, y_pred))\n",
    "print(\"Confusion Matrix:\\n\", confusion_matrix(y_test, y_pred))"
   ],
   "id": "cb52635bcc745762",
   "outputs": [
    {
     "name": "stdout",
     "output_type": "stream",
     "text": [
      "Accuracy: 0.9350205198358413\n",
      "Classification Report:\n",
      "               precision    recall  f1-score   support\n",
      "\n",
      "       False       0.98      0.89      0.93      7332\n",
      "        True       0.90      0.98      0.94      7288\n",
      "\n",
      "    accuracy                           0.94     14620\n",
      "   macro avg       0.94      0.94      0.93     14620\n",
      "weighted avg       0.94      0.94      0.93     14620\n",
      "\n",
      "Confusion Matrix:\n",
      " [[6547  785]\n",
      " [ 165 7123]]\n"
     ]
    }
   ],
   "execution_count": 33
  },
  {
   "metadata": {
    "ExecuteTime": {
     "end_time": "2024-12-03T02:38:03.267230Z",
     "start_time": "2024-12-03T02:37:44.729808Z"
    }
   },
   "cell_type": "code",
   "source": [
    "# Define the scoring metrics you want to calculate during cross-validation\n",
    "scoring = {\n",
    "    'precision': make_scorer(precision_score, average='weighted'),\n",
    "    'recall': make_scorer(recall_score, average='weighted'),\n",
    "    'f1': make_scorer(f1_score, average='weighted'), \n",
    "    'accuracy': 'accuracy'\n",
    "}\n",
    "\n",
    "# Perform cross-validation and get scores for precision, recall, and F1-score\n",
    "cv_results = cross_validate(best_rf, X, y, cv=stratified_kfold, scoring=scoring)\n",
    "\n",
    "# Print the cross-validation metrics\n",
    "print(f\"Cross-Validation Precision: {cv_results['test_precision'].mean():.2f} ± {cv_results['test_precision'].std():.2f}\")\n",
    "print(f\"Cross-Validation Recall: {cv_results['test_recall'].mean():.2f} ± {cv_results['test_recall'].std():.2f}\")\n",
    "print(f\"Cross-Validation F1 Score: {cv_results['test_f1'].mean():.2f} ± {cv_results['test_f1'].std():.2f}\")\n",
    "print(f\"Cross-Validation Accuracy: {cv_results['test_accuracy'].mean():.2f} ± {cv_results['test_accuracy'].std():.2f}\")\n"
   ],
   "id": "52a8de97ee1d5082",
   "outputs": [
    {
     "name": "stdout",
     "output_type": "stream",
     "text": [
      "Cross-Validation Precision: 0.95 ± 0.00\n",
      "Cross-Validation Recall: 0.95 ± 0.00\n",
      "Cross-Validation F1 Score: 0.95 ± 0.00\n",
      "Cross-Validation Accuracy: 0.95 ± 0.00\n"
     ]
    }
   ],
   "execution_count": 34
  },
  {
   "metadata": {},
   "cell_type": "markdown",
   "source": "## Logistic Regression",
   "id": "e1a613f5ae6b7978"
  },
  {
   "metadata": {
    "ExecuteTime": {
     "end_time": "2024-12-03T02:38:05.058490Z",
     "start_time": "2024-12-03T02:38:03.302994Z"
    }
   },
   "cell_type": "code",
   "source": [
    "log_reg = LogisticRegression(random_state=42)\n",
    "\n",
    "param_dist = {\n",
    "    'C': np.logspace(-4, 4, 20),            # Regularization strength\n",
    "    'penalty': ['l2'],                      # Regularization type\n",
    "    'solver': ['liblinear', 'lbfgs'],       # Solver for optimization\n",
    "}\n",
    "\n",
    "random_search = RandomizedSearchCV(estimator=log_reg, param_distributions=param_dist,\n",
    "                                   n_iter=20, cv=stratified_kfold, n_jobs=-1,\n",
    "                                   verbose=2, random_state=42, scoring='accuracy')\n",
    "\n",
    "random_search.fit(X_train, y_train)\n",
    "\n",
    "best_params = random_search.best_params_\n",
    "best_lr_model = random_search.best_estimator_\n",
    "\n",
    "print(\"Best Parameters from Randomized Search:\", best_params)"
   ],
   "id": "58a0210d927c9a9c",
   "outputs": [
    {
     "name": "stdout",
     "output_type": "stream",
     "text": [
      "Fitting 5 folds for each of 20 candidates, totalling 100 fits\n",
      "Best Parameters from Randomized Search: {'solver': 'liblinear', 'penalty': 'l2', 'C': np.float64(0.23357214690901212)}\n"
     ]
    }
   ],
   "execution_count": 35
  },
  {
   "metadata": {
    "ExecuteTime": {
     "end_time": "2024-12-03T02:38:05.112955Z",
     "start_time": "2024-12-03T02:38:05.095064Z"
    }
   },
   "cell_type": "code",
   "source": [
    "y_pred = best_lr_model.predict(X_test)\n",
    "\n",
    "\n",
    "print(\"Accuracy:\", accuracy_score(y_test, y_pred))\n",
    "print(\"Classification Report:\\n\", classification_report(y_test, y_pred))\n",
    "print(\"Confusion Matrix:\\n\", confusion_matrix(y_test, y_pred))"
   ],
   "id": "ae549f36b23d670",
   "outputs": [
    {
     "name": "stdout",
     "output_type": "stream",
     "text": [
      "Accuracy: 0.8736662106703147\n",
      "Classification Report:\n",
      "               precision    recall  f1-score   support\n",
      "\n",
      "       False       0.89      0.86      0.87      7332\n",
      "        True       0.86      0.89      0.88      7288\n",
      "\n",
      "    accuracy                           0.87     14620\n",
      "   macro avg       0.87      0.87      0.87     14620\n",
      "weighted avg       0.87      0.87      0.87     14620\n",
      "\n",
      "Confusion Matrix:\n",
      " [[6274 1058]\n",
      " [ 789 6499]]\n"
     ]
    }
   ],
   "execution_count": 36
  },
  {
   "metadata": {
    "ExecuteTime": {
     "end_time": "2024-12-03T02:38:05.816836Z",
     "start_time": "2024-12-03T02:38:05.191306Z"
    }
   },
   "cell_type": "code",
   "source": [
    "# cv_scores = cross_val_score(best_model, X, y, cv=stratified_kfold)\n",
    "# \n",
    "# print(f\"Cross-Validation Accuracy: {cv_scores.mean():.2f} ± {cv_scores.std():.2f}\")\n",
    "\n",
    "# Define the scoring metrics you want to calculate during cross-validation\n",
    "scoring = {\n",
    "    'precision': make_scorer(precision_score, average='weighted'),\n",
    "    'recall': make_scorer(recall_score, average='weighted'),\n",
    "    'f1': make_scorer(f1_score, average='weighted'), \n",
    "    'accuracy': 'accuracy'\n",
    "}\n",
    "\n",
    "# Perform cross-validation and get scores for precision, recall, and F1-score\n",
    "cv_results = cross_validate(best_lr_model, X, y, cv=stratified_kfold, scoring=scoring)\n",
    "\n",
    "# Print the cross-validation metrics\n",
    "print(f\"Cross-Validation Precision: {cv_results['test_precision'].mean():.2f} ± {cv_results['test_precision'].std():.2f}\")\n",
    "print(f\"Cross-Validation Recall: {cv_results['test_recall'].mean():.2f} ± {cv_results['test_recall'].std():.2f}\")\n",
    "print(f\"Cross-Validation F1 Score: {cv_results['test_f1'].mean():.2f} ± {cv_results['test_f1'].std():.2f}\")\n",
    "print(f\"Cross-Validation Accuracy: {cv_results['test_accuracy'].mean():.2f} ± {cv_results['test_accuracy'].std():.2f}\")\n"
   ],
   "id": "c457bc60030bedcf",
   "outputs": [
    {
     "name": "stdout",
     "output_type": "stream",
     "text": [
      "Cross-Validation Precision: 0.89 ± 0.00\n",
      "Cross-Validation Recall: 0.89 ± 0.00\n",
      "Cross-Validation F1 Score: 0.89 ± 0.00\n",
      "Cross-Validation Accuracy: 0.89 ± 0.00\n"
     ]
    }
   ],
   "execution_count": 37
  },
  {
   "metadata": {},
   "cell_type": "markdown",
   "source": "## SVM",
   "id": "f0e65e8a520dbc5a"
  },
  {
   "metadata": {
    "ExecuteTime": {
     "end_time": "2024-12-03T02:58:59.145659Z",
     "start_time": "2024-12-03T02:58:59.141018Z"
    }
   },
   "cell_type": "code",
   "source": "",
   "id": "ec20590cb5de24e5",
   "outputs": [],
   "execution_count": 42
  },
  {
   "metadata": {
    "ExecuteTime": {
     "end_time": "2024-12-03T03:52:30.682778Z",
     "start_time": "2024-12-03T03:46:30.645902Z"
    }
   },
   "cell_type": "code",
   "source": [
    "svm = SVC(random_state=42)\n",
    "\n",
    "param_dist = {\n",
    "    'C': np.logspace(-1, 1, 3),              # Regularization strength; controls the trade-off between misclassification and margin maximization\n",
    "    'kernel': ['rbf', 'poly'],      # Type of kernel function; linear, radial basis, and polynomial\n",
    "    'gamma': ['scale', 'auto']                # Kernel coefficient; important for RBF and polynomial kernels\n",
    "}\n",
    "\n",
    "random_search = RandomizedSearchCV(estimator=svm, param_distributions=param_dist,\n",
    "                                   n_iter=20, cv=stratified_kfold, n_jobs=-1,\n",
    "                                   verbose=2, random_state=42, scoring='accuracy')\n",
    "\n",
    "random_search.fit(X_train, y_train)\n",
    "\n",
    "best_params = random_search.best_params_\n",
    "best_svm_model = random_search.best_estimator_\n",
    "\n",
    "print(\"Best Parameters from Randomized Search:\", best_params)\n"
   ],
   "id": "b10c5e41a563cc26",
   "outputs": [
    {
     "name": "stdout",
     "output_type": "stream",
     "text": [
      "Fitting 5 folds for each of 12 candidates, totalling 60 fits\n"
     ]
    },
    {
     "name": "stderr",
     "output_type": "stream",
     "text": [
      "/Users/skc/Desktop/Work/ml-project/venv/lib/python3.12/site-packages/sklearn/model_selection/_search.py:320: UserWarning: The total space of parameters 12 is smaller than n_iter=20. Running 12 iterations. For exhaustive searches, use GridSearchCV.\n",
      "  warnings.warn(\n"
     ]
    },
    {
     "name": "stdout",
     "output_type": "stream",
     "text": [
      "Best Parameters from Randomized Search: {'kernel': 'rbf', 'gamma': 'scale', 'C': np.float64(10.0)}\n"
     ]
    }
   ],
   "execution_count": 45
  },
  {
   "metadata": {
    "ExecuteTime": {
     "end_time": "2024-12-03T03:52:43.024935Z",
     "start_time": "2024-12-03T03:52:36.908355Z"
    }
   },
   "cell_type": "code",
   "source": [
    "y_pred = best_svm_model.predict(X_test)\n",
    "\n",
    "\n",
    "print(\"Accuracy:\", accuracy_score(y_test, y_pred))\n",
    "print(\"Classification Report:\\n\", classification_report(y_test, y_pred))\n",
    "print(\"Confusion Matrix:\\n\", confusion_matrix(y_test, y_pred))"
   ],
   "id": "4ab4d92196406195",
   "outputs": [
    {
     "name": "stdout",
     "output_type": "stream",
     "text": [
      "Accuracy: 0.9316689466484268\n",
      "Classification Report:\n",
      "               precision    recall  f1-score   support\n",
      "\n",
      "       False       0.97      0.89      0.93      7332\n",
      "        True       0.90      0.97      0.93      7288\n",
      "\n",
      "    accuracy                           0.93     14620\n",
      "   macro avg       0.93      0.93      0.93     14620\n",
      "weighted avg       0.93      0.93      0.93     14620\n",
      "\n",
      "Confusion Matrix:\n",
      " [[6552  780]\n",
      " [ 219 7069]]\n"
     ]
    }
   ],
   "execution_count": 47
  },
  {
   "metadata": {
    "ExecuteTime": {
     "end_time": "2024-12-03T04:39:31.913564Z",
     "start_time": "2024-12-03T04:34:40.891024Z"
    }
   },
   "cell_type": "code",
   "source": [
    "# Define the scoring metrics you want to calculate during cross-validation\n",
    "scoring = {\n",
    "    'precision': make_scorer(precision_score, average='weighted'),\n",
    "    'recall': make_scorer(recall_score, average='weighted'),\n",
    "    'f1': make_scorer(f1_score, average='weighted'), \n",
    "    'accuracy': 'accuracy'\n",
    "}\n",
    "\n",
    "# Perform cross-validation and get scores for precision, recall, and F1-score\n",
    "cv_results = cross_validate(best_svm_model, X, y, cv=stratified_kfold, scoring=scoring)\n",
    "\n",
    "# Print the cross-validation metrics\n",
    "print(f\"Cross-Validation Precision: {cv_results['test_precision'].mean():.2f} ± {cv_results['test_precision'].std():.2f}\")\n",
    "print(f\"Cross-Validation Recall: {cv_results['test_recall'].mean():.2f} ± {cv_results['test_recall'].std():.2f}\")\n",
    "print(f\"Cross-Validation F1 Score: {cv_results['test_f1'].mean():.2f} ± {cv_results['test_f1'].std():.2f}\")\n",
    "print(f\"Cross-Validation Accuracy: {cv_results['test_accuracy'].mean():.2f} ± {cv_results['test_accuracy'].std():.2f}\")\n",
    "\n",
    "\n"
   ],
   "id": "99f0d25ce64bd59f",
   "outputs": [
    {
     "name": "stdout",
     "output_type": "stream",
     "text": [
      "Cross-Validation Precision: 0.94 ± 0.00\n",
      "Cross-Validation Recall: 0.93 ± 0.00\n",
      "Cross-Validation F1 Score: 0.93 ± 0.00\n",
      "Cross-Validation Accuracy: 0.93 ± 0.00\n"
     ]
    }
   ],
   "execution_count": 49
  },
  {
   "metadata": {},
   "cell_type": "code",
   "outputs": [],
   "execution_count": null,
   "source": "",
   "id": "e07b00885ee3f745"
  },
  {
   "metadata": {},
   "cell_type": "code",
   "outputs": [],
   "execution_count": null,
   "source": "",
   "id": "fecb2dc535b9f7d0"
  }
 ],
 "metadata": {
  "kernelspec": {
   "display_name": "Python 3",
   "language": "python",
   "name": "python3"
  },
  "language_info": {
   "codemirror_mode": {
    "name": "ipython",
    "version": 2
   },
   "file_extension": ".py",
   "mimetype": "text/x-python",
   "name": "python",
   "nbconvert_exporter": "python",
   "pygments_lexer": "ipython2",
   "version": "2.7.6"
  }
 },
 "nbformat": 4,
 "nbformat_minor": 5
}
